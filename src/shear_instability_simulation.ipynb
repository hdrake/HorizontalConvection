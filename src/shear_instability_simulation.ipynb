{
 "cells": [
  {
   "cell_type": "code",
   "execution_count": 1,
   "id": "4950007c-069a-43d8-849c-856cf6071560",
   "metadata": {},
   "outputs": [
    {
     "name": "stderr",
     "output_type": "stream",
     "text": [
      "\u001b[32m\u001b[1m  Activating\u001b[22m\u001b[39m project at `/dfs6/pub/ikeshwan/code/HorizontalConvection`\n"
     ]
    }
   ],
   "source": [
    "] activate ../"
   ]
  },
  {
   "cell_type": "code",
   "execution_count": 2,
   "id": "22b79a6d-9dd8-4b68-aa9b-d715385c6508",
   "metadata": {},
   "outputs": [
    {
     "name": "stdout",
     "output_type": "stream",
     "text": [
      "\u001b[32m\u001b[1mStatus\u001b[22m\u001b[39m `/dfs6/pub/ikeshwan/code/HorizontalConvection/Project.toml`\n",
      "\u001b[32m⌃\u001b[39m \u001b[90m[13f3f980] \u001b[39mCairoMakie v0.10.10\n",
      "  \u001b[90m[7073ff75] \u001b[39mIJulia v1.24.2\n",
      "\u001b[32m⌃\u001b[39m \u001b[90m[b946abbf] \u001b[39mNaNStatistics v0.6.31\n",
      "\u001b[32m⌃\u001b[39m \u001b[90m[9e8cae18] \u001b[39mOceananigans v0.88.0\n",
      "\u001b[36m\u001b[1mInfo\u001b[22m\u001b[39m Packages marked with \u001b[32m⌃\u001b[39m have new versions available and may be upgradable.\n"
     ]
    }
   ],
   "source": [
    "] status"
   ]
  },
  {
   "cell_type": "code",
   "execution_count": 3,
   "id": "6e7884c3-8468-466d-bd8e-ed332c5e791d",
   "metadata": {},
   "outputs": [],
   "source": [
    "using Oceananigans\n",
    "#using Printf"
   ]
  },
  {
   "cell_type": "code",
   "execution_count": 4,
   "id": "76eb90c2-fc39-429c-bcd5-b3443dcf8afb",
   "metadata": {},
   "outputs": [
    {
     "data": {
      "text/plain": [
       "128×1×128 RectilinearGrid{Float64, Periodic, Flat, Bounded} on CPU with 3×0×3 halo\n",
       "├── Periodic x ∈ [-5.0, 5.0)      regularly spaced with Δx=0.078125\n",
       "├── Flat y\n",
       "└── Bounded  z ∈ [-5.0, 5.0]      regularly spaced with Δz=0.078125"
      ]
     },
     "execution_count": 4,
     "metadata": {},
     "output_type": "execute_result"
    }
   ],
   "source": [
    "grid = RectilinearGrid(size=(128, 128), x=(-5, 5), z=(-5, 5),\n",
    "                       topology=(Periodic, Flat, Bounded))"
   ]
  },
  {
   "cell_type": "code",
   "execution_count": 17,
   "id": "56f71685-ac0f-4853-8a95-e77c15578ab6",
   "metadata": {},
   "outputs": [],
   "source": [
    "shear_flow(x, y, z, t) = tanh(z)\n",
    "\n",
    "stratification(x, y, z, t, p) = p.h * p.Ri * tanh(z / p.h)\n",
    "\n",
    "U = BackgroundField(shear_flow)\n",
    "\n",
    "B = BackgroundField(stratification, parameters=(Ri=0.1, h=1/4));"
   ]
  },
  {
   "cell_type": "code",
   "execution_count": 18,
   "id": "7b385ab3-7825-4fdc-bef9-feb8f1e2c6bc",
   "metadata": {},
   "outputs": [
    {
     "ename": "LoadError",
     "evalue": "MethodError: no method matching shear_flow(::Int64, ::Float64, ::Int64)\n\n\u001b[0mClosest candidates are:\n\u001b[0m  shear_flow(::Any, ::Any, ::Any, \u001b[91m::Any\u001b[39m)\n\u001b[0m\u001b[90m   @\u001b[39m \u001b[35mMain\u001b[39m \u001b[90m\u001b[4mIn[17]:1\u001b[24m\u001b[39m\n",
     "output_type": "error",
     "traceback": [
      "MethodError: no method matching shear_flow(::Int64, ::Float64, ::Int64)\n\n\u001b[0mClosest candidates are:\n\u001b[0m  shear_flow(::Any, ::Any, ::Any, \u001b[91m::Any\u001b[39m)\n\u001b[0m\u001b[90m   @\u001b[39m \u001b[35mMain\u001b[39m \u001b[90m\u001b[4mIn[17]:1\u001b[24m\u001b[39m\n",
      "",
      "Stacktrace:",
      " [1] _broadcast_getindex_evalf",
      "   @ ./broadcast.jl:683 [inlined]",
      " [2] _broadcast_getindex",
      "   @ ./broadcast.jl:656 [inlined]",
      " [3] getindex",
      "   @ ./broadcast.jl:610 [inlined]",
      " [4] copy",
      "   @ ./broadcast.jl:912 [inlined]",
      " [5] materialize(bc::Base.Broadcast.Broadcasted{Base.Broadcast.DefaultArrayStyle{1}, Nothing, typeof(shear_flow), Tuple{Int64, SubArray{Float64, 1, OffsetArrays.OffsetVector{Float64, StepRangeLen{Float64, Base.TwicePrecision{Float64}, Base.TwicePrecision{Float64}, Int64}}, Tuple{UnitRange{Int64}}, true}, Int64}})",
      "   @ Base.Broadcast ./broadcast.jl:873",
      " [6] top-level scope",
      "   @ In[18]:11"
     ]
    }
   ],
   "source": [
    "using CairoMakie\n",
    "\n",
    "zF = znodes(grid, Face())\n",
    "zC = znodes(grid, Center())\n",
    "\n",
    "Ri, h = B.parameters\n",
    "\n",
    "fig = Figure(size = (850, 450))\n",
    "\n",
    "ax = Axis(fig[1, 1], xlabel = \"U(z)\", ylabel = \"z\", limits=((nothing, nothing), (-5, 5)))\n",
    "lines!(ax, shear_flow.(0, zC, 0), zC; linewidth = 3)\n",
    "\n",
    "ax = Axis(fig[1, 2], xlabel = \"B(z)\", limits=((nothing, nothing), (-5, 5)))\n",
    "lines!(ax, [stratification(0, z, 0, (Ri=Ri, h=h)) for z in zC], zC; linewidth = 3, color = :red)\n",
    "\n",
    "ax = Axis(fig[1, 3], xlabel = \"Ri(z)\", limits=((nothing, nothing), (-5, 5)))\n",
    "lines!(ax, [Ri * sech(z / h)^2 / sech(z)^2 for z in zF], zF; linewidth = 3, color = :black) # Ri(z)= ∂_z B / (∂_z U)²; derivatives computed by hand\n",
    "\n",
    "fig"
   ]
  },
  {
   "cell_type": "code",
   "execution_count": 7,
   "id": "bda8f8f4-eab1-431f-8325-1df43bbc5116",
   "metadata": {},
   "outputs": [
    {
     "data": {
      "text/plain": [
       "NonhydrostaticModel{CPU, RectilinearGrid}(time = 0 seconds, iteration = 0)\n",
       "├── grid: 128×1×128 RectilinearGrid{Float64, Periodic, Flat, Bounded} on CPU with 3×0×3 halo\n",
       "├── timestepper: RungeKutta3TimeStepper\n",
       "├── tracers: b\n",
       "├── closure: ScalarDiffusivity{ExplicitTimeDiscretization}(ν=2.0e-5, κ=(b=2.0e-5,))\n",
       "├── buoyancy: BuoyancyTracer with ĝ = NegativeZDirection()\n",
       "└── coriolis: Nothing"
      ]
     },
     "execution_count": 7,
     "metadata": {},
     "output_type": "execute_result"
    }
   ],
   "source": [
    "model = NonhydrostaticModel(timestepper = :RungeKutta3,\n",
    "                              advection = UpwindBiasedFifthOrder(),\n",
    "                                   grid = grid,\n",
    "                               coriolis = nothing,\n",
    "                      background_fields = (u=U, b=B),\n",
    "                                closure = ScalarDiffusivity(ν=0.2e-4, κ=0.2e-4),\n",
    "                               buoyancy = BuoyancyTracer(),\n",
    "                                tracers = :b)"
   ]
  },
  {
   "cell_type": "code",
   "execution_count": 8,
   "id": "96eb4536-5fb0-4f8c-ad5e-a1ed50b50667",
   "metadata": {},
   "outputs": [
    {
     "data": {
      "text/plain": [
       "Simulation of NonhydrostaticModel{CPU, RectilinearGrid}(time = 0 seconds, iteration = 0)\n",
       "├── Next time step: 100 ms\n",
       "├── Elapsed wall time: 0 seconds\n",
       "├── Wall time per iteration: NaN days\n",
       "├── Stop time: Inf days\n",
       "├── Stop iteration : 2000.0\n",
       "├── Wall time limit: Inf\n",
       "├── Callbacks: OrderedDict with 4 entries:\n",
       "│   ├── stop_time_exceeded => Callback of stop_time_exceeded on IterationInterval(1)\n",
       "│   ├── stop_iteration_exceeded => Callback of stop_iteration_exceeded on IterationInterval(1)\n",
       "│   ├── wall_time_limit_exceeded => Callback of wall_time_limit_exceeded on IterationInterval(1)\n",
       "│   └── nan_checker => Callback of NaNChecker for u on IterationInterval(100)\n",
       "├── Output writers: OrderedDict with no entries\n",
       "└── Diagnostics: OrderedDict with no entries"
      ]
     },
     "execution_count": 8,
     "metadata": {},
     "output_type": "execute_result"
    }
   ],
   "source": [
    "Δt = 0.1 \n",
    "simulation = Simulation(model, Δt=Δt, stop_iteration=2000, verbose=false)"
   ]
  },
  {
   "cell_type": "code",
   "execution_count": 9,
   "id": "f96a0570-4cc1-4d71-a2d9-29b61a4102a6",
   "metadata": {},
   "outputs": [],
   "source": [
    "using Random, Statistics\n",
    "\n",
    "u, v, w = model.velocities\n",
    "b = model.tracers.b\n",
    "xb, yb, zb = nodes(b)\n",
    "total_b = Field(b + model.background_fields.tracers.b)\n",
    "\n",
    "mean_perturbation_kinetic_energy = Field(Average(1/2 * (u^2 + w^2)))\n",
    "\n",
    "noise(x, y, z) = 1.e-3*randn()\n",
    "set!(model, u=noise, w=noise, b=noise)"
   ]
  },
  {
   "cell_type": "code",
   "execution_count": 10,
   "id": "bce14bf2-19e0-4851-8c8f-f661dcbedc11",
   "metadata": {},
   "outputs": [
    {
     "data": {
      "text/plain": [
       "JLD2OutputWriter scheduled on TimeInterval(1 second):\n",
       "├── filepath: ./../output/stratified_shear_data/example.jld2\n",
       "├── 2 outputs: (b, B)\n",
       "├── array type: Array{Float64}\n",
       "├── including: [:grid, :coriolis, :buoyancy, :closure]\n",
       "└── max filesize: Inf YiB"
      ]
     },
     "execution_count": 10,
     "metadata": {},
     "output_type": "execute_result"
    }
   ],
   "source": [
    "simulation.output_writers[:buoyancy] =\n",
    "    JLD2OutputWriter(model, (b=b, B=total_b),\n",
    "                     schedule = TimeInterval(1.0),\n",
    "                     filename = \"../output/stratified_shear_data/example.jld2\",\n",
    "                     overwrite_existing = true)"
   ]
  },
  {
   "cell_type": "code",
   "execution_count": 11,
   "id": "84ec0232-24b0-4a63-a471-577bc5ce9d1a",
   "metadata": {},
   "outputs": [
    {
     "name": "stderr",
     "output_type": "stream",
     "text": [
      "\u001b[36m\u001b[1m[ \u001b[22m\u001b[39m\u001b[36m\u001b[1mInfo: \u001b[22m\u001b[39m*** Running a simulation of Kelvin-Helmholtz instability...\n"
     ]
    }
   ],
   "source": [
    "@info \"*** Running a simulation of Kelvin-Helmholtz instability...\"\n",
    "run!(simulation)"
   ]
  },
  {
   "cell_type": "code",
   "execution_count": 12,
   "id": "b797b32a-0ee8-4230-90a6-5e4fd2ae5508",
   "metadata": {},
   "outputs": [
    {
     "name": "stderr",
     "output_type": "stream",
     "text": [
      "\u001b[36m\u001b[1m[ \u001b[22m\u001b[39m\u001b[36m\u001b[1mInfo: \u001b[22m\u001b[39mMaking a neat movie of stratified shear flow...\n"
     ]
    },
    {
     "ename": "LoadError",
     "evalue": "LoadError: UndefVarError: `@sprintf` not defined\nin expression starting at In[12]:18",
     "output_type": "error",
     "traceback": [
      "LoadError: UndefVarError: `@sprintf` not defined\nin expression starting at In[12]:18",
      ""
     ]
    }
   ],
   "source": [
    "@info \"Making a neat movie of stratified shear flow...\"\n",
    "\n",
    "filepath = simulation.output_writers[:buoyancy].filepath\n",
    "\n",
    "B_timeseries = FieldTimeSeries(filepath, \"B\")\n",
    "\n",
    "times = B_timeseries.times\n",
    "t_final = times[end]\n",
    "\n",
    "n = Observable(1)\n",
    "\n",
    "Bₙ = @lift interior(B_timeseries, :, 1, :, $n)\n",
    "\n",
    "fig = Figure(size=(800, 600))\n",
    "\n",
    "kwargs = (xlabel=\"x [m]\", ylabel=\"z [m]\", limits = ((xb[1], xb[end]), (-3, 3)), aspect=1,)\n",
    "\n",
    "title = @lift @sprintf(\"temperature [°C] at t = %.2f\", times[$n])\n",
    "\n",
    "ax_B = Axis(fig[1, 1]; title = title, kwargs...)\n",
    "\n",
    "B_lims = (-maximum(abs, interior(B_timeseries, :, 1, :, :)), maximum(abs, interior(B_timeseries, :, 1, :, :)))\n",
    "\n",
    "hm_B = heatmap!(ax_B, xb, zb, Bₙ; colorrange = B_lims, colormap = :balance)\n",
    "Colorbar(fig[1, 2], hm_B)\n",
    "\n",
    "frames = 1:length(times)\n",
    "\n",
    "record(fig, \"../animations/shear_instability_example.mp4\", frames, framerate=8) do i\n",
    "    @info \"Plotting frame $i of $(frames[end])...\"\n",
    "    n[] = i\n",
    "end"
   ]
  },
  {
   "cell_type": "code",
   "execution_count": 13,
   "id": "30d73389-75b0-4199-a210-b02e860e255c",
   "metadata": {},
   "outputs": [
    {
     "ename": "LoadError",
     "evalue": "UndefVarError: `B_lims` not defined",
     "output_type": "error",
     "traceback": [
      "UndefVarError: `B_lims` not defined",
      "",
      "Stacktrace:",
      " [1] top-level scope",
      "   @ In[13]:4"
     ]
    }
   ],
   "source": [
    "fig = Figure(size=(900, 600))\n",
    "kwargs = (xlabel=\"x [m]\", ylabel=\"z [m]\", limits = ((xb[1], xb[end]), (zb[1], zb[end])), aspect=1,)\n",
    "ax_B = Axis(fig[1, 1]; title = \"temperature [°C] at t=0 minutes\", kwargs...)\n",
    "hm_B = heatmap!(ax_B, xb, zb, interior(B_timeseries, :, 1, :, 1); colorrange = B_lims, colormap = :balance)\n",
    "\n",
    "ax_B = Axis(fig[1, 2]; title = \"temperature [°C] at t=90 minutes\", kwargs...)\n",
    "hm_B = heatmap!(ax_B, xb, zb, interior(B_timeseries, :, 1, :, 90); colorrange = B_lims, colormap = :balance)\n",
    "lines!(ax_B, [0, 0], [-5, 5], linestyle=:dash, color=:black)\n",
    "\n",
    "ax_B = Axis(fig[1, 3]; title = \"temperature [°C] at t=180 minutes\", kwargs...)\n",
    "hm_B = heatmap!(ax_B, xb, zb, interior(B_timeseries, :, 1, :, 180); colorrange = B_lims, colormap = :balance)\n",
    "\n",
    "ax_B = Axis(fig[2, 2]; title = \"temperature at t=90 minutes\", xlabel=\"temperature [ºC]\", ylabel=\"z [m]\", limits=(0.75.*B_lims, (zb[1], zb[end])))\n",
    "l_B = lines!(ax_B, interior(B_timeseries, 64, 1, :, 90), zb, label=\"x=0 m\")\n",
    "\n",
    "Colorbar(fig[1, 4], hm_B)\n",
    "leg = axislegend(ax_B, position=:lt)\n",
    "save(\"../figures/shear_instability_snapshots.png\", fig)\n",
    "#fig\n",
    "\n",
    "l_B = lines!(ax_B, mean(interior(B_timeseries, :, 1, :, 90), dims=(1))[1,:], zb, label=\"zonal average\")\n",
    "delete!(leg)\n",
    "axislegend(ax_B, position=:lt)\n",
    "save(\"../figures/shear_instability_snapshots_mean.png\", fig)\n",
    "fig"
   ]
  },
  {
   "cell_type": "code",
   "execution_count": 14,
   "id": "03a00f22-c92b-4bf5-878d-4f6366ccc7ee",
   "metadata": {},
   "outputs": [
    {
     "name": "stdout",
     "output_type": "stream",
     "text": [
      "(128, 128)"
     ]
    }
   ],
   "source": [
    "using Statistics\n",
    "Bₙ = interior(B_timeseries, :, 1, :, 186)\n",
    "b_mean = mean(Bₙ, dims=(1))[1,:]\n",
    "\n",
    "lines(b_mean, zb)\n",
    "\n",
    "print(size(Bₙ))\n",
    "\n"
   ]
  },
  {
   "cell_type": "markdown",
   "id": "a54b53e0-9528-40d1-856a-34acb8da6f71",
   "metadata": {},
   "source": [
    "#### Now let's try to calculate $z_{*}$ using the heaviside step function\n",
    "\n",
    "We first need to define some xo and zo\n",
    "\n",
    "If we choose the values where xo=-2.5 and zo=-1 we need to figure out which index in the xb array and zb array refer to these values. "
   ]
  },
  {
   "cell_type": "markdown",
   "id": "125a4f18-6740-4cae-b9c9-b63f45bb4270",
   "metadata": {},
   "source": [
    "Here is my first attempt at doing this, where I found the value closest to -2.5 and -1 by hand by looking through the arrays for xo and zo respectively. This is not the best procedure."
   ]
  },
  {
   "cell_type": "code",
   "execution_count": 15,
   "id": "610bb674-0a23-4367-9dce-390f69a583ef",
   "metadata": {},
   "outputs": [
    {
     "name": "stdout",
     "output_type": "stream",
     "text": [
      "The value ∼ -2.5 is found at index 32\n",
      "The value ∼ -1 is found at index 51\n"
     ]
    }
   ],
   "source": [
    "indexxo = findfirst(x -> x == -2.5390625, xb)\n",
    "indexzo = findfirst(z -> z == -1.0546875, zb)\n",
    "\n",
    "println(\"The value ∼ -2.5 is found at index $indexxo\")\n",
    "println(\"The value ∼ -1 is found at index $indexzo\")"
   ]
  },
  {
   "cell_type": "markdown",
   "id": "af948cc8-34c7-420e-a46e-496d56d60579",
   "metadata": {},
   "source": [
    "Let's try another method, taking advantage of the absolute value function instead. Subtract our chosen value of xo from each element of the xb array. Then take the absolute value of this array and use the findmin method to find the index where the deviation from -2.5 is the smallest. Repeat for z!"
   ]
  },
  {
   "cell_type": "code",
   "execution_count": 16,
   "id": "c9dfb087-1d11-4416-9b1c-c495dea87e75",
   "metadata": {},
   "outputs": [
    {
     "data": {
      "text/plain": [
       "(0.0234375, 52)"
      ]
     },
     "execution_count": 16,
     "metadata": {},
     "output_type": "execute_result"
    }
   ],
   "source": [
    "xo_val=-2.5\n",
    "zo_val=-1.0\n",
    "index_xo = findmin(abs.(xb.-xo_val))\n",
    "index_zo = findmin(abs.(zb.-zo_val))"
   ]
  },
  {
   "cell_type": "markdown",
   "id": "e6cdcf3a-d05b-48a1-a023-cc2776744a97",
   "metadata": {},
   "source": [
    "Cool! We found that the value closest to -2.5 for xo is found at the 32nd index. This is the same result as above!\n",
    "\n",
    "BUT, the computer caught my human error from the previous method. The value closest to -1 for zo is actually the 52nd index. "
   ]
  },
  {
   "cell_type": "markdown",
   "id": "7d0cde1e-4261-4ed4-91c7-fccecaff0628",
   "metadata": {},
   "source": [
    "### Now we know $x_o = 32$ and $z_o = 52$ and we can use this to calculate the Heaviside\n",
    "\n",
    "$ H(\\rho(x,t)-\\rho(x_o, t)) = \\left\\{\n",
    "\\begin{array}{ll}\n",
    "        0, \\rho(x,t)\\leq\\rho(x_o, t)\\\\\n",
    "        1, \\rho(x,t)>\\rho(x_o,t)\\\\\n",
    "\\end{array}\n",
    "\\right.$"
   ]
  },
  {
   "cell_type": "markdown",
   "id": "3ce81400-3aab-4530-9443-7a688c7f7a5e",
   "metadata": {},
   "source": [
    "#### Since our model outputs buoyancy values rather than density and we know $b \\propto -\\rho$ We can multiply both sides of the inequality by -1. \n",
    "\n",
    "$ H(b(x_o,t)-b(x, t)) = \\left\\{\n",
    "\\begin{array}{ll}\n",
    "        0, b(x,t)\\geq b(x_o, t)\\\\\n",
    "        1, b(x,t)<b(x_o,t)\\\\\n",
    "\\end{array}\n",
    "\\right.$"
   ]
  },
  {
   "cell_type": "code",
   "execution_count": null,
   "id": "abab1a65-fd65-4597-8fcb-1de0864e6411",
   "metadata": {
    "scrolled": true
   },
   "outputs": [],
   "source": [
    "xo=32\n",
    "zo=52\n",
    "\n",
    "#Calculate the Heaviside both two methods below result in diff values\n",
    "\n",
    "H = (Bₙ .>= Bₙ[xo,zo])"
   ]
  },
  {
   "cell_type": "markdown",
   "id": "e2ece7e8-f535-415d-a667-33c712eb82ca",
   "metadata": {},
   "source": [
    "### Now, we use the following equation to find $z_{*}$.\n",
    "\n",
    "#### $z_{*} = \\frac{\\int H dV}{A} $ The integral represents the volume in the fluid where the buoyancy is less than buoyancy at \n",
    "$x_o$ Therefore, $V(b<b_o) < V_{total}$ Additionally, \n",
    "$dV = dx dy dz$ and since dy is not dependent on H, it can be taken out of the integral. Also, $A=L_x L_y$ Thus, we can cancel $L_y$ and rewrite the integral as: $z_{*} = \\frac{\\int H dx dz}{L_x}$\n",
    "\n",
    "To solve the integral, we can breakdown our function and essentially take the sum of area under the curve. $\\int H dA = \\sum_{i,j \\epsilon [0,N_x;0,N_z]} H \\Delta A$ \n",
    "\n",
    "Here, $\\Delta A = \\Delta x \\Delta z$ where $\\Delta x = \\frac{L_x}{N_x}$ and $\\Delta z = \\frac{L_z}{N_z}$. \n",
    "\n",
    "$L_x = L_z = 10$ is the prescribed length of the grid and $N_x = N_z = 128$ is the number of grid cells within the entire grid. Therefore $\\Delta A = \\frac{10^2}{128^2}$"
   ]
  },
  {
   "cell_type": "code",
   "execution_count": null,
   "id": "9ff4dd01-0590-4082-9294-1ae0c8c62dab",
   "metadata": {},
   "outputs": [],
   "source": [
    "deltaA = fill(10^2/128^2, 128)\n",
    "Lx=10\n",
    "\n",
    "z_star = sum(H .*deltaA)/Lx\n",
    "\n",
    "#z_star is a scalar...."
   ]
  },
  {
   "cell_type": "markdown",
   "id": "62a5bfbe-7f67-49c7-b51a-2dd6b54f3589",
   "metadata": {},
   "source": [
    "### Make a plot of matrix H in the x versus buoyancy in the x\n"
   ]
  },
  {
   "cell_type": "code",
   "execution_count": null,
   "id": "a26777f0-81ef-4b41-88f6-013314dda01d",
   "metadata": {},
   "outputs": [],
   "source": [
    "fstep = Figure()\n",
    "Axstep = Axis(fstep[1,1], title=\"Plot of Heaviside Step Function versus Buoyancy for xo=-2.5 and zo=-1\", xlabel=\"Buoyancy\", ylabel=\"Heaviside\")\n",
    "lines!(Axstep, Bₙ[1,:], H[1,:])\n",
    "\n",
    "fstep"
   ]
  },
  {
   "cell_type": "markdown",
   "id": "6eecf2fc-ac47-41df-92ba-0def47698181",
   "metadata": {},
   "source": [
    "Make a heatmap for xo=-2.5, zo=-1"
   ]
  },
  {
   "cell_type": "code",
   "execution_count": null,
   "id": "66294827-564f-4a40-ac3e-3d635476c35d",
   "metadata": {},
   "outputs": [],
   "source": [
    "f1 = Figure()\n",
    "ax1 = Axis(f1[1,1],title=\"Heatmap for xo=-2.5 and zo=-1\", xlabel=\"x[m]\", ylabel=\"z[m]\")\n",
    "heatmap!(ax1,xb,zb,H)\n",
    "f1"
   ]
  },
  {
   "cell_type": "markdown",
   "id": "5d468047-56c6-41cc-b2d4-ca734584cbed",
   "metadata": {},
   "source": [
    "### Now, we must repeat this process for every element in xb and zb to create the vector $\\vec{z_{*}}$"
   ]
  },
  {
   "cell_type": "code",
   "execution_count": null,
   "id": "da0e4ce9-cf44-4bda-a89a-28638b04163a",
   "metadata": {},
   "outputs": [],
   "source": []
  }
 ],
 "metadata": {
  "kernelspec": {
   "display_name": "Julia 1.9.3",
   "language": "julia",
   "name": "julia-1.9"
  },
  "language_info": {
   "file_extension": ".jl",
   "mimetype": "application/julia",
   "name": "julia",
   "version": "1.9.3"
  }
 },
 "nbformat": 4,
 "nbformat_minor": 5
}
