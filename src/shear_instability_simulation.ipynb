{
 "cells": [
  {
   "cell_type": "code",
   "execution_count": 1,
   "id": "4950007c-069a-43d8-849c-856cf6071560",
   "metadata": {},
   "outputs": [
    {
     "name": "stderr",
     "output_type": "stream",
     "text": [
      "\u001b[32m\u001b[1m  Activating\u001b[22m\u001b[39m project at `/dfs6/pub/ikeshwan/code/HorizontalConvection`\n"
     ]
    }
   ],
   "source": [
    "] activate ../"
   ]
  },
  {
   "cell_type": "code",
   "execution_count": 1,
   "id": "22b79a6d-9dd8-4b68-aa9b-d715385c6508",
   "metadata": {},
   "outputs": [
    {
     "name": "stdout",
     "output_type": "stream",
     "text": [
      "\u001b[32m\u001b[1mStatus\u001b[22m\u001b[39m `/dfs6/pub/ikeshwan/code/HorizontalConvection/Project.toml`\n",
      "\u001b[32m⌃\u001b[39m \u001b[90m[13f3f980] \u001b[39mCairoMakie v0.10.10\n",
      "  \u001b[90m[7073ff75] \u001b[39mIJulia v1.24.2\n",
      "\u001b[32m⌃\u001b[39m \u001b[90m[b946abbf] \u001b[39mNaNStatistics v0.6.31\n",
      "\u001b[32m⌃\u001b[39m \u001b[90m[9e8cae18] \u001b[39mOceananigans v0.88.0\n",
      "\u001b[36m\u001b[1mInfo\u001b[22m\u001b[39m Packages marked with \u001b[32m⌃\u001b[39m have new versions available and may be upgradable.\n"
     ]
    }
   ],
   "source": [
    "] status"
   ]
  },
  {
   "cell_type": "code",
   "execution_count": 1,
   "id": "6e7884c3-8468-466d-bd8e-ed332c5e791d",
   "metadata": {},
   "outputs": [],
   "source": [
    "using Oceananigans\n",
    "#using Printf"
   ]
  },
  {
   "cell_type": "code",
   "execution_count": 2,
   "id": "76eb90c2-fc39-429c-bcd5-b3443dcf8afb",
   "metadata": {},
   "outputs": [
    {
     "data": {
      "text/plain": [
       "128×1×64 RectilinearGrid{Float64, Periodic, Flat, Bounded} on CPU with 3×0×3 halo\n",
       "├── Periodic x ∈ [-5.0, 5.0)      regularly spaced with Δx=0.078125\n",
       "├── Flat y\n",
       "└── Bounded  z ∈ [-5.0, 5.0]      regularly spaced with Δz=0.15625"
      ]
     },
     "execution_count": 2,
     "metadata": {},
     "output_type": "execute_result"
    }
   ],
   "source": [
    "Nx = 128\n",
    "Nz = 64\n",
    "L = 10\n",
    "H = 10\n",
    "grid = RectilinearGrid(size=(Nx, Nz), x=(-L/2, L/2), z=(-H/2, H/2),\n",
    "                       topology=(Periodic, Flat, Bounded))"
   ]
  },
  {
   "cell_type": "code",
   "execution_count": 3,
   "id": "56f71685-ac0f-4853-8a95-e77c15578ab6",
   "metadata": {},
   "outputs": [],
   "source": [
    "shear_flow(x, y, z, t) = tanh(z)\n",
    "\n",
    "stratification(x, y, z, t, p) = p.h * p.Ri * tanh(z / p.h)\n",
    "\n",
    "U = BackgroundField(shear_flow)\n",
    "\n",
    "B = BackgroundField(stratification, parameters=(Ri=0.1, h=1/4));"
   ]
  },
  {
   "cell_type": "code",
   "execution_count": 4,
   "id": "7b385ab3-7825-4fdc-bef9-feb8f1e2c6bc",
   "metadata": {},
   "outputs": [
    {
     "data": {
      "image/png": "[encoded data removed]"
     },
     "execution_count": 4,
     "metadata": {},
     "output_type": "execute_result"
    }
   ],
   "source": [
    "using CairoMakie\n",
    "\n",
    "zF = znodes(grid, Face())\n",
    "zC = znodes(grid, Center())\n",
    "\n",
    "Ri, h = B.parameters\n",
    "\n",
    "fig = Figure(size = (850, 450))\n",
    "\n",
    "ax = Axis(fig[1, 1], xlabel = \"U(z)\", ylabel = \"z\", limits=((nothing, nothing), (-5, 5)))\n",
    "lines!(ax, shear_flow.(0, zC, 0, 0), zC; linewidth = 3)\n",
    "\n",
    "ax = Axis(fig[1, 2], xlabel = \"B(z)\", limits=((nothing, nothing), (-5, 5)))\n",
    "lines!(ax, [stratification(0, z, 0, 0, (Ri=Ri, h=h)) for z in zC], zC; linewidth = 3, color = :red)\n",
    "\n",
    "ax = Axis(fig[1, 3], xlabel = \"Ri(z)\", limits=((nothing, nothing), (-5, 5)))\n",
    "lines!(ax, [Ri * sech(z / h)^2 / sech(z)^2 for z in zF], zF; linewidth = 3, color = :black) # Ri(z)= ∂_z B / (∂_z U)²; derivatives computed by hand\n",
    "\n",
    "fig"
   ]
  },
  {
   "cell_type": "code",
   "execution_count": 5,
   "id": "bda8f8f4-eab1-431f-8325-1df43bbc5116",
   "metadata": {},
   "outputs": [
    {
     "data": {
      "text/plain": [
       "NonhydrostaticModel{CPU, RectilinearGrid}(time = 0 seconds, iteration = 0)\n",
       "├── grid: 128×1×64 RectilinearGrid{Float64, Periodic, Flat, Bounded} on CPU with 3×0×3 halo\n",
       "├── timestepper: RungeKutta3TimeStepper\n",
       "├── tracers: b\n",
       "├── closure: ScalarDiffusivity{ExplicitTimeDiscretization}(ν=2.0e-5, κ=(b=2.0e-5,))\n",
       "├── buoyancy: BuoyancyTracer with ĝ = NegativeZDirection()\n",
       "└── coriolis: Nothing"
      ]
     },
     "execution_count": 5,
     "metadata": {},
     "output_type": "execute_result"
    }
   ],
   "source": [
    "model = NonhydrostaticModel(timestepper = :RungeKutta3,\n",
    "                              advection = UpwindBiasedFifthOrder(),\n",
    "                                   grid = grid,\n",
    "                               coriolis = nothing,\n",
    "                      background_fields = (u=U, b=B),\n",
    "                                closure = ScalarDiffusivity(ν=0.2e-4, κ=0.2e-4),\n",
    "                               buoyancy = BuoyancyTracer(),\n",
    "                                tracers = :b)"
   ]
  },
  {
   "cell_type": "code",
   "execution_count": 6,
   "id": "96eb4536-5fb0-4f8c-ad5e-a1ed50b50667",
   "metadata": {},
   "outputs": [
    {
     "data": {
      "text/plain": [
       "Simulation of NonhydrostaticModel{CPU, RectilinearGrid}(time = 0 seconds, iteration = 0)\n",
       "├── Next time step: 100 ms\n",
       "├── Elapsed wall time: 0 seconds\n",
       "├── Wall time per iteration: NaN days\n",
       "├── Stop time: Inf days\n",
       "├── Stop iteration : 2000.0\n",
       "├── Wall time limit: Inf\n",
       "├── Callbacks: OrderedDict with 4 entries:\n",
       "│   ├── stop_time_exceeded => Callback of stop_time_exceeded on IterationInterval(1)\n",
       "│   ├── stop_iteration_exceeded => Callback of stop_iteration_exceeded on IterationInterval(1)\n",
       "│   ├── wall_time_limit_exceeded => Callback of wall_time_limit_exceeded on IterationInterval(1)\n",
       "│   └── nan_checker => Callback of NaNChecker for u on IterationInterval(100)\n",
       "├── Output writers: OrderedDict with no entries\n",
       "└── Diagnostics: OrderedDict with no entries"
      ]
     },
     "execution_count": 6,
     "metadata": {},
     "output_type": "execute_result"
    }
   ],
   "source": [
    "Δt = 0.1 \n",
    "simulation = Simulation(model, Δt=Δt, stop_iteration=2000, verbose=false)"
   ]
  },
  {
   "cell_type": "code",
   "execution_count": 7,
   "id": "f96a0570-4cc1-4d71-a2d9-29b61a4102a6",
   "metadata": {},
   "outputs": [],
   "source": [
    "using Random, Statistics\n",
    "\n",
    "u, v, w = model.velocities\n",
    "b = model.tracers.b\n",
    "xb, yb, zb = nodes(b)\n",
    "total_b = Field(b + model.background_fields.tracers.b)\n",
    "\n",
    "kinetic_energy = @at (Center, Center, Center) 1/2 * (u^2 + w^2)\n",
    "potential_energy = @at (Center, Center, Center) -b * zb\n",
    "\n",
    "\n",
    "noise(x, y, z) = 1.e-3*randn()\n",
    "set!(model, u=noise, w=noise, b=noise)"
   ]
  },
  {
   "cell_type": "code",
   "execution_count": 8,
   "id": "bce14bf2-19e0-4851-8c8f-f661dcbedc11",
   "metadata": {},
   "outputs": [
    {
     "data": {
      "text/plain": [
       "JLD2OutputWriter scheduled on TimeInterval(1 second):\n",
       "├── filepath: ./../output/stratified_shear_data/example.jld2\n",
       "├── 4 outputs: (b, B, KE, PE)\n",
       "├── array type: Array{Float64}\n",
       "├── including: [:grid, :coriolis, :buoyancy, :closure]\n",
       "└── max filesize: Inf YiB"
      ]
     },
     "execution_count": 8,
     "metadata": {},
     "output_type": "execute_result"
    }
   ],
   "source": [
    "simulation.output_writers[:buoyancy] =\n",
    "    JLD2OutputWriter(model, (b=b, B=total_b, KE=kinetic_energy, PE=potential_energy),\n",
    "                     schedule = TimeInterval(1.0),\n",
    "                     filename = \"../output/stratified_shear_data/example.jld2\",\n",
    "                     overwrite_existing = true)"
   ]
  },
  {
   "cell_type": "code",
   "execution_count": 9,
   "id": "84ec0232-24b0-4a63-a471-577bc5ce9d1a",
   "metadata": {},
   "outputs": [
    {
     "name": "stderr",
     "output_type": "stream",
     "text": [
      "\u001b[36m\u001b[1m[ \u001b[22m\u001b[39m\u001b[36m\u001b[1mInfo: \u001b[22m\u001b[39m*** Running a simulation of Kelvin-Helmholtz instability...\n"
     ]
    }
   ],
   "source": [
    "@info \"*** Running a simulation of Kelvin-Helmholtz instability...\"\n",
    "run!(simulation)"
   ]
  },
  {
   "cell_type": "code",
   "execution_count": 10,
   "id": "b797b32a-0ee8-4230-90a6-5e4fd2ae5508",
   "metadata": {},
   "outputs": [
    {
     "name": "stderr",
     "output_type": "stream",
     "text": [
      "\u001b[36m\u001b[1m[ \u001b[22m\u001b[39m\u001b[36m\u001b[1mInfo: \u001b[22m\u001b[39mMaking a neat movie of stratified shear flow...\n",
      "\u001b[36m\u001b[1m[ \u001b[22m\u001b[39m\u001b[36m\u001b[1mInfo: \u001b[22m\u001b[39mPlotting frame 1 of 187...\n",
      "\u001b[36m\u001b[1m[ \u001b[22m\u001b[39m\u001b[36m\u001b[1mInfo: \u001b[22m\u001b[39mPlotting frame 2 of 187...\n",
      "\u001b[36m\u001b[1m[ \u001b[22m\u001b[39m\u001b[36m\u001b[1mInfo: \u001b[22m\u001b[39mPlotting frame 3 of 187...\n",
      "\u001b[36m\u001b[1m[ \u001b[22m\u001b[39m\u001b[36m\u001b[1mInfo: \u001b[22m\u001b[39mPlotting frame 4 of 187...\n",
      "\u001b[36m\u001b[1m[ \u001b[22m\u001b[39m\u001b[36m\u001b[1mInfo: \u001b[22m\u001b[39mPlotting frame 5 of 187...\n",
      "\u001b[36m\u001b[1m[ \u001b[22m\u001b[39m\u001b[36m\u001b[1mInfo: \u001b[22m\u001b[39mPlotting frame 6 of 187...\n",
      "\u001b[36m\u001b[1m[ \u001b[22m\u001b[39m\u001b[36m\u001b[1mInfo: \u001b[22m\u001b[39mPlotting frame 7 of 187...\n",
      "\u001b[36m\u001b[1m[ \u001b[22m\u001b[39m\u001b[36m\u001b[1mInfo: \u001b[22m\u001b[39mPlotting frame 8 of 187...\n",
      "\u001b[36m\u001b[1m[ \u001b[22m\u001b[39m\u001b[36m\u001b[1mInfo: \u001b[22m\u001b[39mPlotting frame 9 of 187...\n",
      "\u001b[36m\u001b[1m[ \u001b[22m\u001b[39m\u001b[36m\u001b[1mInfo: \u001b[22m\u001b[39mPlotting frame 10 of 187...\n",
      "\u001b[36m\u001b[1m[ \u001b[22m\u001b[39m\u001b[36m\u001b[1mInfo: \u001b[22m\u001b[39mPlotting frame 11 of 187...\n",
      "\u001b[36m\u001b[1m[ \u001b[22m\u001b[39m\u001b[36m\u001b[1mInfo: \u001b[22m\u001b[39mPlotting frame 12 of 187...\n",
      "\u001b[36m\u001b[1m[ \u001b[22m\u001b[39m\u001b[36m\u001b[1mInfo: \u001b[22m\u001b[39mPlotting frame 13 of 187...\n",
      "\u001b[36m\u001b[1m[ \u001b[22m\u001b[39m\u001b[36m\u001b[1mInfo: \u001b[22m\u001b[39mPlotting frame 14 of 187...\n",
      "\u001b[36m\u001b[1m[ \u001b[22m\u001b[39m\u001b[36m\u001b[1mInfo: \u001b[22m\u001b[39mPlotting frame 15 of 187...\n",
      "\u001b[36m\u001b[1m[ \u001b[22m\u001b[39m\u001b[36m\u001b[1mInfo: \u001b[22m\u001b[39mPlotting frame 16 of 187...\n",
      "\u001b[36m\u001b[1m[ \u001b[22m\u001b[39m\u001b[36m\u001b[1mInfo: \u001b[22m\u001b[39mPlotting frame 17 of 187...\n",
      "\u001b[36m\u001b[1m[ \u001b[22m\u001b[39m\u001b[36m\u001b[1mInfo: \u001b[22m\u001b[39mPlotting frame 18 of 187...\n",
      "\u001b[36m\u001b[1m[ \u001b[22m\u001b[39m\u001b[36m\u001b[1mInfo: \u001b[22m\u001b[39mPlotting frame 19 of 187...\n",
      "\u001b[36m\u001b[1m[ \u001b[22m\u001b[39m\u001b[36m\u001b[1mInfo: \u001b[22m\u001b[39mPlotting frame 20 of 187...\n",
      "\u001b[36m\u001b[1m[ \u001b[22m\u001b[39m\u001b[36m\u001b[1mInfo: \u001b[22m\u001b[39mPlotting frame 21 of 187...\n",
      "\u001b[36m\u001b[1m[ \u001b[22m\u001b[39m\u001b[36m\u001b[1mInfo: \u001b[22m\u001b[39mPlotting frame 22 of 187...\n",
      "\u001b[36m\u001b[1m[ \u001b[22m\u001b[39m\u001b[36m\u001b[1mInfo: \u001b[22m\u001b[39mPlotting frame 23 of 187...\n",
      "\u001b[36m\u001b[1m[ \u001b[22m\u001b[39m\u001b[36m\u001b[1mInfo: \u001b[22m\u001b[39mPlotting frame 24 of 187...\n",
      "\u001b[36m\u001b[1m[ \u001b[22m\u001b[39m\u001b[36m\u001b[1mInfo: \u001b[22m\u001b[39mPlotting frame 25 of 187...\n",
      "\u001b[36m\u001b[1m[ \u001b[22m\u001b[39m\u001b[36m\u001b[1mInfo: \u001b[22m\u001b[39mPlotting frame 26 of 187...\n",
      "\u001b[36m\u001b[1m[ \u001b[22m\u001b[39m\u001b[36m\u001b[1mInfo: \u001b[22m\u001b[39mPlotting frame 27 of 187...\n",
      "\u001b[36m\u001b[1m[ \u001b[22m\u001b[39m\u001b[36m\u001b[1mInfo: \u001b[22m\u001b[39mPlotting frame 28 of 187...\n",
      "\u001b[36m\u001b[1m[ \u001b[22m\u001b[39m\u001b[36m\u001b[1mInfo: \u001b[22m\u001b[39mPlotting frame 29 of 187...\n",
      "\u001b[36m\u001b[1m[ \u001b[22m\u001b[39m\u001b[36m\u001b[1mInfo: \u001b[22m\u001b[39mPlotting frame 30 of 187...\n",
      "\u001b[36m\u001b[1m[ \u001b[22m\u001b[39m\u001b[36m\u001b[1mInfo: \u001b[22m\u001b[39mPlotting frame 31 of 187...\n",
      "\u001b[36m\u001b[1m[ \u001b[22m\u001b[39m\u001b[36m\u001b[1mInfo: \u001b[22m\u001b[39mPlotting frame 32 of 187...\n",
      "\u001b[36m\u001b[1m[ \u001b[22m\u001b[39m\u001b[36m\u001b[1mInfo: \u001b[22m\u001b[39mPlotting frame 33 of 187...\n",
      "\u001b[36m\u001b[1m[ \u001b[22m\u001b[39m\u001b[36m\u001b[1mInfo: \u001b[22m\u001b[39mPlotting frame 34 of 187...\n",
      "\u001b[36m\u001b[1m[ \u001b[22m\u001b[39m\u001b[36m\u001b[1mInfo: \u001b[22m\u001b[39mPlotting frame 35 of 187...\n",
      "\u001b[36m\u001b[1m[ \u001b[22m\u001b[39m\u001b[36m\u001b[1mInfo: \u001b[22m\u001b[39mPlotting frame 36 of 187...\n",
      "\u001b[36m\u001b[1m[ \u001b[22m\u001b[39m\u001b[36m\u001b[1mInfo: \u001b[22m\u001b[39mPlotting frame 37 of 187...\n",
      "\u001b[36m\u001b[1m[ \u001b[22m\u001b[39m\u001b[36m\u001b[1mInfo: \u001b[22m\u001b[39mPlotting frame 38 of 187...\n",
      "\u001b[36m\u001b[1m[ \u001b[22m\u001b[39m\u001b[36m\u001b[1mInfo: \u001b[22m\u001b[39mPlotting frame 39 of 187...\n",
      "\u001b[36m\u001b[1m[ \u001b[22m\u001b[39m\u001b[36m\u001b[1mInfo: \u001b[22m\u001b[39mPlotting frame 40 of 187...\n",
      "\u001b[36m\u001b[1m[ \u001b[22m\u001b[39m\u001b[36m\u001b[1mInfo: \u001b[22m\u001b[39mPlotting frame 41 of 187...\n",
      "\u001b[36m\u001b[1m[ \u001b[22m\u001b[39m\u001b[36m\u001b[1mInfo: \u001b[22m\u001b[39mPlotting frame 42 of 187...\n",
      "\u001b[36m\u001b[1m[ \u001b[22m\u001b[39m\u001b[36m\u001b[1mInfo: \u001b[22m\u001b[39mPlotting frame 43 of 187...\n",
      "\u001b[36m\u001b[1m[ \u001b[22m\u001b[39m\u001b[36m\u001b[1mInfo: \u001b[22m\u001b[39mPlotting frame 44 of 187...\n",
      "\u001b[36m\u001b[1m[ \u001b[22m\u001b[39m\u001b[36m\u001b[1mInfo: \u001b[22m\u001b[39mPlotting frame 45 of 187...\n",
      "\u001b[36m\u001b[1m[ \u001b[22m\u001b[39m\u001b[36m\u001b[1mInfo: \u001b[22m\u001b[39mPlotting frame 46 of 187...\n",
      "\u001b[36m\u001b[1m[ \u001b[22m\u001b[39m\u001b[36m\u001b[1mInfo: \u001b[22m\u001b[39mPlotting frame 47 of 187...\n",
      "\u001b[36m\u001b[1m[ \u001b[22m\u001b[39m\u001b[36m\u001b[1mInfo: \u001b[22m\u001b[39mPlotting frame 48 of 187...\n",
      "\u001b[36m\u001b[1m[ \u001b[22m\u001b[39m\u001b[36m\u001b[1mInfo: \u001b[22m\u001b[39mPlotting frame 49 of 187...\n",
      "\u001b[36m\u001b[1m[ \u001b[22m\u001b[39m\u001b[36m\u001b[1mInfo: \u001b[22m\u001b[39mPlotting frame 50 of 187...\n",
      "\u001b[36m\u001b[1m[ \u001b[22m\u001b[39m\u001b[36m\u001b[1mInfo: \u001b[22m\u001b[39mPlotting frame 51 of 187...\n",
      "\u001b[36m\u001b[1m[ \u001b[22m\u001b[39m\u001b[36m\u001b[1mInfo: \u001b[22m\u001b[39mPlotting frame 52 of 187...\n",
      "\u001b[36m\u001b[1m[ \u001b[22m\u001b[39m\u001b[36m\u001b[1mInfo: \u001b[22m\u001b[39mPlotting frame 53 of 187...\n",
      "\u001b[36m\u001b[1m[ \u001b[22m\u001b[39m\u001b[36m\u001b[1mInfo: \u001b[22m\u001b[39mPlotting frame 54 of 187...\n",
      "\u001b[36m\u001b[1m[ \u001b[22m\u001b[39m\u001b[36m\u001b[1mInfo: \u001b[22m\u001b[39mPlotting frame 55 of 187...\n",
      "\u001b[36m\u001b[1m[ \u001b[22m\u001b[39m\u001b[36m\u001b[1mInfo: \u001b[22m\u001b[39mPlotting frame 56 of 187...\n",
      "\u001b[36m\u001b[1m[ \u001b[22m\u001b[39m\u001b[36m\u001b[1mInfo: \u001b[22m\u001b[39mPlotting frame 57 of 187...\n",
      "\u001b[36m\u001b[1m[ \u001b[22m\u001b[39m\u001b[36m\u001b[1mInfo: \u001b[22m\u001b[39mPlotting frame 58 of 187...\n",
      "\u001b[36m\u001b[1m[ \u001b[22m\u001b[39m\u001b[36m\u001b[1mInfo: \u001b[22m\u001b[39mPlotting frame 59 of 187...\n",
      "\u001b[36m\u001b[1m[ \u001b[22m\u001b[39m\u001b[36m\u001b[1mInfo: \u001b[22m\u001b[39mPlotting frame 60 of 187...\n",
      "\u001b[36m\u001b[1m[ \u001b[22m\u001b[39m\u001b[36m\u001b[1mInfo: \u001b[22m\u001b[39mPlotting frame 61 of 187...\n",
      "\u001b[36m\u001b[1m[ \u001b[22m\u001b[39m\u001b[36m\u001b[1mInfo: \u001b[22m\u001b[39mPlotting frame 62 of 187...\n",
      "\u001b[36m\u001b[1m[ \u001b[22m\u001b[39m\u001b[36m\u001b[1mInfo: \u001b[22m\u001b[39mPlotting frame 63 of 187...\n",
      "\u001b[36m\u001b[1m[ \u001b[22m\u001b[39m\u001b[36m\u001b[1mInfo: \u001b[22m\u001b[39mPlotting frame 64 of 187...\n",
      "\u001b[36m\u001b[1m[ \u001b[22m\u001b[39m\u001b[36m\u001b[1mInfo: \u001b[22m\u001b[39mPlotting frame 65 of 187...\n",
      "\u001b[36m\u001b[1m[ \u001b[22m\u001b[39m\u001b[36m\u001b[1mInfo: \u001b[22m\u001b[39mPlotting frame 66 of 187...\n",
      "\u001b[36m\u001b[1m[ \u001b[22m\u001b[39m\u001b[36m\u001b[1mInfo: \u001b[22m\u001b[39mPlotting frame 67 of 187...\n",
      "\u001b[36m\u001b[1m[ \u001b[22m\u001b[39m\u001b[36m\u001b[1mInfo: \u001b[22m\u001b[39mPlotting frame 68 of 187...\n",
      "\u001b[36m\u001b[1m[ \u001b[22m\u001b[39m\u001b[36m\u001b[1mInfo: \u001b[22m\u001b[39mPlotting frame 69 of 187...\n",
      "\u001b[36m\u001b[1m[ \u001b[22m\u001b[39m\u001b[36m\u001b[1mInfo: \u001b[22m\u001b[39mPlotting frame 70 of 187...\n",
      "\u001b[36m\u001b[1m[ \u001b[22m\u001b[39m\u001b[36m\u001b[1mInfo: \u001b[22m\u001b[39mPlotting frame 71 of 187...\n",
      "\u001b[36m\u001b[1m[ \u001b[22m\u001b[39m\u001b[36m\u001b[1mInfo: \u001b[22m\u001b[39mPlotting frame 72 of 187...\n",
      "\u001b[36m\u001b[1m[ \u001b[22m\u001b[39m\u001b[36m\u001b[1mInfo: \u001b[22m\u001b[39mPlotting frame 73 of 187...\n",
      "\u001b[36m\u001b[1m[ \u001b[22m\u001b[39m\u001b[36m\u001b[1mInfo: \u001b[22m\u001b[39mPlotting frame 74 of 187...\n",
      "\u001b[36m\u001b[1m[ \u001b[22m\u001b[39m\u001b[36m\u001b[1mInfo: \u001b[22m\u001b[39mPlotting frame 75 of 187...\n",
      "\u001b[36m\u001b[1m[ \u001b[22m\u001b[39m\u001b[36m\u001b[1mInfo: \u001b[22m\u001b[39mPlotting frame 76 of 187...\n",
      "\u001b[36m\u001b[1m[ \u001b[22m\u001b[39m\u001b[36m\u001b[1mInfo: \u001b[22m\u001b[39mPlotting frame 77 of 187...\n",
      "\u001b[36m\u001b[1m[ \u001b[22m\u001b[39m\u001b[36m\u001b[1mInfo: \u001b[22m\u001b[39mPlotting frame 78 of 187...\n",
      "\u001b[36m\u001b[1m[ \u001b[22m\u001b[39m\u001b[36m\u001b[1mInfo: \u001b[22m\u001b[39mPlotting frame 79 of 187...\n",
      "\u001b[36m\u001b[1m[ \u001b[22m\u001b[39m\u001b[36m\u001b[1mInfo: \u001b[22m\u001b[39mPlotting frame 80 of 187...\n",
      "\u001b[36m\u001b[1m[ \u001b[22m\u001b[39m\u001b[36m\u001b[1mInfo: \u001b[22m\u001b[39mPlotting frame 81 of 187...\n",
      "\u001b[36m\u001b[1m[ \u001b[22m\u001b[39m\u001b[36m\u001b[1mInfo: \u001b[22m\u001b[39mPlotting frame 82 of 187...\n",
      "\u001b[36m\u001b[1m[ \u001b[22m\u001b[39m\u001b[36m\u001b[1mInfo: \u001b[22m\u001b[39mPlotting frame 83 of 187...\n",
      "\u001b[36m\u001b[1m[ \u001b[22m\u001b[39m\u001b[36m\u001b[1mInfo: \u001b[22m\u001b[39mPlotting frame 84 of 187...\n",
      "\u001b[36m\u001b[1m[ \u001b[22m\u001b[39m\u001b[36m\u001b[1mInfo: \u001b[22m\u001b[39mPlotting frame 85 of 187...\n",
      "\u001b[36m\u001b[1m[ \u001b[22m\u001b[39m\u001b[36m\u001b[1mInfo: \u001b[22m\u001b[39mPlotting frame 86 of 187...\n",
      "\u001b[36m\u001b[1m[ \u001b[22m\u001b[39m\u001b[36m\u001b[1mInfo: \u001b[22m\u001b[39mPlotting frame 87 of 187...\n",
      "\u001b[36m\u001b[1m[ \u001b[22m\u001b[39m\u001b[36m\u001b[1mInfo: \u001b[22m\u001b[39mPlotting frame 88 of 187...\n",
      "\u001b[36m\u001b[1m[ \u001b[22m\u001b[39m\u001b[36m\u001b[1mInfo: \u001b[22m\u001b[39mPlotting frame 89 of 187...\n",
      "\u001b[36m\u001b[1m[ \u001b[22m\u001b[39m\u001b[36m\u001b[1mInfo: \u001b[22m\u001b[39mPlotting frame 90 of 187...\n",
      "\u001b[36m\u001b[1m[ \u001b[22m\u001b[39m\u001b[36m\u001b[1mInfo: \u001b[22m\u001b[39mPlotting frame 91 of 187...\n",
      "\u001b[36m\u001b[1m[ \u001b[22m\u001b[39m\u001b[36m\u001b[1mInfo: \u001b[22m\u001b[39mPlotting frame 92 of 187...\n",
      "\u001b[36m\u001b[1m[ \u001b[22m\u001b[39m\u001b[36m\u001b[1mInfo: \u001b[22m\u001b[39mPlotting frame 93 of 187...\n",
      "\u001b[36m\u001b[1m[ \u001b[22m\u001b[39m\u001b[36m\u001b[1mInfo: \u001b[22m\u001b[39mPlotting frame 94 of 187...\n",
      "\u001b[36m\u001b[1m[ \u001b[22m\u001b[39m\u001b[36m\u001b[1mInfo: \u001b[22m\u001b[39mPlotting frame 95 of 187...\n",
      "\u001b[36m\u001b[1m[ \u001b[22m\u001b[39m\u001b[36m\u001b[1mInfo: \u001b[22m\u001b[39mPlotting frame 96 of 187...\n",
      "\u001b[36m\u001b[1m[ \u001b[22m\u001b[39m\u001b[36m\u001b[1mInfo: \u001b[22m\u001b[39mPlotting frame 97 of 187...\n",
      "\u001b[36m\u001b[1m[ \u001b[22m\u001b[39m\u001b[36m\u001b[1mInfo: \u001b[22m\u001b[39mPlotting frame 98 of 187...\n",
      "\u001b[36m\u001b[1m[ \u001b[22m\u001b[39m\u001b[36m\u001b[1mInfo: \u001b[22m\u001b[39mPlotting frame 99 of 187...\n",
      "\u001b[36m\u001b[1m[ \u001b[22m\u001b[39m\u001b[36m\u001b[1mInfo: \u001b[22m\u001b[39mPlotting frame 100 of 187...\n",
      "\u001b[36m\u001b[1m[ \u001b[22m\u001b[39m\u001b[36m\u001b[1mInfo: \u001b[22m\u001b[39mPlotting frame 101 of 187...\n",
      "\u001b[36m\u001b[1m[ \u001b[22m\u001b[39m\u001b[36m\u001b[1mInfo: \u001b[22m\u001b[39mPlotting frame 102 of 187...\n",
      "\u001b[36m\u001b[1m[ \u001b[22m\u001b[39m\u001b[36m\u001b[1mInfo: \u001b[22m\u001b[39mPlotting frame 103 of 187...\n",
      "\u001b[36m\u001b[1m[ \u001b[22m\u001b[39m\u001b[36m\u001b[1mInfo: \u001b[22m\u001b[39mPlotting frame 104 of 187...\n",
      "\u001b[36m\u001b[1m[ \u001b[22m\u001b[39m\u001b[36m\u001b[1mInfo: \u001b[22m\u001b[39mPlotting frame 105 of 187...\n",
      "\u001b[36m\u001b[1m[ \u001b[22m\u001b[39m\u001b[36m\u001b[1mInfo: \u001b[22m\u001b[39mPlotting frame 106 of 187...\n",
      "\u001b[36m\u001b[1m[ \u001b[22m\u001b[39m\u001b[36m\u001b[1mInfo: \u001b[22m\u001b[39mPlotting frame 107 of 187...\n",
      "\u001b[36m\u001b[1m[ \u001b[22m\u001b[39m\u001b[36m\u001b[1mInfo: \u001b[22m\u001b[39mPlotting frame 108 of 187...\n",
      "\u001b[36m\u001b[1m[ \u001b[22m\u001b[39m\u001b[36m\u001b[1mInfo: \u001b[22m\u001b[39mPlotting frame 109 of 187...\n",
      "\u001b[36m\u001b[1m[ \u001b[22m\u001b[39m\u001b[36m\u001b[1mInfo: \u001b[22m\u001b[39mPlotting frame 110 of 187...\n",
      "\u001b[36m\u001b[1m[ \u001b[22m\u001b[39m\u001b[36m\u001b[1mInfo: \u001b[22m\u001b[39mPlotting frame 111 of 187...\n",
      "\u001b[36m\u001b[1m[ \u001b[22m\u001b[39m\u001b[36m\u001b[1mInfo: \u001b[22m\u001b[39mPlotting frame 112 of 187...\n",
      "\u001b[36m\u001b[1m[ \u001b[22m\u001b[39m\u001b[36m\u001b[1mInfo: \u001b[22m\u001b[39mPlotting frame 113 of 187...\n",
      "\u001b[36m\u001b[1m[ \u001b[22m\u001b[39m\u001b[36m\u001b[1mInfo: \u001b[22m\u001b[39mPlotting frame 114 of 187...\n",
      "\u001b[36m\u001b[1m[ \u001b[22m\u001b[39m\u001b[36m\u001b[1mInfo: \u001b[22m\u001b[39mPlotting frame 115 of 187...\n",
      "\u001b[36m\u001b[1m[ \u001b[22m\u001b[39m\u001b[36m\u001b[1mInfo: \u001b[22m\u001b[39mPlotting frame 116 of 187...\n",
      "\u001b[36m\u001b[1m[ \u001b[22m\u001b[39m\u001b[36m\u001b[1mInfo: \u001b[22m\u001b[39mPlotting frame 117 of 187...\n",
      "\u001b[36m\u001b[1m[ \u001b[22m\u001b[39m\u001b[36m\u001b[1mInfo: \u001b[22m\u001b[39mPlotting frame 118 of 187...\n",
      "\u001b[36m\u001b[1m[ \u001b[22m\u001b[39m\u001b[36m\u001b[1mInfo: \u001b[22m\u001b[39mPlotting frame 119 of 187...\n",
      "\u001b[36m\u001b[1m[ \u001b[22m\u001b[39m\u001b[36m\u001b[1mInfo: \u001b[22m\u001b[39mPlotting frame 120 of 187...\n",
      "\u001b[36m\u001b[1m[ \u001b[22m\u001b[39m\u001b[36m\u001b[1mInfo: \u001b[22m\u001b[39mPlotting frame 121 of 187...\n",
      "\u001b[36m\u001b[1m[ \u001b[22m\u001b[39m\u001b[36m\u001b[1mInfo: \u001b[22m\u001b[39mPlotting frame 122 of 187...\n",
      "\u001b[36m\u001b[1m[ \u001b[22m\u001b[39m\u001b[36m\u001b[1mInfo: \u001b[22m\u001b[39mPlotting frame 123 of 187...\n",
      "\u001b[36m\u001b[1m[ \u001b[22m\u001b[39m\u001b[36m\u001b[1mInfo: \u001b[22m\u001b[39mPlotting frame 124 of 187...\n",
      "\u001b[36m\u001b[1m[ \u001b[22m\u001b[39m\u001b[36m\u001b[1mInfo: \u001b[22m\u001b[39mPlotting frame 125 of 187...\n",
      "\u001b[36m\u001b[1m[ \u001b[22m\u001b[39m\u001b[36m\u001b[1mInfo: \u001b[22m\u001b[39mPlotting frame 126 of 187...\n",
      "\u001b[36m\u001b[1m[ \u001b[22m\u001b[39m\u001b[36m\u001b[1mInfo: \u001b[22m\u001b[39mPlotting frame 127 of 187...\n",
      "\u001b[36m\u001b[1m[ \u001b[22m\u001b[39m\u001b[36m\u001b[1mInfo: \u001b[22m\u001b[39mPlotting frame 128 of 187...\n",
      "\u001b[36m\u001b[1m[ \u001b[22m\u001b[39m\u001b[36m\u001b[1mInfo: \u001b[22m\u001b[39mPlotting frame 129 of 187...\n",
      "\u001b[36m\u001b[1m[ \u001b[22m\u001b[39m\u001b[36m\u001b[1mInfo: \u001b[22m\u001b[39mPlotting frame 130 of 187...\n",
      "\u001b[36m\u001b[1m[ \u001b[22m\u001b[39m\u001b[36m\u001b[1mInfo: \u001b[22m\u001b[39mPlotting frame 131 of 187...\n",
      "\u001b[36m\u001b[1m[ \u001b[22m\u001b[39m\u001b[36m\u001b[1mInfo: \u001b[22m\u001b[39mPlotting frame 132 of 187...\n",
      "\u001b[36m\u001b[1m[ \u001b[22m\u001b[39m\u001b[36m\u001b[1mInfo: \u001b[22m\u001b[39mPlotting frame 133 of 187...\n",
      "\u001b[36m\u001b[1m[ \u001b[22m\u001b[39m\u001b[36m\u001b[1mInfo: \u001b[22m\u001b[39mPlotting frame 134 of 187...\n",
      "\u001b[36m\u001b[1m[ \u001b[22m\u001b[39m\u001b[36m\u001b[1mInfo: \u001b[22m\u001b[39mPlotting frame 135 of 187...\n",
      "\u001b[36m\u001b[1m[ \u001b[22m\u001b[39m\u001b[36m\u001b[1mInfo: \u001b[22m\u001b[39mPlotting frame 136 of 187...\n",
      "\u001b[36m\u001b[1m[ \u001b[22m\u001b[39m\u001b[36m\u001b[1mInfo: \u001b[22m\u001b[39mPlotting frame 137 of 187...\n",
      "\u001b[36m\u001b[1m[ \u001b[22m\u001b[39m\u001b[36m\u001b[1mInfo: \u001b[22m\u001b[39mPlotting frame 138 of 187...\n",
      "\u001b[36m\u001b[1m[ \u001b[22m\u001b[39m\u001b[36m\u001b[1mInfo: \u001b[22m\u001b[39mPlotting frame 139 of 187...\n",
      "\u001b[36m\u001b[1m[ \u001b[22m\u001b[39m\u001b[36m\u001b[1mInfo: \u001b[22m\u001b[39mPlotting frame 140 of 187...\n",
      "\u001b[36m\u001b[1m[ \u001b[22m\u001b[39m\u001b[36m\u001b[1mInfo: \u001b[22m\u001b[39mPlotting frame 141 of 187...\n",
      "\u001b[36m\u001b[1m[ \u001b[22m\u001b[39m\u001b[36m\u001b[1mInfo: \u001b[22m\u001b[39mPlotting frame 142 of 187...\n",
      "\u001b[36m\u001b[1m[ \u001b[22m\u001b[39m\u001b[36m\u001b[1mInfo: \u001b[22m\u001b[39mPlotting frame 143 of 187...\n",
      "\u001b[36m\u001b[1m[ \u001b[22m\u001b[39m\u001b[36m\u001b[1mInfo: \u001b[22m\u001b[39mPlotting frame 144 of 187...\n",
      "\u001b[36m\u001b[1m[ \u001b[22m\u001b[39m\u001b[36m\u001b[1mInfo: \u001b[22m\u001b[39mPlotting frame 145 of 187...\n",
      "\u001b[36m\u001b[1m[ \u001b[22m\u001b[39m\u001b[36m\u001b[1mInfo: \u001b[22m\u001b[39mPlotting frame 146 of 187...\n",
      "\u001b[36m\u001b[1m[ \u001b[22m\u001b[39m\u001b[36m\u001b[1mInfo: \u001b[22m\u001b[39mPlotting frame 147 of 187...\n",
      "\u001b[36m\u001b[1m[ \u001b[22m\u001b[39m\u001b[36m\u001b[1mInfo: \u001b[22m\u001b[39mPlotting frame 148 of 187...\n",
      "\u001b[36m\u001b[1m[ \u001b[22m\u001b[39m\u001b[36m\u001b[1mInfo: \u001b[22m\u001b[39mPlotting frame 149 of 187...\n",
      "\u001b[36m\u001b[1m[ \u001b[22m\u001b[39m\u001b[36m\u001b[1mInfo: \u001b[22m\u001b[39mPlotting frame 150 of 187...\n",
      "\u001b[36m\u001b[1m[ \u001b[22m\u001b[39m\u001b[36m\u001b[1mInfo: \u001b[22m\u001b[39mPlotting frame 151 of 187...\n",
      "\u001b[36m\u001b[1m[ \u001b[22m\u001b[39m\u001b[36m\u001b[1mInfo: \u001b[22m\u001b[39mPlotting frame 152 of 187...\n",
      "\u001b[36m\u001b[1m[ \u001b[22m\u001b[39m\u001b[36m\u001b[1mInfo: \u001b[22m\u001b[39mPlotting frame 153 of 187...\n",
      "\u001b[36m\u001b[1m[ \u001b[22m\u001b[39m\u001b[36m\u001b[1mInfo: \u001b[22m\u001b[39mPlotting frame 154 of 187...\n",
      "\u001b[36m\u001b[1m[ \u001b[22m\u001b[39m\u001b[36m\u001b[1mInfo: \u001b[22m\u001b[39mPlotting frame 155 of 187...\n",
      "\u001b[36m\u001b[1m[ \u001b[22m\u001b[39m\u001b[36m\u001b[1mInfo: \u001b[22m\u001b[39mPlotting frame 156 of 187...\n",
      "\u001b[36m\u001b[1m[ \u001b[22m\u001b[39m\u001b[36m\u001b[1mInfo: \u001b[22m\u001b[39mPlotting frame 157 of 187...\n",
      "\u001b[36m\u001b[1m[ \u001b[22m\u001b[39m\u001b[36m\u001b[1mInfo: \u001b[22m\u001b[39mPlotting frame 158 of 187...\n",
      "\u001b[36m\u001b[1m[ \u001b[22m\u001b[39m\u001b[36m\u001b[1mInfo: \u001b[22m\u001b[39mPlotting frame 159 of 187...\n",
      "\u001b[36m\u001b[1m[ \u001b[22m\u001b[39m\u001b[36m\u001b[1mInfo: \u001b[22m\u001b[39mPlotting frame 160 of 187...\n",
      "\u001b[36m\u001b[1m[ \u001b[22m\u001b[39m\u001b[36m\u001b[1mInfo: \u001b[22m\u001b[39mPlotting frame 161 of 187...\n",
      "\u001b[36m\u001b[1m[ \u001b[22m\u001b[39m\u001b[36m\u001b[1mInfo: \u001b[22m\u001b[39mPlotting frame 162 of 187...\n",
      "\u001b[36m\u001b[1m[ \u001b[22m\u001b[39m\u001b[36m\u001b[1mInfo: \u001b[22m\u001b[39mPlotting frame 163 of 187...\n",
      "\u001b[36m\u001b[1m[ \u001b[22m\u001b[39m\u001b[36m\u001b[1mInfo: \u001b[22m\u001b[39mPlotting frame 164 of 187...\n",
      "\u001b[36m\u001b[1m[ \u001b[22m\u001b[39m\u001b[36m\u001b[1mInfo: \u001b[22m\u001b[39mPlotting frame 165 of 187...\n",
      "\u001b[36m\u001b[1m[ \u001b[22m\u001b[39m\u001b[36m\u001b[1mInfo: \u001b[22m\u001b[39mPlotting frame 166 of 187...\n",
      "\u001b[36m\u001b[1m[ \u001b[22m\u001b[39m\u001b[36m\u001b[1mInfo: \u001b[22m\u001b[39mPlotting frame 167 of 187...\n",
      "\u001b[36m\u001b[1m[ \u001b[22m\u001b[39m\u001b[36m\u001b[1mInfo: \u001b[22m\u001b[39mPlotting frame 168 of 187...\n",
      "\u001b[36m\u001b[1m[ \u001b[22m\u001b[39m\u001b[36m\u001b[1mInfo: \u001b[22m\u001b[39mPlotting frame 169 of 187...\n",
      "\u001b[36m\u001b[1m[ \u001b[22m\u001b[39m\u001b[36m\u001b[1mInfo: \u001b[22m\u001b[39mPlotting frame 170 of 187...\n",
      "\u001b[36m\u001b[1m[ \u001b[22m\u001b[39m\u001b[36m\u001b[1mInfo: \u001b[22m\u001b[39mPlotting frame 171 of 187...\n",
      "\u001b[36m\u001b[1m[ \u001b[22m\u001b[39m\u001b[36m\u001b[1mInfo: \u001b[22m\u001b[39mPlotting frame 172 of 187...\n",
      "\u001b[36m\u001b[1m[ \u001b[22m\u001b[39m\u001b[36m\u001b[1mInfo: \u001b[22m\u001b[39mPlotting frame 173 of 187...\n",
      "\u001b[36m\u001b[1m[ \u001b[22m\u001b[39m\u001b[36m\u001b[1mInfo: \u001b[22m\u001b[39mPlotting frame 174 of 187...\n",
      "\u001b[36m\u001b[1m[ \u001b[22m\u001b[39m\u001b[36m\u001b[1mInfo: \u001b[22m\u001b[39mPlotting frame 175 of 187...\n",
      "\u001b[36m\u001b[1m[ \u001b[22m\u001b[39m\u001b[36m\u001b[1mInfo: \u001b[22m\u001b[39mPlotting frame 176 of 187...\n",
      "\u001b[36m\u001b[1m[ \u001b[22m\u001b[39m\u001b[36m\u001b[1mInfo: \u001b[22m\u001b[39mPlotting frame 177 of 187...\n",
      "\u001b[36m\u001b[1m[ \u001b[22m\u001b[39m\u001b[36m\u001b[1mInfo: \u001b[22m\u001b[39mPlotting frame 178 of 187...\n",
      "\u001b[36m\u001b[1m[ \u001b[22m\u001b[39m\u001b[36m\u001b[1mInfo: \u001b[22m\u001b[39mPlotting frame 179 of 187...\n",
      "\u001b[36m\u001b[1m[ \u001b[22m\u001b[39m\u001b[36m\u001b[1mInfo: \u001b[22m\u001b[39mPlotting frame 180 of 187...\n",
      "\u001b[36m\u001b[1m[ \u001b[22m\u001b[39m\u001b[36m\u001b[1mInfo: \u001b[22m\u001b[39mPlotting frame 181 of 187...\n",
      "\u001b[36m\u001b[1m[ \u001b[22m\u001b[39m\u001b[36m\u001b[1mInfo: \u001b[22m\u001b[39mPlotting frame 182 of 187...\n",
      "\u001b[36m\u001b[1m[ \u001b[22m\u001b[39m\u001b[36m\u001b[1mInfo: \u001b[22m\u001b[39mPlotting frame 183 of 187...\n",
      "\u001b[36m\u001b[1m[ \u001b[22m\u001b[39m\u001b[36m\u001b[1mInfo: \u001b[22m\u001b[39mPlotting frame 184 of 187...\n",
      "\u001b[36m\u001b[1m[ \u001b[22m\u001b[39m\u001b[36m\u001b[1mInfo: \u001b[22m\u001b[39mPlotting frame 185 of 187...\n",
      "\u001b[36m\u001b[1m[ \u001b[22m\u001b[39m\u001b[36m\u001b[1mInfo: \u001b[22m\u001b[39mPlotting frame 186 of 187...\n",
      "\u001b[36m\u001b[1m[ \u001b[22m\u001b[39m\u001b[36m\u001b[1mInfo: \u001b[22m\u001b[39mPlotting frame 187 of 187...\n"
     ]
    },
    {
     "data": {
      "text/plain": [
       "\"../animations/shear_instability_example.mp4\""
      ]
     },
     "execution_count": 10,
     "metadata": {},
     "output_type": "execute_result"
    }
   ],
   "source": [
    "using Printf\n",
    "\n",
    "@info \"Making a neat movie of stratified shear flow...\"\n",
    "\n",
    "filepath = simulation.output_writers[:buoyancy].filepath\n",
    "\n",
    "B_timeseries = FieldTimeSeries(filepath, \"B\")\n",
    "\n",
    "times = B_timeseries.times\n",
    "t_final = times[end]\n",
    "\n",
    "n = Observable(1)\n",
    "\n",
    "Bₙ = @lift interior(B_timeseries, :, 1, :, $n)\n",
    "\n",
    "fig = Figure(size=(800, 600))\n",
    "\n",
    "kwargs = (xlabel=\"x [m]\", ylabel=\"z [m]\", limits = ((xb[1], xb[end]), (-3, 3)), aspect=1,)\n",
    "\n",
    "title = @lift @sprintf(\"temperature [°C] at t = %.2f\", times[$n])\n",
    "\n",
    "ax_B = Axis(fig[1, 1]; title = title, kwargs...)\n",
    "\n",
    "B_lims = (-maximum(abs, interior(B_timeseries, :, 1, :, :)), maximum(abs, interior(B_timeseries, :, 1, :, :)))\n",
    "\n",
    "hm_B = heatmap!(ax_B, xb, zb, Bₙ; colorrange = B_lims, colormap = :balance)\n",
    "Colorbar(fig[1, 2], hm_B)\n",
    "\n",
    "frames = 1:length(times)\n",
    "\n",
    "record(fig, \"../animations/shear_instability_example.mp4\", frames, framerate=8) do i\n",
    "    @info \"Plotting frame $i of $(frames[end])...\"\n",
    "    n[] = i\n",
    "end"
   ]
  },
  {
   "cell_type": "code",
   "execution_count": 11,
   "id": "30d73389-75b0-4199-a210-b02e860e255c",
   "metadata": {},
   "outputs": [
    {
     "data": {
      "image/png": "[encoded data removed]"
     },
     "execution_count": 11,
     "metadata": {},
     "output_type": "execute_result"
    }
   ],
   "source": [
    "fig = Figure(size=(900, 600))\n",
    "kwargs = (xlabel=\"x [m]\", ylabel=\"z [m]\", limits = ((xb[1], xb[end]), (zb[1], zb[end])), aspect=1,)\n",
    "ax_B = Axis(fig[1, 1]; title = \"temperature [°C] at t=0 minutes\", kwargs...)\n",
    "hm_B = heatmap!(ax_B, xb, zb, interior(B_timeseries, :, 1, :, 1); colorrange = B_lims, colormap = :balance)\n",
    "\n",
    "ax_B = Axis(fig[1, 2]; title = \"temperature [°C] at t=90 minutes\", kwargs...)\n",
    "hm_B = heatmap!(ax_B, xb, zb, interior(B_timeseries, :, 1, :, 90); colorrange = B_lims, colormap = :balance)\n",
    "lines!(ax_B, [0, 0], [-5, 5], linestyle=:dash, color=:black)\n",
    "\n",
    "ax_B = Axis(fig[1, 3]; title = \"temperature [°C] at t=180 minutes\", kwargs...)\n",
    "hm_B = heatmap!(ax_B, xb, zb, interior(B_timeseries, :, 1, :, 180); colorrange = B_lims, colormap = :balance)\n",
    "\n",
    "ax_B = Axis(fig[2, 2]; title = \"temperature at t=90 minutes\", xlabel=\"temperature [ºC]\", ylabel=\"z [m]\", limits=(0.75.*B_lims, (zb[1], zb[end])))\n",
    "l_B = lines!(ax_B, interior(B_timeseries, 64, 1, :, 90), zb, label=\"x=0 m\")\n",
    "\n",
    "Colorbar(fig[1, 4], hm_B)\n",
    "leg = axislegend(ax_B, position=:lt)\n",
    "save(\"../figures/shear_instability_snapshots.png\", fig)\n",
    "#fig\n",
    "\n",
    "l_B = lines!(ax_B, mean(interior(B_timeseries, :, 1, :, 90), dims=(1))[1,:], zb, label=\"zonal average\")\n",
    "delete!(leg)\n",
    "axislegend(ax_B, position=:lt)\n",
    "save(\"../figures/shear_instability_snapshots_mean.png\", fig)\n",
    "fig"
   ]
  },
  {
   "cell_type": "code",
   "execution_count": 12,
   "id": "03a00f22-c92b-4bf5-878d-4f6366ccc7ee",
   "metadata": {},
   "outputs": [
    {
     "name": "stdout",
     "output_type": "stream",
     "text": [
      "(128, 64)"
     ]
    }
   ],
   "source": [
    "using Statistics\n",
    "Bₙ = interior(B_timeseries, :, 1, :, 186)\n",
    "b_mean = mean(Bₙ, dims=(1))[1,:]\n",
    "\n",
    "lines(b_mean, zb)\n",
    "\n",
    "print(size(Bₙ))\n",
    "\n"
   ]
  },
  {
   "cell_type": "markdown",
   "id": "a54b53e0-9528-40d1-856a-34acb8da6f71",
   "metadata": {},
   "source": [
    "#### Now let's try to calculate $z_{*}$ using the heaviside step function\n",
    "\n",
    "We first need to define some xo and zo\n",
    "\n",
    "If we choose the values where xo=-2.5 and zo=-1 we need to figure out which index in the xb array and zb array refer to these values. "
   ]
  },
  {
   "cell_type": "markdown",
   "id": "125a4f18-6740-4cae-b9c9-b63f45bb4270",
   "metadata": {},
   "source": [
    "Here is my first attempt at doing this, where I found the value closest to -2.5 and -1 by hand by looking through the arrays for xo and zo respectively. This is not the best procedure."
   ]
  },
  {
   "cell_type": "code",
   "execution_count": 13,
   "id": "610bb674-0a23-4367-9dce-390f69a583ef",
   "metadata": {},
   "outputs": [
    {
     "name": "stdout",
     "output_type": "stream",
     "text": [
      "The value ∼ -2.5 is found at index 32\n",
      "The value ∼ -1 is found at index nothing\n"
     ]
    }
   ],
   "source": [
    "indexxo = findfirst(x -> x == -2.5390625, xb)\n",
    "indexzo = findfirst(z -> z == -1.0546875, zb)\n",
    "\n",
    "println(\"The value ∼ -2.5 is found at index $indexxo\")\n",
    "println(\"The value ∼ -1 is found at index $indexzo\")"
   ]
  },
  {
   "cell_type": "markdown",
   "id": "af948cc8-34c7-420e-a46e-496d56d60579",
   "metadata": {},
   "source": [
    "Let's try another method, taking advantage of the absolute value function instead. Subtract our chosen value of xo from each element of the xb array. Then take the absolute value of this array and use the findmin method to find the index where the deviation from -2.5 is the smallest. Repeat for z!"
   ]
  },
  {
   "cell_type": "code",
   "execution_count": 14,
   "id": "c9dfb087-1d11-4416-9b1c-c495dea87e75",
   "metadata": {},
   "outputs": [
    {
     "data": {
      "text/plain": [
       "(0.015625, 26)"
      ]
     },
     "execution_count": 14,
     "metadata": {},
     "output_type": "execute_result"
    }
   ],
   "source": [
    "xo_val=-2.5\n",
    "zo_val=-1.0\n",
    "index_xo = findmin(abs.(xb.-xo_val))\n",
    "index_zo = findmin(abs.(zb.-zo_val))"
   ]
  },
  {
   "cell_type": "markdown",
   "id": "e6cdcf3a-d05b-48a1-a023-cc2776744a97",
   "metadata": {},
   "source": [
    "Cool! We found that the value closest to -2.5 for xo is found at the 32nd index. This is the same result as above!\n",
    "\n",
    "BUT, the computer caught my human error from the previous method. The value closest to -1 for zo is  the 26th index. "
   ]
  },
  {
   "cell_type": "markdown",
   "id": "7d0cde1e-4261-4ed4-91c7-fccecaff0628",
   "metadata": {},
   "source": [
    "### Now we know $x_o = 32$ and $z_o = 26$ and we can use this to calculate the Heaviside\n",
    "\n",
    "$ H(\\rho(x,t)-\\rho(x_o, t)) = \\left\\{\n",
    "\\begin{array}{ll}\n",
    "        0, \\rho(x,t)\\leq\\rho(x_o, t)\\\\\n",
    "        1, \\rho(x,t)>\\rho(x_o,t)\\\\\n",
    "\\end{array}\n",
    "\\right.$"
   ]
  },
  {
   "cell_type": "markdown",
   "id": "3ce81400-3aab-4530-9443-7a688c7f7a5e",
   "metadata": {},
   "source": [
    "#### Since our model outputs buoyancy values rather than density and we know $b \\propto -\\rho$ We can multiply both sides of the inequality by -1. \n",
    "\n",
    "$ H(b(x_o,t)-b(x, t)) = \\left\\{\n",
    "\\begin{array}{ll}\n",
    "        0, b(x,t)\\geq b(x_o, t)\\\\\n",
    "        1, b(x,t)<b(x_o,t)\\\\\n",
    "\\end{array}\n",
    "\\right.$"
   ]
  },
  {
   "cell_type": "code",
   "execution_count": 15,
   "id": "abab1a65-fd65-4597-8fcb-1de0864e6411",
   "metadata": {
    "scrolled": true
   },
   "outputs": [
    {
     "data": {
      "text/plain": [
       "128×64 BitMatrix:\n",
       " 1  1  1  1  1  1  1  1  1  1  1  1  1  …  0  0  0  0  0  0  0  0  0  0  0  0\n",
       " 1  1  1  1  1  1  1  1  1  1  1  1  1     0  0  0  0  0  0  0  0  0  0  0  0\n",
       " 1  1  1  1  1  1  1  1  1  1  1  1  1     0  0  0  0  0  0  0  0  0  0  0  0\n",
       " 1  1  1  1  1  1  1  1  1  1  1  1  1     0  0  0  0  0  0  0  0  0  0  0  0\n",
       " 1  1  1  1  1  1  1  1  1  1  1  1  1     0  0  0  0  0  0  0  0  0  0  0  0\n",
       " 1  1  1  1  1  1  1  1  1  1  1  1  1  …  0  0  0  0  0  0  0  0  0  0  0  0\n",
       " 1  1  1  1  1  1  1  1  1  1  1  1  1     0  0  0  0  0  0  0  0  0  0  0  0\n",
       " 1  1  1  1  1  1  1  1  1  1  1  1  1     0  0  0  0  0  0  0  0  0  0  0  0\n",
       " 1  1  1  1  1  1  1  1  1  1  1  1  1     0  0  0  0  0  0  0  0  0  0  0  0\n",
       " 1  1  1  1  1  1  1  1  1  1  1  1  1     0  0  0  0  0  0  0  0  0  0  0  0\n",
       " 1  1  1  1  1  1  1  1  1  1  1  1  1  …  0  0  0  0  0  0  0  0  0  0  0  0\n",
       " 1  1  1  1  1  1  1  1  1  1  1  1  1     0  0  0  0  0  0  0  0  0  0  0  0\n",
       " 1  1  1  1  1  1  1  1  1  1  1  1  1     0  0  0  0  0  0  0  0  0  0  0  0\n",
       " ⋮              ⋮              ⋮        ⋱           ⋮              ⋮        \n",
       " 1  1  1  1  1  1  1  1  1  1  1  1  1     0  0  0  0  0  0  0  0  0  0  0  0\n",
       " 1  1  1  1  1  1  1  1  1  1  1  1  1     0  0  0  0  0  0  0  0  0  0  0  0\n",
       " 1  1  1  1  1  1  1  1  1  1  1  1  1     0  0  0  0  0  0  0  0  0  0  0  0\n",
       " 1  1  1  1  1  1  1  1  1  1  1  1  1     0  0  0  0  0  0  0  0  0  0  0  0\n",
       " 1  1  1  1  1  1  1  1  1  1  1  1  1  …  0  0  0  0  0  0  0  0  0  0  0  0\n",
       " 1  1  1  1  1  1  1  1  1  1  1  1  1     0  0  0  0  0  0  0  0  0  0  0  0\n",
       " 1  1  1  1  1  1  1  1  1  1  1  1  1     0  0  0  0  0  0  0  0  0  0  0  0\n",
       " 1  1  1  1  1  1  1  1  1  1  1  1  1     0  0  0  0  0  0  0  0  0  0  0  0\n",
       " 1  1  1  1  1  1  1  1  1  1  1  1  1     0  0  0  0  0  0  0  0  0  0  0  0\n",
       " 1  1  1  1  1  1  1  1  1  1  1  1  1  …  0  0  0  0  0  0  0  0  0  0  0  0\n",
       " 1  1  1  1  1  1  1  1  1  1  1  1  1     0  0  0  0  0  0  0  0  0  0  0  0\n",
       " 1  1  1  1  1  1  1  1  1  1  1  1  1     0  0  0  0  0  0  0  0  0  0  0  0"
      ]
     },
     "execution_count": 15,
     "metadata": {},
     "output_type": "execute_result"
    }
   ],
   "source": [
    "xo=32\n",
    "zo=52÷2\n",
    "\n",
    "\n",
    "#Calculate the Heaviside both two methods below result in diff values\n",
    "\n",
    "Heavy = (Bₙ .< Bₙ[xo,zo])\n"
   ]
  },
  {
   "cell_type": "markdown",
   "id": "e2ece7e8-f535-415d-a667-33c712eb82ca",
   "metadata": {},
   "source": [
    "### Now, we use the following equation to find $z_{*}$.\n",
    "\n",
    "#### $z_{*} = \\frac{\\int H dV}{A} $ The integral represents the volume in the fluid where the buoyancy is less than buoyancy at \n",
    "$x_o$ Therefore, $V(b<b_o) < V_{total}$ Additionally, \n",
    "$dV = dx dy dz$ and since dy is not dependent on H, it can be taken out of the integral. Also, $A=L_x L_y$ Thus, we can cancel $L_y$ and rewrite the integral as: $z_{*} = \\frac{\\int H dx dz}{L_x}$\n",
    "\n",
    "To solve the integral, we can breakdown our function and essentially take the sum of area under the curve. $\\int H dA = \\sum_{i,j \\epsilon [0,N_x;0,N_z]} H \\Delta A$ \n",
    "\n",
    "Here, $\\Delta A = \\Delta x \\Delta z$ where $\\Delta x = \\frac{L_x}{N_x}$ and $\\Delta z = \\frac{L_z}{N_z}$. \n",
    "\n",
    "$L_x = L_z = 10$ is the prescribed length of the grid and $N_x = N_z = 128$ is the number of grid cells within the entire grid. Therefore $\\Delta A = \\frac{10^2}{128^2}$"
   ]
  },
  {
   "cell_type": "code",
   "execution_count": 16,
   "id": "9ff4dd01-0590-4082-9294-1ae0c8c62dab",
   "metadata": {},
   "outputs": [
    {
     "data": {
      "text/plain": [
       "1.839599609375"
      ]
     },
     "execution_count": 16,
     "metadata": {},
     "output_type": "execute_result"
    }
   ],
   "source": [
    "deltaA = fill(10^2/128^2, 128)\n",
    "Lx=10\n",
    "\n",
    "#Δx = L/Nx\n",
    "#Δz = H/Nz\n",
    "#ΔA = zeros((length(x), length(z))) .+ Δx * Δz\n",
    "\n",
    "z_star = sum(Heavy .*deltaA)/Lx\n",
    "\n",
    "#z_star is a scalar...."
   ]
  },
  {
   "cell_type": "markdown",
   "id": "62a5bfbe-7f67-49c7-b51a-2dd6b54f3589",
   "metadata": {},
   "source": [
    "### Make a plot of matrix H in the x versus buoyancy in the x\n"
   ]
  },
  {
   "cell_type": "markdown",
   "id": "6eecf2fc-ac47-41df-92ba-0def47698181",
   "metadata": {},
   "source": [
    "Make a heatmap for xo=-2.5, zo=-1"
   ]
  },
  {
   "cell_type": "code",
   "execution_count": 17,
   "id": "66294827-564f-4a40-ac3e-3d635476c35d",
   "metadata": {},
   "outputs": [
    {
     "data": {
      "image/png": "[encoded data removed]"
     },
     "execution_count": 17,
     "metadata": {},
     "output_type": "execute_result"
    }
   ],
   "source": [
    "f1 = Figure()\n",
    "ax1 = Axis(f1[1,1],title=\"Heatmap for xo=-2.5 and zo=-1\", xlabel=\"x[m]\", ylabel=\"z[m]\")\n",
    "heatmap!(ax1,xb,zb,Heavy)\n",
    "f1"
   ]
  },
  {
   "cell_type": "markdown",
   "id": "5d468047-56c6-41cc-b2d4-ca734584cbed",
   "metadata": {},
   "source": [
    "### Now, we must repeat this process for every element in xb and zb to create the vector $\\vec{z_{*}}$"
   ]
  },
  {
   "cell_type": "markdown",
   "id": "c19fbc21-f1e6-4512-b6cf-884804c8ed3c",
   "metadata": {},
   "source": [
    "### Example Problem\n",
    "\n",
    "create positional x and z arrays from (-2,2) with length of 5\n",
    "create a random 5x5 buoyancy matrix \n",
    "\n",
    "initalize zstar array, loop through x and z arrays, calculate heaviside at each point. Then, calculate zstar at each point. Append zstar at single point to the larger zstar array. Finally, return zstar array and let's make sure that it has the length we expect, which should be 25. "
   ]
  },
  {
   "cell_type": "code",
   "execution_count": 84,
   "id": "e701b5c4-7d98-4850-9b10-cdcc9c5125ee",
   "metadata": {},
   "outputs": [
    {
     "name": "stdout",
     "output_type": "stream",
     "text": [
      "(5, 5)"
     ]
    }
   ],
   "source": [
    "x = [-2, -1, 0, 1, 2]\n",
    "z = [-2, -1, 0, 1, 2]\n",
    "y = [1]\n",
    "time = [1, 2, 3, 4, 5]\n",
    "\n",
    "data = zeros(length(x), length(y), length(z), length(time))\n",
    "\n",
    "for t in 1:length(time)\n",
    "    data[:, :, :, t] = rand(5,1,5) .+ time[t]\n",
    "end\n",
    "\n",
    "BB = rand(length(x), length(z))\n",
    "#H = (BB .>= BB[i, j])\n",
    "\n",
    "Δx = 1\n",
    "Δz = 1\n",
    "Δy = 1\n",
    "\n",
    "\n",
    "ΔV = zeros(length(x), length(y), length(z)) .+ Δx * Δz * Δy\n",
    "ΔA = zeros(length(x), length(z)) .+ Δx * Δz\n",
    "\n",
    "Lx = length(x) * Δx\n",
    "\n",
    "zstar_ex = zeros(Float64, length(x), length(z))\n",
    "\n",
    "for (i, x0) in enumerate(x)\n",
    "    for (j, z0) in enumerate(z)\n",
    "        #println(\"Index of x: $i, Value: $x0\")\n",
    "        #println(\"Index of z: $j, Value: $z0\")\n",
    "        Heavy = (BB .< BB[i, j])\n",
    "        #print(H)\n",
    "        zstar_point = sum(Heavy .*ΔA)/Lx\n",
    "        #print(zstar_point)\n",
    "        zstar_ex[i,j] = zstar_point\n",
    "        \n",
    "    end\n",
    "end\n",
    "\n",
    "print(size(zstar_ex))\n"
   ]
  },
  {
   "cell_type": "code",
   "execution_count": 95,
   "id": "ded788b5-b12c-4847-890f-7047001c165e",
   "metadata": {},
   "outputs": [
    {
     "name": "stdout",
     "output_type": "stream",
     "text": [
      "[458.8692411743029, 789.0113796030204, 1047.9956059018332, 1326.1925934099982, 1642.8327180831195]"
     ]
    }
   ],
   "source": [
    "#find the background potential energy using zstar for the example problem \n",
    "\n",
    "x = [-2, -1, 0, 1, 2]\n",
    "z = [-2, -1, 0, 1, 2]\n",
    "y = [1]\n",
    "time = [1, 2, 3, 4, 5]\n",
    "\n",
    "data = zeros(length(x), length(y), length(z), length(time))\n",
    "\n",
    "for t in 1:length(time)\n",
    "    data[:, :, :, t] = rand(5,1,5) .+ time[t]\n",
    "end\n",
    "\n",
    "#print(size((data[:,:,:,1])))\n",
    "\n",
    "ΔV = zeros(length(x), length(y), length(z)) .+ Δx * Δy * Δz\n",
    "\n",
    "#print(size(ΔV))\n",
    "\n",
    "vol_integral = zeros(length(time))\n",
    "\n",
    "for t in 1:size(data,4)\n",
    "    volslice = sum(data[:,:,:,t] .* zstar_ex .* ΔV)\n",
    "    vol_integral[t] = volslice\n",
    "end\n",
    "\n",
    "\n",
    "\n",
    "#vol_integral = [sum(data[:, :, :, t] .* zstar_ex .* ΔV for t in 1:size(data,4))]\n",
    "\n",
    "print((vol_integral))"
   ]
  },
  {
   "cell_type": "markdown",
   "id": "07eb9cdd-4185-4158-a14d-2c34346d6e14",
   "metadata": {},
   "source": [
    "### Using the above method, lets create a function CreateZstar, which will return zstar for our buoyancy data"
   ]
  },
  {
   "cell_type": "code",
   "execution_count": 27,
   "id": "da0e4ce9-cf44-4bda-a89a-28638b04163a",
   "metadata": {},
   "outputs": [
    {
     "data": {
      "text/plain": [
       "CreateZstar (generic function with 1 method)"
      ]
     },
     "execution_count": 27,
     "metadata": {},
     "output_type": "execute_result"
    }
   ],
   "source": [
    "function CreateZstar(x, z, B)\n",
    "    Δx = L/Nx\n",
    "    Δz = H/Nz\n",
    "    ΔA = zeros((length(x), length(z))) .+ Δx * Δz\n",
    "    \n",
    "    #initialize zstar\n",
    "    zstar = zeros(length(x), length(z))\n",
    "    for (i,x0) in enumerate(x)\n",
    "        for (j,z0) in enumerate(z)\n",
    "            Heavy = (B .< B[i,j])\n",
    "            singlezstar = sum(Heavy .*ΔA)/L - H/2\n",
    "            zstar[i,j] = singlezstar \n",
    "    \n",
    "        end\n",
    "    end\n",
    "    \n",
    "    return zstar\n",
    "end\n"
   ]
  },
  {
   "cell_type": "code",
   "execution_count": 29,
   "id": "f8eca512-a709-475d-9c20-9eb5cd358563",
   "metadata": {},
   "outputs": [
    {
     "name": "stdout",
     "output_type": "stream",
     "text": [
      "187"
     ]
    }
   ],
   "source": [
    "B = B_timeseries\n",
    "\n",
    "print(size(B,4))"
   ]
  },
  {
   "cell_type": "code",
   "execution_count": 20,
   "id": "b270950e-bb9e-46e9-9893-597fa25f6f03",
   "metadata": {},
   "outputs": [
    {
     "ename": "LoadError",
     "evalue": "syntax: incomplete: premature end of input",
     "output_type": "error",
     "traceback": [
      "syntax: incomplete: premature end of input",
      "",
      "Stacktrace:",
      " [1] top-level scope",
      "   @ In[20]:1"
     ]
    }
   ],
   "source": [
    "#function CreateBackgroundPE(x, y, z, zstar, B)\n",
    "    Δx = L/Nx\n",
    "    Δz = H/Nz\n",
    "    Δy = 1\n",
    "    ΔV = zeros(length(x), length(y), length(z)) .+ Δx * Δy * Δz\n",
    "\n",
    "    #initialize background PE\n",
    "    background_PE = zeros(length(B.times))\n",
    "    for i in length(x)\n",
    "        for j in length(z)\n",
    "            "
   ]
  },
  {
   "cell_type": "code",
   "execution_count": 97,
   "id": "f0f6b4f7-1179-4467-aacc-0e3c72a65a00",
   "metadata": {},
   "outputs": [
    {
     "name": "stdout",
     "output_type": "stream",
     "text": [
      "(5, 5)"
     ]
    }
   ],
   "source": [
    "Zstar = CreateZstar(xb, zb, Bₙ)\n",
    "\n",
    "print(size(zstar))"
   ]
  },
  {
   "cell_type": "code",
   "execution_count": 98,
   "id": "df3a767f-17f7-441b-abe2-351c3fe5b99f",
   "metadata": {},
   "outputs": [
    {
     "data": {
      "image/png": "[encoded data removed]"
     },
     "execution_count": 98,
     "metadata": {},
     "output_type": "execute_result"
    }
   ],
   "source": [
    "f1 = Figure()\n",
    "ax1 = Axis(f1[1,1],title=\"Heatmap for xo=-2.5 and zo=-1\", xlabel=\"x[m]\", ylabel=\"z[m]\")\n",
    "hm = heatmap!(ax1, xb,zb,Zstar)\n",
    "Colorbar(f1[1, 2], hm);\n",
    "f1"
   ]
  },
  {
   "cell_type": "markdown",
   "id": "2a489941-ee98-4d7e-a690-a062ffd0419a",
   "metadata": {},
   "source": [
    "### Let's compute Total, Background, and Available potential energies\n",
    "\n",
    "$E_p = -g\\int_V b \\cdot z dV $\n",
    "\n",
    "$E_b = -g\\int_V b \\cdot  z_* dV$\n",
    "\n",
    "where $ dV = dx dy dz $"
   ]
  },
  {
   "cell_type": "markdown",
   "id": "edee75b4-f352-48f4-aa5d-f1654c038918",
   "metadata": {},
   "source": [
    "### we can use a similar method as the integral of the heaviside was calculated earlier\n",
    "\n",
    "$ \\Delta V = \\Delta x \\cdot \\Delta y \\cdot \\Delta z  $"
   ]
  },
  {
   "cell_type": "markdown",
   "id": "924e4186-83df-4cd4-ac29-aa481838b9cd",
   "metadata": {},
   "source": [
    "#### In this problem, we want to use B(t) buoyancy as it varies with time. "
   ]
  },
  {
   "cell_type": "code",
   "execution_count": 99,
   "id": "8759bc2b-8b7d-4658-8d38-e17f89181536",
   "metadata": {},
   "outputs": [
    {
     "data": {
      "text/plain": [
       "128×1×64×187 FieldTimeSeries{InMemory} located at (Center, Center, Center) on CPU\n",
       "├── grid: 128×1×64 RectilinearGrid{Float64, Periodic, Flat, Bounded} on CPU with 3×0×3 halo\n",
       "├── indices: (1:128, 1:1, 1:64)\n",
       "└── data: 128×1×64×187 OffsetArray(::Array{Float64, 4}, 1:128, 1:1, 1:64, 1:187) with eltype Float64 with indices 1:128×1:1×1:64×1:187\n",
       "    └── max=0.0606321, min=-0.0597145, mean=-1.98798e-6"
      ]
     },
     "execution_count": 99,
     "metadata": {},
     "output_type": "execute_result"
    }
   ],
   "source": [
    "B_4D = B_timeseries"
   ]
  },
  {
   "cell_type": "code",
   "execution_count": 101,
   "id": "3a3ac845-16ad-47fa-af40-cccb23ca35b7",
   "metadata": {},
   "outputs": [
    {
     "data": {
      "text/plain": [
       "187-element Vector{Float64}:\n",
       "  0.02888513320033468\n",
       " -0.09548498164659276\n",
       " -0.08495180727984988\n",
       " -0.14799376054988764\n",
       " -0.09023624510514505\n",
       " -0.14326797888775689\n",
       " -0.025776312393811198\n",
       "  0.14846009613975714\n",
       "  0.06706164423192312\n",
       "  0.17081128348425945\n",
       "  0.18647839689642198\n",
       "  0.08041696437332826\n",
       " -0.1300331929307703\n",
       "  ⋮\n",
       "  3.7353583800279893\n",
       "  3.8123657084888896\n",
       "  3.560285108049318\n",
       "  2.92441836567691\n",
       "  1.9018757017973784\n",
       "  0.6005618914501057\n",
       " -0.8080527270046987\n",
       " -2.2520011380394\n",
       " -3.448601403270463\n",
       " -4.320396885811614\n",
       " -4.783928425893689\n",
       " -4.580089685056"
      ]
     },
     "execution_count": 101,
     "metadata": {},
     "output_type": "execute_result"
    }
   ],
   "source": [
    "B_4D = B_timeseries\n",
    "Δx = L/Nx\n",
    "Δz = H/Nz\n",
    "Δy = 1\n",
    "ΔV = zeros(length(xb), length(yb), length(zb)) .+ Δx * Δy * Δz\n",
    "g = 9.8\n",
    "\n",
    "vol_integral = zeros(length(B_4D.times))\n",
    "\n",
    "for t in 1:size(B_4D,4)\n",
    "    volslice = sum(B_4D[:,:,:,t] .* Zstar .* ΔV)\n",
    "    vol_integral[t] = volslice\n",
    "end\n",
    "\n",
    "background_PE = vol_integral * -g"
   ]
  },
  {
   "cell_type": "code",
   "execution_count": 102,
   "id": "0f6f742c-7cd6-4d17-829e-6f70a3512300",
   "metadata": {},
   "outputs": [],
   "source": [
    "g = 9.8\n",
    "\n",
    "KE_timeseries = FieldTimeSeries(filepath, \"KE\")\n",
    "PE_timeseries = FieldTimeSeries(filepath, \"PE\")\n",
    "\n",
    "times = KE_timeseries.times\n",
    "\n",
    "kinetic_energy = zeros(size(times))\n",
    "potential_energy = zeros(size(times))\n",
    "\n",
    "for i = 1:length(times)\n",
    "    ke_snapshot = Field(Integral(KE_timeseries[i]))\n",
    "    compute!(ke_snapshot)\n",
    "    kinetic_energy[i] = ke_snapshot[1,1,1]\n",
    "\n",
    "    pe_snapshot = Field(Integral(PE_timeseries[i]))\n",
    "    compute!(pe_snapshot)\n",
    "    potential_energy[i] = pe_snapshot[1,1,1]\n",
    "end"
   ]
  },
  {
   "cell_type": "code",
   "execution_count": 103,
   "id": "3d0372f0-9e10-4aba-923a-7ceed1f5654d",
   "metadata": {},
   "outputs": [
    {
     "name": "stdout",
     "output_type": "stream",
     "text": [
      "187"
     ]
    }
   ],
   "source": [
    "print(length(kinetic_energy))"
   ]
  },
  {
   "cell_type": "code",
   "execution_count": 104,
   "id": "ddca5c13-d080-4b55-a5b6-3af3858ae4f2",
   "metadata": {},
   "outputs": [
    {
     "data": {
      "image/png": "[encoded data removed]"
     },
     "execution_count": 104,
     "metadata": {},
     "output_type": "execute_result"
    }
   ],
   "source": [
    "fig_energy = Figure(resolution = (500,800))\n",
    "ax_KE = Axis(fig_energy[1,1], xlabel = \"time\", ylabel= \"KE\", title = \"KE versus Time\")\n",
    "lines!(ax_KE, times, kinetic_energy)\n",
    "\n",
    "ax_PE = Axis(fig_energy[2,1], xlabel= \"time\", ylabel = \"PE\", title = \"PE versus Time\")\n",
    "lines!(ax_PE, times, g * potential_energy)\n",
    "\n",
    "ax_PEb = Axis(fig_energy[3,1], xlabel=\"time\", ylabel=\"Background PE\", title=\"Background PE versus Time\")\n",
    "lines!(ax_PEb, times, \n",
    "\n",
    "fig_energy"
   ]
  },
  {
   "cell_type": "code",
   "execution_count": 98,
   "id": "8f0cbcd9-69fa-4ab1-9218-f0dfd52118f5",
   "metadata": {},
   "outputs": [
    {
     "data": {
      "text/plain": [
       "(128, 1, 64, 187)"
      ]
     },
     "execution_count": 98,
     "metadata": {},
     "output_type": "execute_result"
    }
   ],
   "source": [
    "size(B_timeseries)\n"
   ]
  },
  {
   "cell_type": "code",
   "execution_count": 67,
   "id": "6e3869d0-beec-4a10-8f8b-68a8ba5c48b7",
   "metadata": {},
   "outputs": [
    {
     "data": {
      "text/plain": [
       "(128, 128)"
      ]
     },
     "execution_count": 67,
     "metadata": {},
     "output_type": "execute_result"
    }
   ],
   "source": [
    "size(Bₙ .* zstar * ΔV)"
   ]
  },
  {
   "cell_type": "code",
   "execution_count": 63,
   "id": "de8e8cc6-cb5f-4e66-8dd3-2f134b8c860b",
   "metadata": {},
   "outputs": [
    {
     "data": {
      "text/plain": [
       "(64, 128)"
      ]
     },
     "execution_count": 63,
     "metadata": {},
     "output_type": "execute_result"
    }
   ],
   "source": [
    "g = 9.8\n",
    "Δx = L/Nx\n",
    "Δy = 1\n",
    "Δz = H/Nz\n",
    "\n",
    "ΔV = zeros((length(zb), length(xb))) .+ Δx * Δz * Δy\n",
    "\n",
    "size(ΔV)\n",
    "\n",
    "\n"
   ]
  },
  {
   "cell_type": "code",
   "execution_count": 79,
   "id": "45af0bb0-d757-421d-863f-d99883d782de",
   "metadata": {},
   "outputs": [
    {
     "ename": "LoadError",
     "evalue": "UndefVarError: `PE_b` not defined",
     "output_type": "error",
     "traceback": [
      "UndefVarError: `PE_b` not defined",
      "",
      "Stacktrace:",
      " [1] top-level scope",
      "   @ ./In[79]:3"
     ]
    }
   ],
   "source": [
    "for i = 1:length(times)\n",
    "    single_B = -g * sum(Bₙ .* zstar * ΔV)\n",
    "    PE_b[i] = single_B[i]\n",
    "    return PE_b\n",
    "    end\n",
    "    "
   ]
  },
  {
   "cell_type": "code",
   "execution_count": 96,
   "id": "c8793e9d-2e9c-4970-a1a8-19cd07f6391d",
   "metadata": {},
   "outputs": [
    {
     "ename": "LoadError",
     "evalue": "UndefVarError: `PE_background` not defined",
     "output_type": "error",
     "traceback": [
      "UndefVarError: `PE_background` not defined",
      "",
      "Stacktrace:",
      " [1] top-level scope",
      "   @ ./In[96]:4"
     ]
    }
   ],
   "source": [
    "for i in zstar[1,:]\n",
    "    for j in zstar[:,1]\n",
    "        PE_back_point = sum(Bₙ .* zstar)\n",
    "        PE_background[i,j] = PE_back_point\n",
    "    end\n",
    "end"
   ]
  },
  {
   "cell_type": "code",
   "execution_count": null,
   "id": "3ee18b5d-0c4d-46ce-b07e-7238af593967",
   "metadata": {},
   "outputs": [],
   "source": []
  }
 ],
 "metadata": {
  "kernelspec": {
   "display_name": "Julia 1.9.3",
   "language": "julia",
   "name": "julia-1.9"
  },
  "language_info": {
   "file_extension": ".jl",
   "mimetype": "application/julia",
   "name": "julia",
   "version": "1.9.3"
  }
 },
 "nbformat": 4,
 "nbformat_minor": 5
}
