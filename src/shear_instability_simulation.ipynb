{
 "cells": [
  {
   "cell_type": "code",
   "execution_count": 13,
   "id": "4950007c-069a-43d8-849c-856cf6071560",
   "metadata": {},
   "outputs": [
    {
     "name": "stderr",
     "output_type": "stream",
     "text": [
      "\u001b[32m\u001b[1m  Activating\u001b[22m\u001b[39m project at `~/Documents/code/HorizontalConvection`\n"
     ]
    }
   ],
   "source": [
    "] activate ../"
   ]
  },
  {
   "cell_type": "code",
   "execution_count": 14,
   "id": "22b79a6d-9dd8-4b68-aa9b-d715385c6508",
   "metadata": {},
   "outputs": [
    {
     "name": "stdout",
     "output_type": "stream",
     "text": [
      "\u001b[32m\u001b[1mStatus\u001b[22m\u001b[39m `~/Documents/code/HorizontalConvection/Project.toml`\n",
      "\u001b[32m⌃\u001b[39m \u001b[90m[13f3f980] \u001b[39mCairoMakie v0.10.10\n",
      "  \u001b[90m[7073ff75] \u001b[39mIJulia v1.24.2\n",
      "\u001b[32m⌃\u001b[39m \u001b[90m[b946abbf] \u001b[39mNaNStatistics v0.6.31\n",
      "\u001b[32m⌃\u001b[39m \u001b[90m[9e8cae18] \u001b[39mOceananigans v0.88.0\n",
      "\u001b[36m\u001b[1mInfo\u001b[22m\u001b[39m Packages marked with \u001b[32m⌃\u001b[39m have new versions available and may be upgradable.\n"
     ]
    }
   ],
   "source": [
    "] status"
   ]
  },
  {
   "cell_type": "code",
   "execution_count": 15,
   "id": "6e7884c3-8468-466d-bd8e-ed332c5e791d",
   "metadata": {},
   "outputs": [],
   "source": [
    "using Oceananigans\n",
    "#using Printf"
   ]
  },
  {
   "cell_type": "code",
   "execution_count": 16,
   "id": "76eb90c2-fc39-429c-bcd5-b3443dcf8afb",
   "metadata": {},
   "outputs": [
    {
     "data": {
      "text/plain": [
       "68×1×64 RectilinearGrid{Float64, Periodic, Flat, Bounded} on CPU with 3×0×3 halo\n",
       "├── Periodic x ∈ [-5.0, 5.0)      regularly spaced with Δx=0.147059\n",
       "├── Flat y\n",
       "└── Bounded  z ∈ [-5.0, 5.0]      regularly spaced with Δz=0.15625"
      ]
     },
     "execution_count": 16,
     "metadata": {},
     "output_type": "execute_result"
    }
   ],
   "source": [
    "Nx = 68\n",
    "Nz = 64\n",
    "L = 10\n",
    "H = 10\n",
    "grid = RectilinearGrid(size=(Nx, Nz), x=(-L/2, L/2), z=(-H/2, H/2),\n",
    "                       topology=(Periodic, Flat, Bounded))"
   ]
  },
  {
   "cell_type": "code",
   "execution_count": 17,
   "id": "56f71685-ac0f-4853-8a95-e77c15578ab6",
   "metadata": {},
   "outputs": [],
   "source": [
    "shear_flow(x, y, z, t) = tanh(z)\n",
    "\n",
    "stratification(x, y, z, t, p) = p.h * p.Ri * tanh(z / p.h)\n",
    "\n",
    "Ū = BackgroundField(shear_flow)\n",
    "\n",
    "B̄ = BackgroundField(stratification, parameters=(Ri=0.1, h=1/4));"
   ]
  },
  {
   "cell_type": "code",
   "execution_count": 18,
   "id": "7b385ab3-7825-4fdc-bef9-feb8f1e2c6bc",
   "metadata": {},
   "outputs": [
    {
     "ename": "LoadError",
     "evalue": "UndefVarError: `B` not defined",
     "output_type": "error",
     "traceback": [
      "UndefVarError: `B` not defined",
      "",
      "Stacktrace:",
      " [1] top-level scope",
      "   @ In[18]:6"
     ]
    }
   ],
   "source": [
    "using CairoMakie\n",
    "\n",
    "zF = znodes(grid, Face())\n",
    "zC = znodes(grid, Center())\n",
    "\n",
    "Ri, h = B.parameters\n",
    "\n",
    "fig = Figure(size = (850, 450))\n",
    "\n",
    "ax = Axis(fig[1, 1], xlabel = \"U(z)\", ylabel = \"z\", limits=((nothing, nothing), (-5, 5)))\n",
    "lines!(ax, shear_flow.(0, 0, zC, 0), zC; linewidth = 3)\n",
    "\n",
    "ax = Axis(fig[1, 2], xlabel = \"B(z)\", limits=((nothing, nothing), (-5, 5)))\n",
    "lines!(ax, [stratification(0, 0, z, 0, (Ri=Ri, h=h)) for z in zC], zC; linewidth = 3, color = :red)\n",
    "\n",
    "ax = Axis(fig[1, 3], xlabel = \"Ri(z)\", limits=((nothing, nothing), (-5, 5)))\n",
    "lines!(ax, [Ri * sech(z / h)^2 / sech(z)^2 for z in zF], zF; linewidth = 3, color = :black) # Ri(z)= ∂_z B / (∂_z U)²; derivatives computed by hand\n",
    "\n",
    "fig"
   ]
  },
  {
   "cell_type": "code",
   "execution_count": 19,
   "id": "bda8f8f4-eab1-431f-8325-1df43bbc5116",
   "metadata": {},
   "outputs": [
    {
     "name": "stderr",
     "output_type": "stream",
     "text": [
      "warning: /Users/hdrake/.julia/packages/KernelAbstractions/cWlFz/src/extras/loopinfo.jl:28:0: loop not unrolled: the optimizer was unable to perform the requested transformation; the transformation might be disabled or specified as part of an unsupported transformation ordering\n"
     ]
    },
    {
     "data": {
      "text/plain": [
       "NonhydrostaticModel{CPU, RectilinearGrid}(time = 0 seconds, iteration = 0)\n",
       "├── grid: 68×1×64 RectilinearGrid{Float64, Periodic, Flat, Bounded} on CPU with 3×0×3 halo\n",
       "├── timestepper: RungeKutta3TimeStepper\n",
       "├── tracers: b\n",
       "├── closure: ScalarDiffusivity{ExplicitTimeDiscretization}(ν=2.0e-5, κ=(b=2.0e-5,))\n",
       "├── buoyancy: BuoyancyTracer with ĝ = NegativeZDirection()\n",
       "└── coriolis: Nothing"
      ]
     },
     "execution_count": 19,
     "metadata": {},
     "output_type": "execute_result"
    }
   ],
   "source": [
    "model = NonhydrostaticModel(timestepper = :RungeKutta3,\n",
    "                              advection = UpwindBiasedFifthOrder(),\n",
    "                                   grid = grid,\n",
    "                               coriolis = nothing,\n",
    "                      background_fields = (u=Ū, b=B̄),\n",
    "                                closure = ScalarDiffusivity(ν=0.2e-4, κ=0.2e-4),\n",
    "                               buoyancy = BuoyancyTracer(),\n",
    "                                tracers = :b)"
   ]
  },
  {
   "cell_type": "code",
   "execution_count": 20,
   "id": "96eb4536-5fb0-4f8c-ad5e-a1ed50b50667",
   "metadata": {},
   "outputs": [
    {
     "data": {
      "text/plain": [
       "Simulation of NonhydrostaticModel{CPU, RectilinearGrid}(time = 0 seconds, iteration = 0)\n",
       "├── Next time step: 100 ms\n",
       "├── Elapsed wall time: 0 seconds\n",
       "├── Wall time per iteration: NaN days\n",
       "├── Stop time: Inf days\n",
       "├── Stop iteration : 2000.0\n",
       "├── Wall time limit: Inf\n",
       "├── Callbacks: OrderedDict with 4 entries:\n",
       "│   ├── stop_time_exceeded => Callback of stop_time_exceeded on IterationInterval(1)\n",
       "│   ├── stop_iteration_exceeded => Callback of stop_iteration_exceeded on IterationInterval(1)\n",
       "│   ├── wall_time_limit_exceeded => Callback of wall_time_limit_exceeded on IterationInterval(1)\n",
       "│   └── nan_checker => Callback of NaNChecker for u on IterationInterval(100)\n",
       "├── Output writers: OrderedDict with no entries\n",
       "└── Diagnostics: OrderedDict with no entries"
      ]
     },
     "execution_count": 20,
     "metadata": {},
     "output_type": "execute_result"
    }
   ],
   "source": [
    "Δt = 0.1 \n",
    "simulation = Simulation(model, Δt=Δt, stop_iteration=2000, verbose=false)"
   ]
  },
  {
   "cell_type": "code",
   "execution_count": 21,
   "id": "f96a0570-4cc1-4d71-a2d9-29b61a4102a6",
   "metadata": {},
   "outputs": [],
   "source": [
    "using Random, Statistics\n",
    "\n",
    "u, v, w = model.velocities\n",
    "b = model.tracers.b\n",
    "B = Field(model.tracers.b + model.background_fields.tracers.b)\n",
    "xb, yb, zb = nodes(b)\n",
    "\n",
    "noise(x, y, z) = 1.e-3*randn()\n",
    "set!(model, u=noise, w=noise, b=noise)"
   ]
  },
  {
   "cell_type": "code",
   "execution_count": 22,
   "id": "091ff25a-3a9b-4b74-b29d-efb1c342be78",
   "metadata": {},
   "outputs": [],
   "source": [
    "U = Field(u + model.background_fields.velocities.u)\n",
    "V = v # No background y-velocity [Flat, so actually no perturbation y-velocity either]\n",
    "W = w # No background z-velocity\n",
    "kinetic_energy = @at (Center, Center, Center) 1/2 * (U^2 + V^2 + W^2);"
   ]
  },
  {
   "cell_type": "code",
   "execution_count": 23,
   "id": "7455c42a-d15b-4f70-bc99-ebb171897daf",
   "metadata": {},
   "outputs": [
    {
     "data": {
      "text/plain": [
       "KernelFunctionOperation at (Center, Center, Center)\n",
       "├── grid: 68×1×64 RectilinearGrid{Float64, Periodic, Flat, Bounded} on CPU with 3×0×3 halo\n",
       "├── kernel_function: bz_ccc (generic function with 1 method)\n",
       "└── arguments: (\"68×1×64 Field{Center, Center, Center} on RectilinearGrid on CPU\",)"
      ]
     },
     "execution_count": 23,
     "metadata": {},
     "output_type": "execute_result"
    }
   ],
   "source": [
    "# Copied from https://github.com/tomchor/Oceanostics.jl/blob/main/src/PotentialEnergyEquationTerms.jl\n",
    "# We should eventually just use Tomas' package but it has strict constraint of Oceananigans.jl@v0.91.0\n",
    "\n",
    "using Oceananigans.AbstractOperations: KernelFunctionOperation\n",
    "using Oceananigans.Grids: Center\n",
    "using Oceananigans.BuoyancyModels: Zᶜᶜᶜ\n",
    "\n",
    "@inline function PotentialEnergy(model)\n",
    "    \n",
    "    B = Field(model.tracers.b + model.background_fields.tracers.b)\n",
    "    grid = model.grid\n",
    "    \n",
    "    return KernelFunctionOperation{Center, Center, Center}(bz_ccc, grid, B)\n",
    "end\n",
    "\n",
    "@inline bz_ccc(i, j, k, grid, b) = - b[i, j, k] * Zᶜᶜᶜ(i, j, k, grid)\n",
    "\n",
    "potential_energy = PotentialEnergy(model)"
   ]
  },
  {
   "cell_type": "code",
   "execution_count": 24,
   "id": "bce14bf2-19e0-4851-8c8f-f661dcbedc11",
   "metadata": {},
   "outputs": [
    {
     "data": {
      "text/plain": [
       "JLD2OutputWriter scheduled on TimeInterval(1 second):\n",
       "├── filepath: ./../output/stratified_shear_data/example.jld2\n",
       "├── 4 outputs: (b, B, KE, PE)\n",
       "├── array type: Array{Float64}\n",
       "├── including: [:grid, :coriolis, :buoyancy, :closure]\n",
       "└── max filesize: Inf YiB"
      ]
     },
     "execution_count": 24,
     "metadata": {},
     "output_type": "execute_result"
    }
   ],
   "source": [
    "simulation.output_writers[:buoyancy] =\n",
    "    JLD2OutputWriter(model, (b=b, B=B, KE=kinetic_energy, PE=potential_energy),\n",
    "                     schedule = TimeInterval(1.0),\n",
    "                     filename = \"../output/stratified_shear_data/example.jld2\",\n",
    "                     overwrite_existing = true)"
   ]
  },
  {
   "cell_type": "code",
   "execution_count": 25,
   "id": "84ec0232-24b0-4a63-a471-577bc5ce9d1a",
   "metadata": {},
   "outputs": [
    {
     "name": "stderr",
     "output_type": "stream",
     "text": [
      "\u001b[36m\u001b[1m[ \u001b[22m\u001b[39m\u001b[36m\u001b[1mInfo: \u001b[22m\u001b[39m*** Running a simulation of Kelvin-Helmholtz instability...\n"
     ]
    }
   ],
   "source": [
    "@info \"*** Running a simulation of Kelvin-Helmholtz instability...\"\n",
    "run!(simulation)"
   ]
  },
  {
   "cell_type": "code",
   "execution_count": 33,
   "id": "b797b32a-0ee8-4230-90a6-5e4fd2ae5508",
   "metadata": {},
   "outputs": [
    {
     "name": "stderr",
     "output_type": "stream",
     "text": [
      "\u001b[36m\u001b[1m[ \u001b[22m\u001b[39m\u001b[36m\u001b[1mInfo: \u001b[22m\u001b[39mMaking a neat movie of stratified shear flow...\n"
     ]
    },
    {
     "data": {
      "text/plain": [
       "\"../animations/shear_instability_example.mp4\""
      ]
     },
     "execution_count": 33,
     "metadata": {},
     "output_type": "execute_result"
    }
   ],
   "source": [
    "using Printf\n",
    "\n",
    "@info \"Making a neat movie of stratified shear flow...\"\n",
    "\n",
    "filepath = simulation.output_writers[:buoyancy].filepath\n",
    "\n",
    "B = FieldTimeSeries(filepath, \"B\")\n",
    "\n",
    "times = B.times\n",
    "t_final = times[end]\n",
    "\n",
    "n = Observable(1)\n",
    "\n",
    "Bₙ = @lift interior(B, :, 1, :, $n)\n",
    "\n",
    "fig = Figure(size=(800, 600))\n",
    "\n",
    "kwargs = (xlabel=\"x [m]\", ylabel=\"z [m]\", limits = ((xb[1], xb[end]), (-3, 3)), aspect=1,)\n",
    "\n",
    "title = @lift @sprintf(\"temperature [°C] at t = %.2f\", times[$n])\n",
    "\n",
    "ax_B = Axis(fig[1, 1]; title = title, kwargs...)\n",
    "\n",
    "B_lims = (-maximum(abs, interior(B, :, 1, :, :)), maximum(abs, interior(B, :, 1, :, :)))\n",
    "\n",
    "hm_B = heatmap!(ax_B, xb, zb, Bₙ; colorrange = B_lims, colormap = :balance)\n",
    "Colorbar(fig[1, 2], hm_B)\n",
    "\n",
    "frames = 1:length(times)\n",
    "\n",
    "record(fig, \"../animations/shear_instability_example.mp4\", frames, framerate=8) do i\n",
    "    n[] = i\n",
    "end"
   ]
  },
  {
   "cell_type": "markdown",
   "id": "e2ece7e8-f535-415d-a667-33c712eb82ca",
   "metadata": {},
   "source": [
    "### Brute-force computation of Background Potential Energy by directly computing the reference elevation $z_{*}$\n",
    "\n",
    "We approximate\n",
    "\\begin{equation}\n",
    "z^{\\star}_{i,j,k} = \\frac{\\int H dV}{A} \\simeq A^{-1} \\sum_{i,j,k} H_{i,j,k;\\,i',j',k'}(b_{i,j,k} - b_{i',j',k'})\n",
    "\\end{equation}"
   ]
  },
  {
   "cell_type": "markdown",
   "id": "07eb9cdd-4185-4158-a14d-2c34346d6e14",
   "metadata": {},
   "source": [
    "##### Using the above method, let's create a function z$\\star$ (`z\\bigstar` + `Tab`), which will return zstar for our buoyancy data"
   ]
  },
  {
   "cell_type": "code",
   "execution_count": 34,
   "id": "8d4696c2-6e55-47cd-bd31-d7d4a5e3dc52",
   "metadata": {},
   "outputs": [],
   "source": [
    "using Oceananigans: xspacings, yspacings, zspacings"
   ]
  },
  {
   "cell_type": "code",
   "execution_count": 79,
   "id": "da0e4ce9-cf44-4bda-a89a-28638b04163a",
   "metadata": {},
   "outputs": [
    {
     "data": {
      "text/plain": [
       "ComputeZstar (generic function with 1 method)"
      ]
     },
     "execution_count": 79,
     "metadata": {},
     "output_type": "execute_result"
    }
   ],
   "source": [
    "function ComputeZstar(grid, B)\n",
    "    x, y, z = nodes(b)\n",
    "    \n",
    "    Δx = xspacings(grid, Center())\n",
    "    Δy = yspacings(grid, Center())\n",
    "    Δz = zspacings(grid, Center())\n",
    "    ΔA = Δx * Δy\n",
    "    ΔV = ΔA * Δz\n",
    "    \n",
    "    zstar = zeros(size(B))\n",
    "    for (i,x0) in enumerate(x)\n",
    "        for (j,y0) in enumerate(y)\n",
    "            for (k,z0) in enumerate(z)\n",
    "                heavyside = B .< reshape(B[i,j,k,:], (1,1,1,size(B,4)))\n",
    "                zstar[i,j,k,:] = (\n",
    "                    sum(heavyside .* ΔV, dims=(1,2,3)) ./\n",
    "                    sum(ones(size(B)[1:2]) .* ΔA)\n",
    "                ) .+ grid.zᵃᵃᶠ[1]\n",
    "            end\n",
    "        end\n",
    "    end\n",
    "    \n",
    "    return zstar\n",
    "end\n"
   ]
  },
  {
   "cell_type": "code",
   "execution_count": 80,
   "id": "f0f6b4f7-1179-4467-aacc-0e3c72a65a00",
   "metadata": {},
   "outputs": [],
   "source": [
    "zstar = ComputeZstar(grid, B);"
   ]
  },
  {
   "cell_type": "code",
   "execution_count": 94,
   "id": "df3a767f-17f7-441b-abe2-351c3fe5b99f",
   "metadata": {},
   "outputs": [
    {
     "data": {
      "image/png": "[encoded data removed]"
     },
     "execution_count": 94,
     "metadata": {},
     "output_type": "execute_result"
    }
   ],
   "source": [
    "f1 = Figure()\n",
    "ax1 = Axis(f1[1,1],title=\"Heatmap for zstar\", xlabel=\"x[m]\", ylabel=\"z[m]\", limits=((-L/2, L/2), (-H/2, H/2)))\n",
    "hm = heatmap!(ax1, xb, zb, zstar[:,1,:,140]; colorrange = (-H/2, H/2))\n",
    "Colorbar(f1[1, 2], hm);\n",
    "f1"
   ]
  },
  {
   "cell_type": "markdown",
   "id": "2a489941-ee98-4d7e-a690-a062ffd0419a",
   "metadata": {},
   "source": [
    "### Let's compute Total, Background, and Available potential energies\n",
    "\n",
    "$E_p = -\\int_V b \\cdot z dV $\n",
    "\n",
    "$E_b = -\\int_V b \\cdot  z_* dV$\n",
    "\n",
    "where $ dV = dx dy dz $"
   ]
  },
  {
   "cell_type": "markdown",
   "id": "edee75b4-f352-48f4-aa5d-f1654c038918",
   "metadata": {},
   "source": [
    "### we can use a similar method as the integral of the heaviside was calculated earlier\n",
    "\n",
    "$ \\Delta V = \\Delta x \\cdot \\Delta y \\cdot \\Delta z  $"
   ]
  },
  {
   "cell_type": "code",
   "execution_count": 35,
   "id": "ad6b1c6e-cd26-4b18-9ef0-b771b928d52c",
   "metadata": {},
   "outputs": [],
   "source": [
    "Δx = L/Nx\n",
    "Δz = H/Nz\n",
    "Δy = 1\n",
    "ΔV = zeros(length(xb), length(yb), length(zb)) .+ Δx * Δy * Δz;"
   ]
  },
  {
   "cell_type": "code",
   "execution_count": 104,
   "id": "0370b653-e629-4520-bc50-fc8a247e9b14",
   "metadata": {},
   "outputs": [],
   "source": [
    "z_broadcasted = reshape(zb,(1,1,Nz))\n",
    "potential_energy_offline = sum(-interior(B) .* z_broadcasted .* ΔV, dims=(1,2,3))[1,1,1,:];\n",
    "background_potential_energy_offline = sum(-interior(B) .* zstar .* ΔV, dims=(1,2,3))[1,1,1,:];"
   ]
  },
  {
   "cell_type": "code",
   "execution_count": 105,
   "id": "0f6f742c-7cd6-4d17-829e-6f70a3512300",
   "metadata": {},
   "outputs": [],
   "source": [
    "KE_timeseries = FieldTimeSeries(filepath, \"KE\")\n",
    "PE_timeseries = FieldTimeSeries(filepath, \"PE\")\n",
    "\n",
    "times = B.times\n",
    "\n",
    "kinetic_energy = zeros(size(times))\n",
    "potential_energy = zeros(size(times))\n",
    "\n",
    "for i = 1:length(times)\n",
    "    ke_snapshot = Field(Integral(KE_timeseries[i]))\n",
    "    compute!(ke_snapshot)\n",
    "    kinetic_energy[i] = ke_snapshot[1,1,1]\n",
    "\n",
    "    pe_snapshot = Field(Integral(PE_timeseries[i]))\n",
    "    compute!(pe_snapshot)\n",
    "    potential_energy[i] = pe_snapshot[1,1,1]\n",
    "end\n"
   ]
  },
  {
   "cell_type": "code",
   "execution_count": 106,
   "id": "93bb00d0-bc86-4bc0-8be1-c28364bc5721",
   "metadata": {},
   "outputs": [],
   "source": [
    "available_potential_energy = potential_energy_offline .- background_potential_energy_offline;"
   ]
  },
  {
   "cell_type": "code",
   "execution_count": 108,
   "id": "ddca5c13-d080-4b55-a5b6-3af3858ae4f2",
   "metadata": {},
   "outputs": [
    {
     "data": {
      "image/png": "[encoded data removed]"
     },
     "execution_count": 108,
     "metadata": {},
     "output_type": "execute_result"
    }
   ],
   "source": [
    "fig_energy = Figure(resolution = (500,800))\n",
    "ax_KE = Axis(fig_energy[1,1], xlabel = \"time (s)\", ylabel= \"KE (J)\", title = \"KE versus Time\")\n",
    "lines!(ax_KE, times, kinetic_energy)\n",
    "\n",
    "ax_PE = Axis(fig_energy[2,1], xlabel= \"time (s)\", ylabel = L\"-\\int_V(zbdV)\", title = \"Total PE versus Time\")\n",
    "lines!(ax_PE, times, potential_energy)\n",
    "lines!(ax_PE, times, potential_energy_offline, color=\"orange\", linestyle=:dash)\n",
    "\n",
    "ax_PEb = Axis(fig_energy[3,1], xlabel=\"time (s)\", ylabel=\"Background PE\", title=\"Background PE versus Time\")\n",
    "lines!(ax_PEb, times, background_potential_energy_offline)\n",
    "\n",
    "ax_PEa = Axis(fig_energy[4,1], xlabel=\"time (s)\", ylabel=\"Available PE\", title=\"Available PE versus Time\")\n",
    "lines!(ax_PEa, times, available_potential_energy)\n",
    "\n",
    "fig_energy"
   ]
  },
  {
   "cell_type": "code",
   "execution_count": null,
   "id": "361ee515-ea2e-4346-a3bd-4a0ee5ebbb85",
   "metadata": {},
   "outputs": [],
   "source": []
  }
 ],
 "metadata": {
  "kernelspec": {
   "display_name": "Julia 1.10.2",
   "language": "julia",
   "name": "julia-1.10"
  },
  "language_info": {
   "file_extension": ".jl",
   "mimetype": "application/julia",
   "name": "julia",
   "version": "1.10.2"
  }
 },
 "nbformat": 4,
 "nbformat_minor": 5
}
