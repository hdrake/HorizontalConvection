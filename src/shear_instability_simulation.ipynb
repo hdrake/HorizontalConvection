{
 "cells": [
  {
   "cell_type": "code",
   "execution_count": null,
   "id": "4950007c-069a-43d8-849c-856cf6071560",
   "metadata": {},
   "outputs": [],
   "source": [
    "pkg.instantiate()"
   ]
  },
  {
   "cell_type": "code",
   "execution_count": 2,
   "id": "6e7884c3-8468-466d-bd8e-ed332c5e791d",
   "metadata": {},
   "outputs": [
    {
     "name": "stderr",
     "output_type": "stream",
     "text": [
      "\u001b[36m\u001b[1m[ \u001b[22m\u001b[39m\u001b[36m\u001b[1mInfo: \u001b[22m\u001b[39mPrecompiling Oceananigans [9e8cae18-63c1-5223-a75c-80ca9d6e9a09]\n",
      "\u001b[33m\u001b[1m┌ \u001b[22m\u001b[39m\u001b[33m\u001b[1mWarning: \u001b[22m\u001b[39mThe call to compilecache failed to create a usable precompiled cache file for Oceananigans [9e8cae18-63c1-5223-a75c-80ca9d6e9a09]\n",
      "\u001b[33m\u001b[1m│ \u001b[22m\u001b[39m  exception = Required dependency CUDA [052768ef-5323-5732-b1bb-66c8b64840ba] failed to load from a cache file.\n",
      "\u001b[33m\u001b[1m└ \u001b[22m\u001b[39m\u001b[90m@ Base loading.jl:1818\u001b[39m\n",
      "\u001b[36m\u001b[1m[ \u001b[22m\u001b[39m\u001b[36m\u001b[1mInfo: \u001b[22m\u001b[39mPrecompiling CUDA [052768ef-5323-5732-b1bb-66c8b64840ba]\n",
      "\u001b[33m\u001b[1m┌ \u001b[22m\u001b[39m\u001b[33m\u001b[1mWarning: \u001b[22m\u001b[39mThe call to compilecache failed to create a usable precompiled cache file for CUDA [052768ef-5323-5732-b1bb-66c8b64840ba]\n",
      "\u001b[33m\u001b[1m│ \u001b[22m\u001b[39m  exception = Error reading package image file.\n",
      "\u001b[33m\u001b[1m└ \u001b[22m\u001b[39m\u001b[90m@ Base loading.jl:1818\u001b[39m\n",
      "\u001b[36m\u001b[1m[ \u001b[22m\u001b[39m\u001b[36m\u001b[1mInfo: \u001b[22m\u001b[39mPrecompiling SpecialFunctionsExt [1285c0f1-ff9f-5867-b66e-0f359bcf09ba]\n",
      "\u001b[33m\u001b[1m┌ \u001b[22m\u001b[39m\u001b[33m\u001b[1mWarning: \u001b[22m\u001b[39mModule CUDA with build ID ffffffff-ffff-ffff-0002-2a4f930b3d4a is missing from the cache.\n",
      "\u001b[33m\u001b[1m│ \u001b[22m\u001b[39mThis may mean CUDA [052768ef-5323-5732-b1bb-66c8b64840ba] does not support precompilation but is imported by a module that does.\n",
      "\u001b[33m\u001b[1m└ \u001b[22m\u001b[39m\u001b[90m@ Base loading.jl:1793\u001b[39m\n",
      "\u001b[36m\u001b[1m[ \u001b[22m\u001b[39m\u001b[36m\u001b[1mInfo: \u001b[22m\u001b[39mSkipping precompilation since __precompile__(false). Importing SpecialFunctionsExt [1285c0f1-ff9f-5867-b66e-0f359bcf09ba].\n",
      "\u001b[36m\u001b[1m[ \u001b[22m\u001b[39m\u001b[36m\u001b[1mInfo: \u001b[22m\u001b[39mPrecompiling CUDAExt [11b7e2e0-d079-575b-885e-0ab22ef3252c]\n",
      "\u001b[33m\u001b[1m┌ \u001b[22m\u001b[39m\u001b[33m\u001b[1mWarning: \u001b[22m\u001b[39mModule CUDA with build ID ffffffff-ffff-ffff-0002-2a4f930b3d4a is missing from the cache.\n",
      "\u001b[33m\u001b[1m│ \u001b[22m\u001b[39mThis may mean CUDA [052768ef-5323-5732-b1bb-66c8b64840ba] does not support precompilation but is imported by a module that does.\n",
      "\u001b[33m\u001b[1m└ \u001b[22m\u001b[39m\u001b[90m@ Base loading.jl:1793\u001b[39m\n",
      "\u001b[36m\u001b[1m[ \u001b[22m\u001b[39m\u001b[36m\u001b[1mInfo: \u001b[22m\u001b[39mSkipping precompilation since __precompile__(false). Importing CUDAExt [11b7e2e0-d079-575b-885e-0ab22ef3252c].\n",
      "\u001b[36m\u001b[1m[ \u001b[22m\u001b[39m\u001b[36m\u001b[1mInfo: \u001b[22m\u001b[39mPrecompiling ArrayInterfaceCUDAExt [f78586ac-ba87-5ec7-b3a5-84bc1b258ee3]\n",
      "\u001b[33m\u001b[1m┌ \u001b[22m\u001b[39m\u001b[33m\u001b[1mWarning: \u001b[22m\u001b[39mModule CUDA with build ID ffffffff-ffff-ffff-0002-2a4f930b3d4a is missing from the cache.\n",
      "\u001b[33m\u001b[1m│ \u001b[22m\u001b[39mThis may mean CUDA [052768ef-5323-5732-b1bb-66c8b64840ba] does not support precompilation but is imported by a module that does.\n",
      "\u001b[33m\u001b[1m└ \u001b[22m\u001b[39m\u001b[90m@ Base loading.jl:1793\u001b[39m\n",
      "\u001b[36m\u001b[1m[ \u001b[22m\u001b[39m\u001b[36m\u001b[1mInfo: \u001b[22m\u001b[39mSkipping precompilation since __precompile__(false). Importing ArrayInterfaceCUDAExt [f78586ac-ba87-5ec7-b3a5-84bc1b258ee3].\n",
      "\u001b[36m\u001b[1m[ \u001b[22m\u001b[39m\u001b[36m\u001b[1mInfo: \u001b[22m\u001b[39mPrecompiling StridedViewsCUDAExt [6eaa3634-1823-5a95-8160-0f368f727af8]\n",
      "\u001b[33m\u001b[1m┌ \u001b[22m\u001b[39m\u001b[33m\u001b[1mWarning: \u001b[22m\u001b[39mModule CUDA with build ID ffffffff-ffff-ffff-0002-2a4f930b3d4a is missing from the cache.\n",
      "\u001b[33m\u001b[1m│ \u001b[22m\u001b[39mThis may mean CUDA [052768ef-5323-5732-b1bb-66c8b64840ba] does not support precompilation but is imported by a module that does.\n",
      "\u001b[33m\u001b[1m└ \u001b[22m\u001b[39m\u001b[90m@ Base loading.jl:1793\u001b[39m\n",
      "\u001b[36m\u001b[1m[ \u001b[22m\u001b[39m\u001b[36m\u001b[1mInfo: \u001b[22m\u001b[39mSkipping precompilation since __precompile__(false). Importing StridedViewsCUDAExt [6eaa3634-1823-5a95-8160-0f368f727af8].\n"
     ]
    }
   ],
   "source": [
    "using Oceananigans\n",
    "using Printf\n",
    "#using Plots"
   ]
  },
  {
   "cell_type": "code",
   "execution_count": 3,
   "id": "76eb90c2-fc39-429c-bcd5-b3443dcf8afb",
   "metadata": {},
   "outputs": [
    {
     "data": {
      "text/plain": [
       "128×1×128 RectilinearGrid{Float64, Periodic, Flat, Bounded} on CPU with 3×0×3 halo\n",
       "├── Periodic x ∈ [-5.0, 5.0)      regularly spaced with Δx=0.078125\n",
       "├── Flat y\n",
       "└── Bounded  z ∈ [-5.0, 5.0]      regularly spaced with Δz=0.078125"
      ]
     },
     "execution_count": 3,
     "metadata": {},
     "output_type": "execute_result"
    }
   ],
   "source": [
    "grid = RectilinearGrid(size=(128, 128), x=(-5, 5), z=(-5, 5),\n",
    "                       topology=(Periodic, Flat, Bounded))"
   ]
  },
  {
   "cell_type": "code",
   "execution_count": 4,
   "id": "56f71685-ac0f-4853-8a95-e77c15578ab6",
   "metadata": {},
   "outputs": [],
   "source": [
    "shear_flow(x, z, t) = tanh(z)\n",
    "\n",
    "stratification(x, z, t, p) = p.h * p.Ri * tanh(z / p.h)\n",
    "\n",
    "U = BackgroundField(shear_flow)\n",
    "\n",
    "B = BackgroundField(stratification, parameters=(Ri=0.1, h=1/4));"
   ]
  },
  {
   "cell_type": "code",
   "execution_count": 43,
   "id": "99224e44-69ee-4276-91cb-26f97286d128",
   "metadata": {},
   "outputs": [
    {
     "name": "stdout",
     "output_type": "stream",
     "text": [
      "\u001b[32m\u001b[1mStatus\u001b[22m\u001b[39m `~/.julia/environments/v1.9/Project.toml`\n",
      "  \u001b[90m[13f3f980] \u001b[39mCairoMakie v0.11.9\n",
      "  \u001b[90m[e9467ef8] \u001b[39mGLMakie v0.9.9\n",
      "  \u001b[90m[7073ff75] \u001b[39mIJulia v1.24.2\n",
      "\u001b[32m⌃\u001b[39m \u001b[90m[9e8cae18] \u001b[39mOceananigans v0.90.9\n",
      "  \u001b[90m[91a5bcdd] \u001b[39mPlots v1.40.3\n",
      "\u001b[36m\u001b[1mInfo\u001b[22m\u001b[39m Packages marked with \u001b[32m⌃\u001b[39m have new versions available and may be upgradable.\n"
     ]
    }
   ],
   "source": [
    "] status"
   ]
  },
  {
   "cell_type": "code",
   "execution_count": 5,
   "id": "7b385ab3-7825-4fdc-bef9-feb8f1e2c6bc",
   "metadata": {},
   "outputs": [
    {
     "name": "stderr",
     "output_type": "stream",
     "text": [
      "\u001b[36m\u001b[1m[ \u001b[22m\u001b[39m\u001b[36m\u001b[1mInfo: \u001b[22m\u001b[39mPrecompiling CairoMakie [13f3f980-e62b-5c42-98c6-ff1f3baf88f0]\n",
      "\u001b[36m\u001b[1m[ \u001b[22m\u001b[39m\u001b[36m\u001b[1mInfo: \u001b[22m\u001b[39mPrecompiling ChainRulesCoreExt [eae2faf6-b232-58cb-a410-7764fda2830c]\n",
      "\u001b[33m\u001b[1m┌ \u001b[22m\u001b[39m\u001b[33m\u001b[1mWarning: \u001b[22m\u001b[39mModule CUDA with build ID ffffffff-ffff-ffff-0002-2a4f930b3d4a is missing from the cache.\n",
      "\u001b[33m\u001b[1m│ \u001b[22m\u001b[39mThis may mean CUDA [052768ef-5323-5732-b1bb-66c8b64840ba] does not support precompilation but is imported by a module that does.\n",
      "\u001b[33m\u001b[1m└ \u001b[22m\u001b[39m\u001b[90m@ Base loading.jl:1793\u001b[39m\n",
      "\u001b[36m\u001b[1m[ \u001b[22m\u001b[39m\u001b[36m\u001b[1mInfo: \u001b[22m\u001b[39mSkipping precompilation since __precompile__(false). Importing ChainRulesCoreExt [eae2faf6-b232-58cb-a410-7764fda2830c].\n",
      "\u001b[36m\u001b[1m[ \u001b[22m\u001b[39m\u001b[36m\u001b[1mInfo: \u001b[22m\u001b[39mPrecompiling TaylorSeriesIAExt [ed7ef945-33a4-511e-97fe-2b89c7a130ca]\n"
     ]
    },
    {
     "data": {
      "text/plain": [
       "Lines{Tuple{Vector{Point{2, Float32}}}}"
      ]
     },
     "execution_count": 5,
     "metadata": {},
     "output_type": "execute_result"
    }
   ],
   "source": [
    "using CairoMakie\n",
    "\n",
    "zF = znodes(grid, Face())\n",
    "zC = znodes(grid, Center())\n",
    "\n",
    "Ri, h = B.parameters\n",
    "\n",
    "fig = Figure(size = (850, 450))\n",
    "\n",
    "ax = Axis(fig[1, 1], xlabel = \"U(z)\", ylabel = \"z\", limits=((nothing, nothing), (-5, 5)))\n",
    "lines!(ax, shear_flow.(0, zC, 0), zC; linewidth = 3)\n",
    "\n",
    "ax = Axis(fig[1, 2], xlabel = \"B(z)\", limits=((nothing, nothing), (-5, 5)))\n",
    "lines!(ax, [stratification(0, z, 0, (Ri=Ri, h=h)) for z in zC], zC; linewidth = 3, color = :red)\n",
    "\n",
    "ax = Axis(fig[1, 3], xlabel = \"Ri(z)\", limits=((nothing, nothing), (-5, 5)))\n",
    "lines!(ax, [Ri * sech(z / h)^2 / sech(z)^2 for z in zF], zF; linewidth = 3, color = :black) # Ri(z)= ∂_z B / (∂_z U)²; derivatives computed by hand\n",
    "\n",
    "#fig"
   ]
  },
  {
   "cell_type": "code",
   "execution_count": 6,
   "id": "bda8f8f4-eab1-431f-8325-1df43bbc5116",
   "metadata": {},
   "outputs": [
    {
     "data": {
      "text/plain": [
       "NonhydrostaticModel{CPU, RectilinearGrid}(time = 0 seconds, iteration = 0)\n",
       "├── grid: 128×1×128 RectilinearGrid{Float64, Periodic, Flat, Bounded} on CPU with 3×0×3 halo\n",
       "├── timestepper: RungeKutta3TimeStepper\n",
       "├── tracers: b\n",
       "├── closure: ScalarDiffusivity{ExplicitTimeDiscretization}(ν=2.0e-5, κ=(b=2.0e-5,))\n",
       "├── buoyancy: BuoyancyTracer with ĝ = NegativeZDirection()\n",
       "└── coriolis: Nothing"
      ]
     },
     "execution_count": 6,
     "metadata": {},
     "output_type": "execute_result"
    }
   ],
   "source": [
    "model = NonhydrostaticModel(timestepper = :RungeKutta3,\n",
    "                              advection = UpwindBiasedFifthOrder(),\n",
    "                                   grid = grid,\n",
    "                               coriolis = nothing,\n",
    "                      background_fields = (u=U, b=B),\n",
    "                                closure = ScalarDiffusivity(ν=0.2e-4, κ=0.2e-4),\n",
    "                               buoyancy = BuoyancyTracer(),\n",
    "                                tracers = :b)"
   ]
  },
  {
   "cell_type": "code",
   "execution_count": 7,
   "id": "96eb4536-5fb0-4f8c-ad5e-a1ed50b50667",
   "metadata": {},
   "outputs": [
    {
     "data": {
      "text/plain": [
       "Simulation of NonhydrostaticModel{CPU, RectilinearGrid}(time = 0 seconds, iteration = 0)\n",
       "├── Next time step: 100 ms\n",
       "├── Elapsed wall time: 0 seconds\n",
       "├── Wall time per iteration: NaN days\n",
       "├── Stop time: Inf days\n",
       "├── Stop iteration : 2000.0\n",
       "├── Wall time limit: Inf\n",
       "├── Callbacks: OrderedDict with 4 entries:\n",
       "│   ├── stop_time_exceeded => Callback of stop_time_exceeded on IterationInterval(1)\n",
       "│   ├── stop_iteration_exceeded => Callback of stop_iteration_exceeded on IterationInterval(1)\n",
       "│   ├── wall_time_limit_exceeded => Callback of wall_time_limit_exceeded on IterationInterval(1)\n",
       "│   └── nan_checker => Callback of NaNChecker for u on IterationInterval(100)\n",
       "├── Output writers: OrderedDict with no entries\n",
       "└── Diagnostics: OrderedDict with no entries"
      ]
     },
     "execution_count": 7,
     "metadata": {},
     "output_type": "execute_result"
    }
   ],
   "source": [
    "Δt = 0.1 \n",
    "simulation = Simulation(model, Δt=Δt, stop_iteration=2000, verbose=false)"
   ]
  },
  {
   "cell_type": "code",
   "execution_count": 8,
   "id": "f96a0570-4cc1-4d71-a2d9-29b61a4102a6",
   "metadata": {},
   "outputs": [],
   "source": [
    "using Random, Statistics\n",
    "\n",
    "u, v, w = model.velocities\n",
    "b = model.tracers.b\n",
    "xb, yb, zb = nodes(b)\n",
    "total_b = Field(b + model.background_fields.tracers.b)\n",
    "\n",
    "mean_perturbation_kinetic_energy = Field(Average(1/2 * (u^2 + w^2)))\n",
    "\n",
    "noise(x, z) = 1.e-3*randn()\n",
    "set!(model, u=noise, w=noise, b=noise)"
   ]
  },
  {
   "cell_type": "code",
   "execution_count": 9,
   "id": "bce14bf2-19e0-4851-8c8f-f661dcbedc11",
   "metadata": {},
   "outputs": [
    {
     "data": {
      "text/plain": [
       "JLD2OutputWriter scheduled on TimeInterval(1 second):\n",
       "├── filepath: ./../raw_simulation_output/stratified_shear/example.jld2\n",
       "├── 2 outputs: (b, B)\n",
       "├── array type: Array{Float64}\n",
       "├── including: [:grid, :coriolis, :buoyancy, :closure]\n",
       "└── max filesize: Inf YiB"
      ]
     },
     "execution_count": 9,
     "metadata": {},
     "output_type": "execute_result"
    }
   ],
   "source": [
    "simulation.output_writers[:buoyancy] =\n",
    "    JLD2OutputWriter(model, (b=b, B=total_b),\n",
    "                     schedule = TimeInterval(1.0),\n",
    "                     filename = \"../raw_simulation_output/stratified_shear/example.jld2\",\n",
    "                     overwrite_existing = true)"
   ]
  },
  {
   "cell_type": "code",
   "execution_count": 10,
   "id": "84ec0232-24b0-4a63-a471-577bc5ce9d1a",
   "metadata": {},
   "outputs": [
    {
     "name": "stderr",
     "output_type": "stream",
     "text": [
      "\u001b[36m\u001b[1m[ \u001b[22m\u001b[39m\u001b[36m\u001b[1mInfo: \u001b[22m\u001b[39m*** Running a simulation of Kelvin-Helmholtz instability...\n"
     ]
    }
   ],
   "source": [
    "@info \"*** Running a simulation of Kelvin-Helmholtz instability...\"\n",
    "run!(simulation)"
   ]
  },
  {
   "cell_type": "code",
   "execution_count": 11,
   "id": "b797b32a-0ee8-4230-90a6-5e4fd2ae5508",
   "metadata": {},
   "outputs": [
    {
     "name": "stderr",
     "output_type": "stream",
     "text": [
      "\u001b[36m\u001b[1m[ \u001b[22m\u001b[39m\u001b[36m\u001b[1mInfo: \u001b[22m\u001b[39mMaking a neat movie of stratified shear flow...\n",
      "\u001b[36m\u001b[1m[ \u001b[22m\u001b[39m\u001b[36m\u001b[1mInfo: \u001b[22m\u001b[39mPlotting frame 1 of 187...\n",
      "\u001b[36m\u001b[1m[ \u001b[22m\u001b[39m\u001b[36m\u001b[1mInfo: \u001b[22m\u001b[39mPlotting frame 2 of 187...\n",
      "\u001b[36m\u001b[1m[ \u001b[22m\u001b[39m\u001b[36m\u001b[1mInfo: \u001b[22m\u001b[39mPlotting frame 3 of 187...\n",
      "\u001b[36m\u001b[1m[ \u001b[22m\u001b[39m\u001b[36m\u001b[1mInfo: \u001b[22m\u001b[39mPlotting frame 4 of 187...\n",
      "\u001b[36m\u001b[1m[ \u001b[22m\u001b[39m\u001b[36m\u001b[1mInfo: \u001b[22m\u001b[39mPlotting frame 5 of 187...\n",
      "\u001b[36m\u001b[1m[ \u001b[22m\u001b[39m\u001b[36m\u001b[1mInfo: \u001b[22m\u001b[39mPlotting frame 6 of 187...\n",
      "\u001b[36m\u001b[1m[ \u001b[22m\u001b[39m\u001b[36m\u001b[1mInfo: \u001b[22m\u001b[39mPlotting frame 7 of 187...\n",
      "\u001b[36m\u001b[1m[ \u001b[22m\u001b[39m\u001b[36m\u001b[1mInfo: \u001b[22m\u001b[39mPlotting frame 8 of 187...\n",
      "\u001b[36m\u001b[1m[ \u001b[22m\u001b[39m\u001b[36m\u001b[1mInfo: \u001b[22m\u001b[39mPlotting frame 9 of 187...\n",
      "\u001b[36m\u001b[1m[ \u001b[22m\u001b[39m\u001b[36m\u001b[1mInfo: \u001b[22m\u001b[39mPlotting frame 10 of 187...\n",
      "\u001b[36m\u001b[1m[ \u001b[22m\u001b[39m\u001b[36m\u001b[1mInfo: \u001b[22m\u001b[39mPlotting frame 11 of 187...\n",
      "\u001b[36m\u001b[1m[ \u001b[22m\u001b[39m\u001b[36m\u001b[1mInfo: \u001b[22m\u001b[39mPlotting frame 12 of 187...\n",
      "\u001b[36m\u001b[1m[ \u001b[22m\u001b[39m\u001b[36m\u001b[1mInfo: \u001b[22m\u001b[39mPlotting frame 13 of 187...\n",
      "\u001b[36m\u001b[1m[ \u001b[22m\u001b[39m\u001b[36m\u001b[1mInfo: \u001b[22m\u001b[39mPlotting frame 14 of 187...\n",
      "\u001b[36m\u001b[1m[ \u001b[22m\u001b[39m\u001b[36m\u001b[1mInfo: \u001b[22m\u001b[39mPlotting frame 15 of 187...\n",
      "\u001b[36m\u001b[1m[ \u001b[22m\u001b[39m\u001b[36m\u001b[1mInfo: \u001b[22m\u001b[39mPlotting frame 16 of 187...\n",
      "\u001b[36m\u001b[1m[ \u001b[22m\u001b[39m\u001b[36m\u001b[1mInfo: \u001b[22m\u001b[39mPlotting frame 17 of 187...\n",
      "\u001b[36m\u001b[1m[ \u001b[22m\u001b[39m\u001b[36m\u001b[1mInfo: \u001b[22m\u001b[39mPlotting frame 18 of 187...\n",
      "\u001b[36m\u001b[1m[ \u001b[22m\u001b[39m\u001b[36m\u001b[1mInfo: \u001b[22m\u001b[39mPlotting frame 19 of 187...\n",
      "\u001b[36m\u001b[1m[ \u001b[22m\u001b[39m\u001b[36m\u001b[1mInfo: \u001b[22m\u001b[39mPlotting frame 20 of 187...\n",
      "\u001b[36m\u001b[1m[ \u001b[22m\u001b[39m\u001b[36m\u001b[1mInfo: \u001b[22m\u001b[39mPlotting frame 21 of 187...\n",
      "\u001b[36m\u001b[1m[ \u001b[22m\u001b[39m\u001b[36m\u001b[1mInfo: \u001b[22m\u001b[39mPlotting frame 22 of 187...\n",
      "\u001b[36m\u001b[1m[ \u001b[22m\u001b[39m\u001b[36m\u001b[1mInfo: \u001b[22m\u001b[39mPlotting frame 23 of 187...\n",
      "\u001b[36m\u001b[1m[ \u001b[22m\u001b[39m\u001b[36m\u001b[1mInfo: \u001b[22m\u001b[39mPlotting frame 24 of 187...\n",
      "\u001b[36m\u001b[1m[ \u001b[22m\u001b[39m\u001b[36m\u001b[1mInfo: \u001b[22m\u001b[39mPlotting frame 25 of 187...\n",
      "\u001b[36m\u001b[1m[ \u001b[22m\u001b[39m\u001b[36m\u001b[1mInfo: \u001b[22m\u001b[39mPlotting frame 26 of 187...\n",
      "\u001b[36m\u001b[1m[ \u001b[22m\u001b[39m\u001b[36m\u001b[1mInfo: \u001b[22m\u001b[39mPlotting frame 27 of 187...\n",
      "\u001b[36m\u001b[1m[ \u001b[22m\u001b[39m\u001b[36m\u001b[1mInfo: \u001b[22m\u001b[39mPlotting frame 28 of 187...\n",
      "\u001b[36m\u001b[1m[ \u001b[22m\u001b[39m\u001b[36m\u001b[1mInfo: \u001b[22m\u001b[39mPlotting frame 29 of 187...\n",
      "\u001b[36m\u001b[1m[ \u001b[22m\u001b[39m\u001b[36m\u001b[1mInfo: \u001b[22m\u001b[39mPlotting frame 30 of 187...\n",
      "\u001b[36m\u001b[1m[ \u001b[22m\u001b[39m\u001b[36m\u001b[1mInfo: \u001b[22m\u001b[39mPlotting frame 31 of 187...\n",
      "\u001b[36m\u001b[1m[ \u001b[22m\u001b[39m\u001b[36m\u001b[1mInfo: \u001b[22m\u001b[39mPlotting frame 32 of 187...\n",
      "\u001b[36m\u001b[1m[ \u001b[22m\u001b[39m\u001b[36m\u001b[1mInfo: \u001b[22m\u001b[39mPlotting frame 33 of 187...\n",
      "\u001b[36m\u001b[1m[ \u001b[22m\u001b[39m\u001b[36m\u001b[1mInfo: \u001b[22m\u001b[39mPlotting frame 34 of 187...\n",
      "\u001b[36m\u001b[1m[ \u001b[22m\u001b[39m\u001b[36m\u001b[1mInfo: \u001b[22m\u001b[39mPlotting frame 35 of 187...\n",
      "\u001b[36m\u001b[1m[ \u001b[22m\u001b[39m\u001b[36m\u001b[1mInfo: \u001b[22m\u001b[39mPlotting frame 36 of 187...\n",
      "\u001b[36m\u001b[1m[ \u001b[22m\u001b[39m\u001b[36m\u001b[1mInfo: \u001b[22m\u001b[39mPlotting frame 37 of 187...\n",
      "\u001b[36m\u001b[1m[ \u001b[22m\u001b[39m\u001b[36m\u001b[1mInfo: \u001b[22m\u001b[39mPlotting frame 38 of 187...\n",
      "\u001b[36m\u001b[1m[ \u001b[22m\u001b[39m\u001b[36m\u001b[1mInfo: \u001b[22m\u001b[39mPlotting frame 39 of 187...\n",
      "\u001b[36m\u001b[1m[ \u001b[22m\u001b[39m\u001b[36m\u001b[1mInfo: \u001b[22m\u001b[39mPlotting frame 40 of 187...\n",
      "\u001b[36m\u001b[1m[ \u001b[22m\u001b[39m\u001b[36m\u001b[1mInfo: \u001b[22m\u001b[39mPlotting frame 41 of 187...\n",
      "\u001b[36m\u001b[1m[ \u001b[22m\u001b[39m\u001b[36m\u001b[1mInfo: \u001b[22m\u001b[39mPlotting frame 42 of 187...\n",
      "\u001b[36m\u001b[1m[ \u001b[22m\u001b[39m\u001b[36m\u001b[1mInfo: \u001b[22m\u001b[39mPlotting frame 43 of 187...\n",
      "\u001b[36m\u001b[1m[ \u001b[22m\u001b[39m\u001b[36m\u001b[1mInfo: \u001b[22m\u001b[39mPlotting frame 44 of 187...\n",
      "\u001b[36m\u001b[1m[ \u001b[22m\u001b[39m\u001b[36m\u001b[1mInfo: \u001b[22m\u001b[39mPlotting frame 45 of 187...\n",
      "\u001b[36m\u001b[1m[ \u001b[22m\u001b[39m\u001b[36m\u001b[1mInfo: \u001b[22m\u001b[39mPlotting frame 46 of 187...\n",
      "\u001b[36m\u001b[1m[ \u001b[22m\u001b[39m\u001b[36m\u001b[1mInfo: \u001b[22m\u001b[39mPlotting frame 47 of 187...\n",
      "\u001b[36m\u001b[1m[ \u001b[22m\u001b[39m\u001b[36m\u001b[1mInfo: \u001b[22m\u001b[39mPlotting frame 48 of 187...\n",
      "\u001b[36m\u001b[1m[ \u001b[22m\u001b[39m\u001b[36m\u001b[1mInfo: \u001b[22m\u001b[39mPlotting frame 49 of 187...\n",
      "\u001b[36m\u001b[1m[ \u001b[22m\u001b[39m\u001b[36m\u001b[1mInfo: \u001b[22m\u001b[39mPlotting frame 50 of 187...\n",
      "\u001b[36m\u001b[1m[ \u001b[22m\u001b[39m\u001b[36m\u001b[1mInfo: \u001b[22m\u001b[39mPlotting frame 51 of 187...\n",
      "\u001b[36m\u001b[1m[ \u001b[22m\u001b[39m\u001b[36m\u001b[1mInfo: \u001b[22m\u001b[39mPlotting frame 52 of 187...\n",
      "\u001b[36m\u001b[1m[ \u001b[22m\u001b[39m\u001b[36m\u001b[1mInfo: \u001b[22m\u001b[39mPlotting frame 53 of 187...\n",
      "\u001b[36m\u001b[1m[ \u001b[22m\u001b[39m\u001b[36m\u001b[1mInfo: \u001b[22m\u001b[39mPlotting frame 54 of 187...\n",
      "\u001b[36m\u001b[1m[ \u001b[22m\u001b[39m\u001b[36m\u001b[1mInfo: \u001b[22m\u001b[39mPlotting frame 55 of 187...\n",
      "\u001b[36m\u001b[1m[ \u001b[22m\u001b[39m\u001b[36m\u001b[1mInfo: \u001b[22m\u001b[39mPlotting frame 56 of 187...\n",
      "\u001b[36m\u001b[1m[ \u001b[22m\u001b[39m\u001b[36m\u001b[1mInfo: \u001b[22m\u001b[39mPlotting frame 57 of 187...\n",
      "\u001b[36m\u001b[1m[ \u001b[22m\u001b[39m\u001b[36m\u001b[1mInfo: \u001b[22m\u001b[39mPlotting frame 58 of 187...\n",
      "\u001b[36m\u001b[1m[ \u001b[22m\u001b[39m\u001b[36m\u001b[1mInfo: \u001b[22m\u001b[39mPlotting frame 59 of 187...\n",
      "\u001b[36m\u001b[1m[ \u001b[22m\u001b[39m\u001b[36m\u001b[1mInfo: \u001b[22m\u001b[39mPlotting frame 60 of 187...\n",
      "\u001b[36m\u001b[1m[ \u001b[22m\u001b[39m\u001b[36m\u001b[1mInfo: \u001b[22m\u001b[39mPlotting frame 61 of 187...\n",
      "\u001b[36m\u001b[1m[ \u001b[22m\u001b[39m\u001b[36m\u001b[1mInfo: \u001b[22m\u001b[39mPlotting frame 62 of 187...\n",
      "\u001b[36m\u001b[1m[ \u001b[22m\u001b[39m\u001b[36m\u001b[1mInfo: \u001b[22m\u001b[39mPlotting frame 63 of 187...\n",
      "\u001b[36m\u001b[1m[ \u001b[22m\u001b[39m\u001b[36m\u001b[1mInfo: \u001b[22m\u001b[39mPlotting frame 64 of 187...\n",
      "\u001b[36m\u001b[1m[ \u001b[22m\u001b[39m\u001b[36m\u001b[1mInfo: \u001b[22m\u001b[39mPlotting frame 65 of 187...\n",
      "\u001b[36m\u001b[1m[ \u001b[22m\u001b[39m\u001b[36m\u001b[1mInfo: \u001b[22m\u001b[39mPlotting frame 66 of 187...\n",
      "\u001b[36m\u001b[1m[ \u001b[22m\u001b[39m\u001b[36m\u001b[1mInfo: \u001b[22m\u001b[39mPlotting frame 67 of 187...\n",
      "\u001b[36m\u001b[1m[ \u001b[22m\u001b[39m\u001b[36m\u001b[1mInfo: \u001b[22m\u001b[39mPlotting frame 68 of 187...\n",
      "\u001b[36m\u001b[1m[ \u001b[22m\u001b[39m\u001b[36m\u001b[1mInfo: \u001b[22m\u001b[39mPlotting frame 69 of 187...\n",
      "\u001b[36m\u001b[1m[ \u001b[22m\u001b[39m\u001b[36m\u001b[1mInfo: \u001b[22m\u001b[39mPlotting frame 70 of 187...\n",
      "\u001b[36m\u001b[1m[ \u001b[22m\u001b[39m\u001b[36m\u001b[1mInfo: \u001b[22m\u001b[39mPlotting frame 71 of 187...\n",
      "\u001b[36m\u001b[1m[ \u001b[22m\u001b[39m\u001b[36m\u001b[1mInfo: \u001b[22m\u001b[39mPlotting frame 72 of 187...\n",
      "\u001b[36m\u001b[1m[ \u001b[22m\u001b[39m\u001b[36m\u001b[1mInfo: \u001b[22m\u001b[39mPlotting frame 73 of 187...\n",
      "\u001b[36m\u001b[1m[ \u001b[22m\u001b[39m\u001b[36m\u001b[1mInfo: \u001b[22m\u001b[39mPlotting frame 74 of 187...\n",
      "\u001b[36m\u001b[1m[ \u001b[22m\u001b[39m\u001b[36m\u001b[1mInfo: \u001b[22m\u001b[39mPlotting frame 75 of 187...\n",
      "\u001b[36m\u001b[1m[ \u001b[22m\u001b[39m\u001b[36m\u001b[1mInfo: \u001b[22m\u001b[39mPlotting frame 76 of 187...\n",
      "\u001b[36m\u001b[1m[ \u001b[22m\u001b[39m\u001b[36m\u001b[1mInfo: \u001b[22m\u001b[39mPlotting frame 77 of 187...\n",
      "\u001b[36m\u001b[1m[ \u001b[22m\u001b[39m\u001b[36m\u001b[1mInfo: \u001b[22m\u001b[39mPlotting frame 78 of 187...\n",
      "\u001b[36m\u001b[1m[ \u001b[22m\u001b[39m\u001b[36m\u001b[1mInfo: \u001b[22m\u001b[39mPlotting frame 79 of 187...\n",
      "\u001b[36m\u001b[1m[ \u001b[22m\u001b[39m\u001b[36m\u001b[1mInfo: \u001b[22m\u001b[39mPlotting frame 80 of 187...\n",
      "\u001b[36m\u001b[1m[ \u001b[22m\u001b[39m\u001b[36m\u001b[1mInfo: \u001b[22m\u001b[39mPlotting frame 81 of 187...\n",
      "\u001b[36m\u001b[1m[ \u001b[22m\u001b[39m\u001b[36m\u001b[1mInfo: \u001b[22m\u001b[39mPlotting frame 82 of 187...\n",
      "\u001b[36m\u001b[1m[ \u001b[22m\u001b[39m\u001b[36m\u001b[1mInfo: \u001b[22m\u001b[39mPlotting frame 83 of 187...\n",
      "\u001b[36m\u001b[1m[ \u001b[22m\u001b[39m\u001b[36m\u001b[1mInfo: \u001b[22m\u001b[39mPlotting frame 84 of 187...\n",
      "\u001b[36m\u001b[1m[ \u001b[22m\u001b[39m\u001b[36m\u001b[1mInfo: \u001b[22m\u001b[39mPlotting frame 85 of 187...\n",
      "\u001b[36m\u001b[1m[ \u001b[22m\u001b[39m\u001b[36m\u001b[1mInfo: \u001b[22m\u001b[39mPlotting frame 86 of 187...\n",
      "\u001b[36m\u001b[1m[ \u001b[22m\u001b[39m\u001b[36m\u001b[1mInfo: \u001b[22m\u001b[39mPlotting frame 87 of 187...\n",
      "\u001b[36m\u001b[1m[ \u001b[22m\u001b[39m\u001b[36m\u001b[1mInfo: \u001b[22m\u001b[39mPlotting frame 88 of 187...\n",
      "\u001b[36m\u001b[1m[ \u001b[22m\u001b[39m\u001b[36m\u001b[1mInfo: \u001b[22m\u001b[39mPlotting frame 89 of 187...\n",
      "\u001b[36m\u001b[1m[ \u001b[22m\u001b[39m\u001b[36m\u001b[1mInfo: \u001b[22m\u001b[39mPlotting frame 90 of 187...\n",
      "\u001b[36m\u001b[1m[ \u001b[22m\u001b[39m\u001b[36m\u001b[1mInfo: \u001b[22m\u001b[39mPlotting frame 91 of 187...\n",
      "\u001b[36m\u001b[1m[ \u001b[22m\u001b[39m\u001b[36m\u001b[1mInfo: \u001b[22m\u001b[39mPlotting frame 92 of 187...\n",
      "\u001b[36m\u001b[1m[ \u001b[22m\u001b[39m\u001b[36m\u001b[1mInfo: \u001b[22m\u001b[39mPlotting frame 93 of 187...\n",
      "\u001b[36m\u001b[1m[ \u001b[22m\u001b[39m\u001b[36m\u001b[1mInfo: \u001b[22m\u001b[39mPlotting frame 94 of 187...\n",
      "\u001b[36m\u001b[1m[ \u001b[22m\u001b[39m\u001b[36m\u001b[1mInfo: \u001b[22m\u001b[39mPlotting frame 95 of 187...\n",
      "\u001b[36m\u001b[1m[ \u001b[22m\u001b[39m\u001b[36m\u001b[1mInfo: \u001b[22m\u001b[39mPlotting frame 96 of 187...\n",
      "\u001b[36m\u001b[1m[ \u001b[22m\u001b[39m\u001b[36m\u001b[1mInfo: \u001b[22m\u001b[39mPlotting frame 97 of 187...\n",
      "\u001b[36m\u001b[1m[ \u001b[22m\u001b[39m\u001b[36m\u001b[1mInfo: \u001b[22m\u001b[39mPlotting frame 98 of 187...\n",
      "\u001b[36m\u001b[1m[ \u001b[22m\u001b[39m\u001b[36m\u001b[1mInfo: \u001b[22m\u001b[39mPlotting frame 99 of 187...\n",
      "\u001b[36m\u001b[1m[ \u001b[22m\u001b[39m\u001b[36m\u001b[1mInfo: \u001b[22m\u001b[39mPlotting frame 100 of 187...\n",
      "\u001b[36m\u001b[1m[ \u001b[22m\u001b[39m\u001b[36m\u001b[1mInfo: \u001b[22m\u001b[39mPlotting frame 101 of 187...\n",
      "\u001b[36m\u001b[1m[ \u001b[22m\u001b[39m\u001b[36m\u001b[1mInfo: \u001b[22m\u001b[39mPlotting frame 102 of 187...\n",
      "\u001b[36m\u001b[1m[ \u001b[22m\u001b[39m\u001b[36m\u001b[1mInfo: \u001b[22m\u001b[39mPlotting frame 103 of 187...\n",
      "\u001b[36m\u001b[1m[ \u001b[22m\u001b[39m\u001b[36m\u001b[1mInfo: \u001b[22m\u001b[39mPlotting frame 104 of 187...\n",
      "\u001b[36m\u001b[1m[ \u001b[22m\u001b[39m\u001b[36m\u001b[1mInfo: \u001b[22m\u001b[39mPlotting frame 105 of 187...\n",
      "\u001b[36m\u001b[1m[ \u001b[22m\u001b[39m\u001b[36m\u001b[1mInfo: \u001b[22m\u001b[39mPlotting frame 106 of 187...\n",
      "\u001b[36m\u001b[1m[ \u001b[22m\u001b[39m\u001b[36m\u001b[1mInfo: \u001b[22m\u001b[39mPlotting frame 107 of 187...\n",
      "\u001b[36m\u001b[1m[ \u001b[22m\u001b[39m\u001b[36m\u001b[1mInfo: \u001b[22m\u001b[39mPlotting frame 108 of 187...\n",
      "\u001b[36m\u001b[1m[ \u001b[22m\u001b[39m\u001b[36m\u001b[1mInfo: \u001b[22m\u001b[39mPlotting frame 109 of 187...\n",
      "\u001b[36m\u001b[1m[ \u001b[22m\u001b[39m\u001b[36m\u001b[1mInfo: \u001b[22m\u001b[39mPlotting frame 110 of 187...\n",
      "\u001b[36m\u001b[1m[ \u001b[22m\u001b[39m\u001b[36m\u001b[1mInfo: \u001b[22m\u001b[39mPlotting frame 111 of 187...\n",
      "\u001b[36m\u001b[1m[ \u001b[22m\u001b[39m\u001b[36m\u001b[1mInfo: \u001b[22m\u001b[39mPlotting frame 112 of 187...\n",
      "\u001b[36m\u001b[1m[ \u001b[22m\u001b[39m\u001b[36m\u001b[1mInfo: \u001b[22m\u001b[39mPlotting frame 113 of 187...\n",
      "\u001b[36m\u001b[1m[ \u001b[22m\u001b[39m\u001b[36m\u001b[1mInfo: \u001b[22m\u001b[39mPlotting frame 114 of 187...\n",
      "\u001b[36m\u001b[1m[ \u001b[22m\u001b[39m\u001b[36m\u001b[1mInfo: \u001b[22m\u001b[39mPlotting frame 115 of 187...\n",
      "\u001b[36m\u001b[1m[ \u001b[22m\u001b[39m\u001b[36m\u001b[1mInfo: \u001b[22m\u001b[39mPlotting frame 116 of 187...\n",
      "\u001b[36m\u001b[1m[ \u001b[22m\u001b[39m\u001b[36m\u001b[1mInfo: \u001b[22m\u001b[39mPlotting frame 117 of 187...\n",
      "\u001b[36m\u001b[1m[ \u001b[22m\u001b[39m\u001b[36m\u001b[1mInfo: \u001b[22m\u001b[39mPlotting frame 118 of 187...\n",
      "\u001b[36m\u001b[1m[ \u001b[22m\u001b[39m\u001b[36m\u001b[1mInfo: \u001b[22m\u001b[39mPlotting frame 119 of 187...\n",
      "\u001b[36m\u001b[1m[ \u001b[22m\u001b[39m\u001b[36m\u001b[1mInfo: \u001b[22m\u001b[39mPlotting frame 120 of 187...\n",
      "\u001b[36m\u001b[1m[ \u001b[22m\u001b[39m\u001b[36m\u001b[1mInfo: \u001b[22m\u001b[39mPlotting frame 121 of 187...\n",
      "\u001b[36m\u001b[1m[ \u001b[22m\u001b[39m\u001b[36m\u001b[1mInfo: \u001b[22m\u001b[39mPlotting frame 122 of 187...\n",
      "\u001b[36m\u001b[1m[ \u001b[22m\u001b[39m\u001b[36m\u001b[1mInfo: \u001b[22m\u001b[39mPlotting frame 123 of 187...\n",
      "\u001b[36m\u001b[1m[ \u001b[22m\u001b[39m\u001b[36m\u001b[1mInfo: \u001b[22m\u001b[39mPlotting frame 124 of 187...\n",
      "\u001b[36m\u001b[1m[ \u001b[22m\u001b[39m\u001b[36m\u001b[1mInfo: \u001b[22m\u001b[39mPlotting frame 125 of 187...\n",
      "\u001b[36m\u001b[1m[ \u001b[22m\u001b[39m\u001b[36m\u001b[1mInfo: \u001b[22m\u001b[39mPlotting frame 126 of 187...\n",
      "\u001b[36m\u001b[1m[ \u001b[22m\u001b[39m\u001b[36m\u001b[1mInfo: \u001b[22m\u001b[39mPlotting frame 127 of 187...\n",
      "\u001b[36m\u001b[1m[ \u001b[22m\u001b[39m\u001b[36m\u001b[1mInfo: \u001b[22m\u001b[39mPlotting frame 128 of 187...\n",
      "\u001b[36m\u001b[1m[ \u001b[22m\u001b[39m\u001b[36m\u001b[1mInfo: \u001b[22m\u001b[39mPlotting frame 129 of 187...\n",
      "\u001b[36m\u001b[1m[ \u001b[22m\u001b[39m\u001b[36m\u001b[1mInfo: \u001b[22m\u001b[39mPlotting frame 130 of 187...\n",
      "\u001b[36m\u001b[1m[ \u001b[22m\u001b[39m\u001b[36m\u001b[1mInfo: \u001b[22m\u001b[39mPlotting frame 131 of 187...\n",
      "\u001b[36m\u001b[1m[ \u001b[22m\u001b[39m\u001b[36m\u001b[1mInfo: \u001b[22m\u001b[39mPlotting frame 132 of 187...\n",
      "\u001b[36m\u001b[1m[ \u001b[22m\u001b[39m\u001b[36m\u001b[1mInfo: \u001b[22m\u001b[39mPlotting frame 133 of 187...\n",
      "\u001b[36m\u001b[1m[ \u001b[22m\u001b[39m\u001b[36m\u001b[1mInfo: \u001b[22m\u001b[39mPlotting frame 134 of 187...\n",
      "\u001b[36m\u001b[1m[ \u001b[22m\u001b[39m\u001b[36m\u001b[1mInfo: \u001b[22m\u001b[39mPlotting frame 135 of 187...\n",
      "\u001b[36m\u001b[1m[ \u001b[22m\u001b[39m\u001b[36m\u001b[1mInfo: \u001b[22m\u001b[39mPlotting frame 136 of 187...\n",
      "\u001b[36m\u001b[1m[ \u001b[22m\u001b[39m\u001b[36m\u001b[1mInfo: \u001b[22m\u001b[39mPlotting frame 137 of 187...\n",
      "\u001b[36m\u001b[1m[ \u001b[22m\u001b[39m\u001b[36m\u001b[1mInfo: \u001b[22m\u001b[39mPlotting frame 138 of 187...\n",
      "\u001b[36m\u001b[1m[ \u001b[22m\u001b[39m\u001b[36m\u001b[1mInfo: \u001b[22m\u001b[39mPlotting frame 139 of 187...\n",
      "\u001b[36m\u001b[1m[ \u001b[22m\u001b[39m\u001b[36m\u001b[1mInfo: \u001b[22m\u001b[39mPlotting frame 140 of 187...\n",
      "\u001b[36m\u001b[1m[ \u001b[22m\u001b[39m\u001b[36m\u001b[1mInfo: \u001b[22m\u001b[39mPlotting frame 141 of 187...\n",
      "\u001b[36m\u001b[1m[ \u001b[22m\u001b[39m\u001b[36m\u001b[1mInfo: \u001b[22m\u001b[39mPlotting frame 142 of 187...\n",
      "\u001b[36m\u001b[1m[ \u001b[22m\u001b[39m\u001b[36m\u001b[1mInfo: \u001b[22m\u001b[39mPlotting frame 143 of 187...\n",
      "\u001b[36m\u001b[1m[ \u001b[22m\u001b[39m\u001b[36m\u001b[1mInfo: \u001b[22m\u001b[39mPlotting frame 144 of 187...\n",
      "\u001b[36m\u001b[1m[ \u001b[22m\u001b[39m\u001b[36m\u001b[1mInfo: \u001b[22m\u001b[39mPlotting frame 145 of 187...\n",
      "\u001b[36m\u001b[1m[ \u001b[22m\u001b[39m\u001b[36m\u001b[1mInfo: \u001b[22m\u001b[39mPlotting frame 146 of 187...\n",
      "\u001b[36m\u001b[1m[ \u001b[22m\u001b[39m\u001b[36m\u001b[1mInfo: \u001b[22m\u001b[39mPlotting frame 147 of 187...\n",
      "\u001b[36m\u001b[1m[ \u001b[22m\u001b[39m\u001b[36m\u001b[1mInfo: \u001b[22m\u001b[39mPlotting frame 148 of 187...\n",
      "\u001b[36m\u001b[1m[ \u001b[22m\u001b[39m\u001b[36m\u001b[1mInfo: \u001b[22m\u001b[39mPlotting frame 149 of 187...\n",
      "\u001b[36m\u001b[1m[ \u001b[22m\u001b[39m\u001b[36m\u001b[1mInfo: \u001b[22m\u001b[39mPlotting frame 150 of 187...\n",
      "\u001b[36m\u001b[1m[ \u001b[22m\u001b[39m\u001b[36m\u001b[1mInfo: \u001b[22m\u001b[39mPlotting frame 151 of 187...\n",
      "\u001b[36m\u001b[1m[ \u001b[22m\u001b[39m\u001b[36m\u001b[1mInfo: \u001b[22m\u001b[39mPlotting frame 152 of 187...\n",
      "\u001b[36m\u001b[1m[ \u001b[22m\u001b[39m\u001b[36m\u001b[1mInfo: \u001b[22m\u001b[39mPlotting frame 153 of 187...\n",
      "\u001b[36m\u001b[1m[ \u001b[22m\u001b[39m\u001b[36m\u001b[1mInfo: \u001b[22m\u001b[39mPlotting frame 154 of 187...\n",
      "\u001b[36m\u001b[1m[ \u001b[22m\u001b[39m\u001b[36m\u001b[1mInfo: \u001b[22m\u001b[39mPlotting frame 155 of 187...\n",
      "\u001b[36m\u001b[1m[ \u001b[22m\u001b[39m\u001b[36m\u001b[1mInfo: \u001b[22m\u001b[39mPlotting frame 156 of 187...\n",
      "\u001b[36m\u001b[1m[ \u001b[22m\u001b[39m\u001b[36m\u001b[1mInfo: \u001b[22m\u001b[39mPlotting frame 157 of 187...\n",
      "\u001b[36m\u001b[1m[ \u001b[22m\u001b[39m\u001b[36m\u001b[1mInfo: \u001b[22m\u001b[39mPlotting frame 158 of 187...\n",
      "\u001b[36m\u001b[1m[ \u001b[22m\u001b[39m\u001b[36m\u001b[1mInfo: \u001b[22m\u001b[39mPlotting frame 159 of 187...\n",
      "\u001b[36m\u001b[1m[ \u001b[22m\u001b[39m\u001b[36m\u001b[1mInfo: \u001b[22m\u001b[39mPlotting frame 160 of 187...\n",
      "\u001b[36m\u001b[1m[ \u001b[22m\u001b[39m\u001b[36m\u001b[1mInfo: \u001b[22m\u001b[39mPlotting frame 161 of 187...\n",
      "\u001b[36m\u001b[1m[ \u001b[22m\u001b[39m\u001b[36m\u001b[1mInfo: \u001b[22m\u001b[39mPlotting frame 162 of 187...\n",
      "\u001b[36m\u001b[1m[ \u001b[22m\u001b[39m\u001b[36m\u001b[1mInfo: \u001b[22m\u001b[39mPlotting frame 163 of 187...\n",
      "\u001b[36m\u001b[1m[ \u001b[22m\u001b[39m\u001b[36m\u001b[1mInfo: \u001b[22m\u001b[39mPlotting frame 164 of 187...\n",
      "\u001b[36m\u001b[1m[ \u001b[22m\u001b[39m\u001b[36m\u001b[1mInfo: \u001b[22m\u001b[39mPlotting frame 165 of 187...\n",
      "\u001b[36m\u001b[1m[ \u001b[22m\u001b[39m\u001b[36m\u001b[1mInfo: \u001b[22m\u001b[39mPlotting frame 166 of 187...\n",
      "\u001b[36m\u001b[1m[ \u001b[22m\u001b[39m\u001b[36m\u001b[1mInfo: \u001b[22m\u001b[39mPlotting frame 167 of 187...\n",
      "\u001b[36m\u001b[1m[ \u001b[22m\u001b[39m\u001b[36m\u001b[1mInfo: \u001b[22m\u001b[39mPlotting frame 168 of 187...\n",
      "\u001b[36m\u001b[1m[ \u001b[22m\u001b[39m\u001b[36m\u001b[1mInfo: \u001b[22m\u001b[39mPlotting frame 169 of 187...\n",
      "\u001b[36m\u001b[1m[ \u001b[22m\u001b[39m\u001b[36m\u001b[1mInfo: \u001b[22m\u001b[39mPlotting frame 170 of 187...\n",
      "\u001b[36m\u001b[1m[ \u001b[22m\u001b[39m\u001b[36m\u001b[1mInfo: \u001b[22m\u001b[39mPlotting frame 171 of 187...\n",
      "\u001b[36m\u001b[1m[ \u001b[22m\u001b[39m\u001b[36m\u001b[1mInfo: \u001b[22m\u001b[39mPlotting frame 172 of 187...\n",
      "\u001b[36m\u001b[1m[ \u001b[22m\u001b[39m\u001b[36m\u001b[1mInfo: \u001b[22m\u001b[39mPlotting frame 173 of 187...\n",
      "\u001b[36m\u001b[1m[ \u001b[22m\u001b[39m\u001b[36m\u001b[1mInfo: \u001b[22m\u001b[39mPlotting frame 174 of 187...\n",
      "\u001b[36m\u001b[1m[ \u001b[22m\u001b[39m\u001b[36m\u001b[1mInfo: \u001b[22m\u001b[39mPlotting frame 175 of 187...\n",
      "\u001b[36m\u001b[1m[ \u001b[22m\u001b[39m\u001b[36m\u001b[1mInfo: \u001b[22m\u001b[39mPlotting frame 176 of 187...\n",
      "\u001b[36m\u001b[1m[ \u001b[22m\u001b[39m\u001b[36m\u001b[1mInfo: \u001b[22m\u001b[39mPlotting frame 177 of 187...\n",
      "\u001b[36m\u001b[1m[ \u001b[22m\u001b[39m\u001b[36m\u001b[1mInfo: \u001b[22m\u001b[39mPlotting frame 178 of 187...\n",
      "\u001b[36m\u001b[1m[ \u001b[22m\u001b[39m\u001b[36m\u001b[1mInfo: \u001b[22m\u001b[39mPlotting frame 179 of 187...\n",
      "\u001b[36m\u001b[1m[ \u001b[22m\u001b[39m\u001b[36m\u001b[1mInfo: \u001b[22m\u001b[39mPlotting frame 180 of 187...\n",
      "\u001b[36m\u001b[1m[ \u001b[22m\u001b[39m\u001b[36m\u001b[1mInfo: \u001b[22m\u001b[39mPlotting frame 181 of 187...\n",
      "\u001b[36m\u001b[1m[ \u001b[22m\u001b[39m\u001b[36m\u001b[1mInfo: \u001b[22m\u001b[39mPlotting frame 182 of 187...\n",
      "\u001b[36m\u001b[1m[ \u001b[22m\u001b[39m\u001b[36m\u001b[1mInfo: \u001b[22m\u001b[39mPlotting frame 183 of 187...\n",
      "\u001b[36m\u001b[1m[ \u001b[22m\u001b[39m\u001b[36m\u001b[1mInfo: \u001b[22m\u001b[39mPlotting frame 184 of 187...\n",
      "\u001b[36m\u001b[1m[ \u001b[22m\u001b[39m\u001b[36m\u001b[1mInfo: \u001b[22m\u001b[39mPlotting frame 185 of 187...\n",
      "\u001b[36m\u001b[1m[ \u001b[22m\u001b[39m\u001b[36m\u001b[1mInfo: \u001b[22m\u001b[39mPlotting frame 186 of 187...\n",
      "\u001b[36m\u001b[1m[ \u001b[22m\u001b[39m\u001b[36m\u001b[1mInfo: \u001b[22m\u001b[39mPlotting frame 187 of 187...\n"
     ]
    },
    {
     "data": {
      "text/plain": [
       "\"../movies/Lecture01_shear_instability_example.mp4\""
      ]
     },
     "execution_count": 11,
     "metadata": {},
     "output_type": "execute_result"
    }
   ],
   "source": [
    "@info \"Making a neat movie of stratified shear flow...\"\n",
    "\n",
    "filepath = simulation.output_writers[:buoyancy].filepath\n",
    "\n",
    "B_timeseries = FieldTimeSeries(filepath, \"B\")\n",
    "\n",
    "times = B_timeseries.times\n",
    "t_final = times[end]\n",
    "\n",
    "n = Observable(1)\n",
    "\n",
    "Bₙ = @lift interior(B_timeseries, :, 1, :, $n)\n",
    "\n",
    "fig = Figure(size=(800, 600))\n",
    "\n",
    "kwargs = (xlabel=\"x [m]\", ylabel=\"z [m]\", limits = ((xb[1], xb[end]), (-3, 3)), aspect=1,)\n",
    "\n",
    "title = @lift @sprintf(\"temperature [°C] at t = %.2f\", times[$n])\n",
    "\n",
    "ax_B = Axis(fig[1, 1]; title = title, kwargs...)\n",
    "\n",
    "B_lims = (-maximum(abs, interior(B_timeseries, :, 1, :, :)), maximum(abs, interior(B_timeseries, :, 1, :, :)))\n",
    "\n",
    "hm_B = heatmap!(ax_B, xb, zb, Bₙ; colorrange = B_lims, colormap = :balance)\n",
    "Colorbar(fig[1, 2], hm_B)\n",
    "\n",
    "frames = 1:length(times)\n",
    "\n",
    "record(fig, \"../movies/Lecture01_shear_instability_example.mp4\", frames, framerate=8) do i\n",
    "    @info \"Plotting frame $i of $(frames[end])...\"\n",
    "    n[] = i\n",
    "end"
   ]
  },
  {
   "cell_type": "code",
   "execution_count": 12,
   "id": "30d73389-75b0-4199-a210-b02e860e255c",
   "metadata": {},
   "outputs": [
    {
     "data": {
      "text/plain": [
       "CairoMakie.Screen{IMAGE}\n"
      ]
     },
     "execution_count": 12,
     "metadata": {},
     "output_type": "execute_result"
    }
   ],
   "source": [
    "fig = Figure(size=(900, 600))\n",
    "kwargs = (xlabel=\"x [m]\", ylabel=\"z [m]\", limits = ((xb[1], xb[end]), (zb[1], zb[end])), aspect=1,)\n",
    "ax_B = Axis(fig[1, 1]; title = \"temperature [°C] at t=0 minutes\", kwargs...)\n",
    "hm_B = heatmap!(ax_B, xb, zb, interior(B_timeseries, :, 1, :, 1); colorrange = B_lims, colormap = :balance)\n",
    "\n",
    "ax_B = Axis(fig[1, 2]; title = \"temperature [°C] at t=90 minutes\", kwargs...)\n",
    "hm_B = heatmap!(ax_B, xb, zb, interior(B_timeseries, :, 1, :, 90); colorrange = B_lims, colormap = :balance)\n",
    "lines!(ax_B, [0, 0], [-5, 5], linestyle=:dash, color=:black)\n",
    "\n",
    "ax_B = Axis(fig[1, 3]; title = \"temperature [°C] at t=180 minutes\", kwargs...)\n",
    "hm_B = heatmap!(ax_B, xb, zb, interior(B_timeseries, :, 1, :, 180); colorrange = B_lims, colormap = :balance)\n",
    "\n",
    "ax_B = Axis(fig[2, 2]; title = \"temperature at t=90 minutes\", xlabel=\"temperature [ºC]\", ylabel=\"z [m]\", limits=(0.75.*B_lims, (zb[1], zb[end])))\n",
    "l_B = lines!(ax_B, interior(B_timeseries, 64, 1, :, 90), zb, label=\"x=0 m\")\n",
    "\n",
    "Colorbar(fig[1, 4], hm_B)\n",
    "leg = axislegend(ax_B, position=:lt)\n",
    "save(\"../figures/Lecture01_shear_instability_snapshots.png\", fig)\n",
    "#fig\n",
    "\n",
    "l_B = lines!(ax_B, mean(interior(B_timeseries, :, 1, :, 90), dims=(1))[1,:], zb, label=\"zonal average\")\n",
    "delete!(leg)\n",
    "axislegend(ax_B, position=:lt)\n",
    "save(\"../figures/Lecture01_shear_instability_snapshots_mean.png\", fig)\n",
    "#fig"
   ]
  },
  {
   "cell_type": "code",
   "execution_count": 13,
   "id": "03a00f22-c92b-4bf5-878d-4f6366ccc7ee",
   "metadata": {},
   "outputs": [
    {
     "name": "stdout",
     "output_type": "stream",
     "text": [
      "(128, 128)"
     ]
    }
   ],
   "source": [
    "using Statistics\n",
    "Bₙ = interior(B_timeseries, :, 1, :, 186)\n",
    "b_mean = mean(Bₙ, dims=(1))[1,:]\n",
    "\n",
    "lines(b_mean, zb)\n",
    "\n",
    "print(size(Bₙ))\n",
    "\n"
   ]
  },
  {
   "cell_type": "markdown",
   "id": "a54b53e0-9528-40d1-856a-34acb8da6f71",
   "metadata": {},
   "source": [
    "#### Now let's try to calculate $z_{*}$ using the heaviside step function\n",
    "\n",
    "We first need to define some xo and zo\n",
    "\n",
    "If we choose the values where xo=-2.5 and zo=-1 we need to figure out which index in the xb array and zb array refer to these values. "
   ]
  },
  {
   "cell_type": "code",
   "execution_count": 14,
   "id": "610bb674-0a23-4367-9dce-390f69a583ef",
   "metadata": {},
   "outputs": [
    {
     "name": "stdout",
     "output_type": "stream",
     "text": [
      "The value ∼ -2.5 is found at index 32\n",
      "The value ∼ -1 is found at index 51\n"
     ]
    }
   ],
   "source": [
    "indexxo = findfirst(x -> x == -2.5390625, xb)\n",
    "indexzo = findfirst(z -> z == -1.0546875, zb)\n",
    "\n",
    "println(\"The value ∼ -2.5 is found at index $indexxo\")\n",
    "println(\"The value ∼ -1 is found at index $indexzo\")"
   ]
  },
  {
   "cell_type": "markdown",
   "id": "7d0cde1e-4261-4ed4-91c7-fccecaff0628",
   "metadata": {},
   "source": [
    "### Now we know $x_o = 32$ and $z_o = 51$ and we can use this to calculate the Heaviside\n",
    "\n",
    "$ H(\\rho(x,t)-\\rho(x_o, t)) = \\left\\{\n",
    "\\begin{array}{ll}\n",
    "        0, \\rho(x,t)\\leq\\rho(x_o, t)\\\\\n",
    "        1, \\rho(x,t)>\\rho(x_o,t)\\\\\n",
    "\\end{array}\n",
    "\\right.$"
   ]
  },
  {
   "cell_type": "markdown",
   "id": "3ce81400-3aab-4530-9443-7a688c7f7a5e",
   "metadata": {},
   "source": [
    "#### Since our model outputs buoyancy values rather than density and we know $b \\propto -\\rho$ We can multiply both sides of the inequality by -1. \n",
    "\n",
    "$ H(b(x_o,t)-b(x, t)) = \\left\\{\n",
    "\\begin{array}{ll}\n",
    "        0, b(x,t)\\geq b(x_o, t)\\\\\n",
    "        1, b(x,t)<b(x_o,t)\\\\\n",
    "\\end{array}\n",
    "\\right.$"
   ]
  },
  {
   "cell_type": "code",
   "execution_count": 15,
   "id": "abab1a65-fd65-4597-8fcb-1de0864e6411",
   "metadata": {
    "scrolled": true
   },
   "outputs": [
    {
     "data": {
      "text/plain": [
       "128×128 BitMatrix:\n",
       " 0  0  1  1  1  1  1  1  1  1  0  0  0  …  1  1  1  1  1  1  1  1  1  1  1  1\n",
       " 0  0  1  1  1  1  1  1  1  1  0  0  0     1  1  1  1  1  1  1  1  1  1  1  1\n",
       " 0  0  1  1  1  1  1  1  1  1  0  0  0     1  1  1  1  1  1  1  1  1  1  1  1\n",
       " 0  0  1  1  1  1  1  1  1  1  0  0  0     1  1  1  1  1  1  1  1  1  1  1  1\n",
       " 0  0  1  1  1  1  1  1  1  1  0  0  0     1  1  1  1  1  1  1  1  1  1  1  1\n",
       " 0  0  1  1  1  1  1  1  1  1  1  0  0  …  1  1  1  1  1  1  1  1  1  1  1  1\n",
       " 1  1  1  1  1  1  1  1  1  1  1  0  0     1  1  1  1  1  1  1  1  1  1  1  1\n",
       " 1  1  1  1  1  1  1  1  1  1  1  1  0     1  1  1  1  1  1  1  1  1  1  1  1\n",
       " 1  1  1  1  1  1  1  1  1  1  1  1  1     1  1  1  1  1  1  1  1  1  1  1  1\n",
       " 1  1  0  0  0  1  1  1  1  1  1  1  1     1  1  1  1  1  1  1  1  1  1  1  1\n",
       " 1  1  0  0  0  0  1  1  1  1  1  1  1  …  1  1  1  1  1  1  1  1  1  1  1  1\n",
       " 1  1  0  0  0  0  1  1  1  1  1  1  1     1  1  1  1  1  1  1  1  1  1  1  1\n",
       " 1  1  0  0  0  0  1  1  1  1  1  1  1     1  1  1  1  1  1  1  1  1  1  1  1\n",
       " ⋮              ⋮              ⋮        ⋱              ⋮              ⋮     \n",
       " 0  0  0  0  0  0  0  0  1  1  1  1  1     1  1  1  1  1  1  1  1  1  1  1  1\n",
       " 0  0  0  0  0  0  0  0  1  1  1  1  1     1  1  1  1  1  1  1  1  1  1  1  1\n",
       " 0  0  0  0  0  0  0  0  1  1  1  1  1     1  1  1  1  1  1  1  1  1  1  1  1\n",
       " 0  0  0  1  0  0  0  0  1  1  1  1  0     1  1  1  1  1  1  1  1  1  1  1  1\n",
       " 0  0  0  1  1  0  0  1  1  1  1  0  0  …  1  1  1  1  1  1  1  1  1  1  1  1\n",
       " 0  0  0  1  1  0  0  1  1  1  1  0  0     1  1  1  1  1  1  1  1  1  1  1  1\n",
       " 0  0  1  1  1  0  0  1  1  1  0  0  0     1  1  1  1  1  1  1  1  1  1  1  1\n",
       " 0  0  1  1  1  0  0  1  1  1  0  0  0     1  1  1  1  1  1  1  1  1  1  1  1\n",
       " 0  0  1  1  1  0  0  1  1  1  0  0  0     1  1  1  1  1  1  1  1  1  1  1  1\n",
       " 0  0  1  1  1  1  0  1  1  1  0  0  0  …  1  1  1  1  1  1  1  1  1  1  1  1\n",
       " 0  0  1  1  1  1  0  1  1  1  0  0  0     1  1  1  1  1  1  1  1  1  1  1  1\n",
       " 0  0  1  1  1  1  1  1  1  1  0  0  0     1  1  1  1  1  1  1  1  1  1  1  1"
      ]
     },
     "execution_count": 15,
     "metadata": {},
     "output_type": "execute_result"
    }
   ],
   "source": [
    "xo=32\n",
    "zo=51\n",
    "\n",
    "#Calculate the Heaviside\n",
    "\n",
    "H = (Bₙ .>= Bₙ[xo]) .& (Bₙ .>= Bₙ[zo])"
   ]
  },
  {
   "cell_type": "code",
   "execution_count": 16,
   "id": "c2774df9-fd66-4583-9299-183e7d1f3c37",
   "metadata": {},
   "outputs": [
    {
     "data": {
      "text/plain": [
       "128×128 Matrix{Float64}:\n",
       " 0.0  0.0  1.0  1.0  1.0  1.0  1.0  1.0  …  1.0  1.0  1.0  1.0  1.0  1.0  1.0\n",
       " 0.0  0.0  1.0  1.0  1.0  1.0  1.0  1.0     1.0  1.0  1.0  1.0  1.0  1.0  1.0\n",
       " 0.0  0.0  1.0  1.0  1.0  1.0  1.0  1.0     1.0  1.0  1.0  1.0  1.0  1.0  1.0\n",
       " 0.0  0.0  1.0  1.0  1.0  1.0  1.0  1.0     1.0  1.0  1.0  1.0  1.0  1.0  1.0\n",
       " 0.0  0.0  1.0  1.0  1.0  1.0  1.0  1.0     1.0  1.0  1.0  1.0  1.0  1.0  1.0\n",
       " 0.0  0.0  1.0  1.0  1.0  1.0  1.0  1.0  …  1.0  1.0  1.0  1.0  1.0  1.0  1.0\n",
       " 1.0  1.0  1.0  1.0  1.0  1.0  1.0  1.0     1.0  1.0  1.0  1.0  1.0  1.0  1.0\n",
       " 1.0  1.0  1.0  1.0  1.0  1.0  1.0  1.0     1.0  1.0  1.0  1.0  1.0  1.0  1.0\n",
       " 1.0  1.0  1.0  1.0  1.0  1.0  1.0  1.0     1.0  1.0  1.0  1.0  1.0  1.0  1.0\n",
       " 1.0  1.0  0.0  0.0  0.0  1.0  1.0  1.0     1.0  1.0  1.0  1.0  1.0  1.0  1.0\n",
       " 1.0  1.0  0.0  0.0  0.0  0.0  1.0  1.0  …  1.0  1.0  1.0  1.0  1.0  1.0  1.0\n",
       " 1.0  1.0  0.0  0.0  0.0  0.0  1.0  1.0     1.0  1.0  1.0  1.0  1.0  1.0  1.0\n",
       " 1.0  1.0  0.0  0.0  0.0  0.0  1.0  1.0     1.0  1.0  1.0  1.0  1.0  1.0  1.0\n",
       " ⋮                        ⋮              ⋱                      ⋮         \n",
       " 0.0  0.0  0.0  0.0  0.0  0.0  0.0  0.0     1.0  1.0  1.0  1.0  1.0  1.0  1.0\n",
       " 0.0  0.0  0.0  0.0  0.0  0.0  0.0  0.0     1.0  1.0  1.0  1.0  1.0  1.0  1.0\n",
       " 0.0  0.0  0.0  0.0  0.0  0.0  0.0  0.0     1.0  1.0  1.0  1.0  1.0  1.0  1.0\n",
       " 0.0  0.0  0.0  1.0  0.0  0.0  0.0  0.0     1.0  1.0  1.0  1.0  1.0  1.0  1.0\n",
       " 0.0  0.0  0.0  1.0  1.0  0.0  0.0  1.0  …  1.0  1.0  1.0  1.0  1.0  1.0  1.0\n",
       " 0.0  0.0  0.0  1.0  1.0  0.0  0.0  1.0     1.0  1.0  1.0  1.0  1.0  1.0  1.0\n",
       " 0.0  0.0  1.0  1.0  1.0  0.0  0.0  1.0     1.0  1.0  1.0  1.0  1.0  1.0  1.0\n",
       " 0.0  0.0  1.0  1.0  1.0  0.0  0.0  1.0     1.0  1.0  1.0  1.0  1.0  1.0  1.0\n",
       " 0.0  0.0  1.0  1.0  1.0  0.0  0.0  1.0     1.0  1.0  1.0  1.0  1.0  1.0  1.0\n",
       " 0.0  0.0  1.0  1.0  1.0  1.0  0.0  1.0  …  1.0  1.0  1.0  1.0  1.0  1.0  1.0\n",
       " 0.0  0.0  1.0  1.0  1.0  1.0  0.0  1.0     1.0  1.0  1.0  1.0  1.0  1.0  1.0\n",
       " 0.0  0.0  1.0  1.0  1.0  1.0  1.0  1.0     1.0  1.0  1.0  1.0  1.0  1.0  1.0"
      ]
     },
     "execution_count": 16,
     "metadata": {},
     "output_type": "execute_result"
    }
   ],
   "source": [
    "A = (zb[end]-zb[1]) * (xb[end]-xb[1])\n",
    "V = A * yb[1]\n",
    "\n",
    "zₛ  = (H * V)/A"
   ]
  },
  {
   "cell_type": "markdown",
   "id": "62a5bfbe-7f67-49c7-b51a-2dd6b54f3589",
   "metadata": {},
   "source": [
    "### Make a plot of $z_{*}$ in the x versus buoyancy in the x\n",
    "\n",
    "### $z_{*}$ vs $B(x)$\n",
    "\n"
   ]
  },
  {
   "cell_type": "code",
   "execution_count": 18,
   "id": "a26777f0-81ef-4b41-88f6-013314dda01d",
   "metadata": {},
   "outputs": [
    {
     "data": {
      "image/png": "[encoded data removed]",
      "text/html": [
       "<img width=600 height=450 style='object-fit: contain; height: auto;' src=\"data:image/png;base64, iVBORw0KGgoAAAANSUhEUgAABLAAAAOECAIAAAA+D1+tAAAABmJLR0QA/wD/AP+gvaeTAAAgAElEQVR4nOzdbYykeVk/+quqH+exZ4ad3Znd3tk/ICwKLAcQBEEQ2Bhc0awiCecFvtIsqDkcYowhMQGN0aAJ0RCJ+JeQGHlhlHNcJYC6okCIiiwoCxJg8UB3z8zu7O50z0xPT1c/VJ0X1Q9310N31113Pdx1fz6vaquqq3/ZrUB/c/2u6yrVarUAAACgeMqDPgAAAACDIRACAAAUlEAIAABQUAIhAABAQQmEAAAABSUQAgAAFJRACAAAUFACIQAAQEEJhAAAAAUlEAIAABSUQAgAAFBQAiEAAEBBCYQAAAAFJRACAAAUlEAIAABQUAIhAABAQQmEAAAABSUQAgAAFJRACAAAUFACIQAAQEEJhAAAAAUlEAIAABSUQAgAAFBQAiEAAEBBCYQAAAAFJRACAAAUlEAIAABQUAIhAABAQQmEAAAABSUQAgAAFNT4oA8wFEql0qCPAAAA0EKtVuvdh6sQAgAAFJQK4a6eJm9G1ZUrV1ZXV2+//fbp6elBnwUYIlevXl1eXj5z5szx48cHfRZgiFy/fn1paenkyZOnTp0a9FnIgT7cZFQhBAAAKCiBEAAAoKAEQgAAgIISCAEAAApKIAQAACgogRAAAKCgBEIAAICCEggBAAAKSiAEAAAoKIEQAACgoARCAACAghIIAQAACkogBAAAKCiBEAAAoKAEQgAAgIISCAEAAApKIAQAACgogRAAAKCgBEIAAICCEggBAAAKSiAEAAAoKIEQAACgoARCAACAghIIAQAACqqvgXBxcfGFL3zhu971rnQ//q//+q8PPfTQa1/72pe97GUPPvjgRz/60Uqlku0JAQAAimO8n7/sE5/4xH//938/+9nPTvGzv/Zrv/bBD35w5x+/+tWvPvzww3/0R3/0d3/3d/fcc092ZwQAACiK/gXCp5566rd/+7fT/ezv//7v19Pg85///AcffPDcuXP/+I//+OlPf/qxxx776Z/+6S996UvT09OZHhYAAGD09fzKaLVa/fa3v/2Hf/iHr3zlK+fn51N8wpUrV37rt34rIl70ohd9+ctf/sAHPvCe97znU5/61Pve976IeOyxx/70T/8040MDAAAUQG8D4eOPP37kyJF77733Pe95z/e+9710H/LRj350ZWWlVCr99V//9YkTJ3aef//73/+qV70qIj70oQ9lcloAAIBC6W0gLJVK58+fv2fb1NRUig/55Cc/GRGvec1r7r333oaXfu7nfi4iHn/88e985zvdnxYAAKBQehsIn/vc534voV7Q60i1Wv3KV74SEa997WubX33LW95Sf/ClL32py6MCAAAUzbDvIZybm1tdXY2I5z//+c2v3nvvvePj4xGhQggAANCpvq6dSOGJJ56oPzh//nzzq+Vy+Y477rh48eLly5f3/5wnn3zywN+1ubmZ4oSFVdmo/t8P/3f98b23H/vWlZs7L/2fL73zdc8504cz/OO3n/5/HnuiD79oH7du3drc3Dxy5OmxsbHBngQYKpVKZX19fWrqysTExKDPAgyRtbW1tbW1iYmJdL1U9NTJ6fEP/NQLBn2Kfhv2QHjz5lbMOHr0aMs3HDlyJPm2ds6dO3fg77p48WKHpyu0lfXq//73ufrjV88e/9eF5Z2Xnnu8+typW304w//7lUv/+ytP9eEXAQAw8m47Ov5//R8nDn7faBn2QLi2tlZ/UL8a2qz+fP1a6T5uv/32fV69cuVKRKjwdKScqKfW9r40OT7Wn3+Zl29u9OG3AABQBKVSqYCJYNgD4U5hsFKptHxDPQrW64T72P/KaKlUioi77rorzRGLarmyEfFf9cfHjkxH7FYIzz7rTH/+ZT5d+f/qD37jjT/wnGe1riH32o0bN9bX10+cOOFWGJB08+bNSqVy7Ngxt8KApNXV1ZWVlenp6XbX3xigIxNjBUwEwx4IdxYPXr9+veUb6s8n9xPSH8mq4Fi5lHxpYqxPw4rmFrcupj706nuefWYw/6t65cqV1dXV22+/fXp6eiAHAIbT1atXl5eXz5w5c/z48UGfBRgi169fX1paOnny5KlTpwZ9FogY/imjz372s+sPFhYWml+9devW1atXk29jIGp774xOjJXavDFL65vVJ25UIqJcKt01I4wBAEDHhj0Qnj59+o477oiIr33ta82vPvbYY/UHP/iDP9jXY7E3BDb0EI6X+xEIL12vbFZrEXHHianJftUkAQBglOTgz+g3vvGNEfHZz362+aV/+qd/ioiJiYnXve51/T4WCbW9JcL+XBnduS964dQBHaQAAEBLOQiEb3vb2yLi8ccf/8xnPpN8vlKp/Nmf/VlEvPnNbz558uRgDkdENF0Z7U+FcH5pKxDefcp9UQAASGO4AuGP//iPnzt37ty5c089tbtc7sEHH3zxi18cEQ899NB3vvOd+pNra2vvfOc7/+d//qdUKv3mb/7mYI5bbLXERdGGK6P9qRAmAqEKIQAApDFcU0affvrp+n6Izc3dJXelUunjH//4j/7oj87Nzd17770vf/nLz549+4UvfGF5eTki3ve+973yla8c2ImJiKYro/2uEJ4WCAEAII3hqhC28+IXv/iLX/ziy172slqt9uUvf/nTn/708vLy6dOnP/zhD7/vfe8b9Olo1J8po3NLeggBAKArfa0Q/su//Mv+b/j617/e7qX77rvv0Ucf/drXvvaNb3zj1q1bFy5c+LEf+zHbfgdo3ymjrowCAEAODNeV0QPdd999991336BPQaNq45TR/lwZXa0/MFQGAADSyceVUYZQMgL2f8roytrmMzfXImJyrHzHCYViAABIQyAke32YMrpzX/SumelyqR8FSQAAGD0CIRlo6iHseULTQAgAAN0TCElpz1CZvYmwDxXC3RGjdk4AAEBaAiEZqPZ9D2FiooxACAAAKQmEZG+ir1dGjRgFAICUBEJSqiWqgo1TRnu/dkIPIQAAdE8gJAO1vWNlJnq/mH5uUQ8hAAB0SyAkpf32EPa+QrhwTQ8hAAB0SyAkA31eO3F1ZX25shERx6fGTx+Z6OnvAgCAESYQkoFkP+FYudTrTfEmygAAQCYEQlLas4cw8byt9AAAkBcCIRnrx1b6nYkyAiEAAHRBICQDyWphf5cQCoQAAJCeQEhKyVUTyceWEAIAQF4IhGSgWt193IclhPNLOzsnDJUBAID0BEJSatg9uKMPFcK5pZ2t9Ed7/bsAAGCECYRkIJkNe10hrNZql7a30s/OqBACAEB6AiEZSO4h7HWF8IkblbXNakTcdmzy6ORYT38XAACMNoGQlGptHvd6yqiJMgAAkBWBkAwk+wl7XSFMTJQRCAEAoCsCIRlIrp3odQ/h7lb60wIhAAB0RSAkpWTfYH8rhDtXRk2UAQCArgiEZKzXFUI9hAAAkBWBkAwkh8qMGyoDAAA5IRCSUjIEVquJHsIeXxnd7SEUCAEAoDsCIRkb7+WV0bXN6pXltYgYK5fOn5zq3S8CAIAiEAhJKTlIZs8ewl5WCBeWVqu1WkScPzE1MebbCwAAXfEnNRnYM2W0lz2Euw2Edk4AAEDXBEIysGcPYS8LdybKAABAhgRCUkpeE+1bhXBuyUQZAADIjEBIBvb2EKoQAgBAPgiEZKCWKBH2todwcbX+QCAEAIDuCYSklAyBfZsymqgQTvfutwAAQEEIhGRgbw9hD79Uuz2EpowCAEDXBEJS2rOHsJacMtqrCuFyZWPp1npETI2Xzx6zlR4AALolEJKB5JXR3vUQ7pQHZ2eOlHp4LxUAAIpCICRjvZsyOr+0NVHGfVEAAMiEQEhK/d9DaKIMAABkSyAkA3uujPash9ASQgAAyJZASAaqyaEyPZsyKhACAEC2BEJSSk4WTepdhXBu0c4JAADIkkBIBpLZcKIfPYQCIQAAZEAgJKU9Q2US/9S7xfQL17amjBoqAwAAmRAIycCeCmFvrow+fXNtZW0zIk5Mjc9MT/TiVwAAQNEIhGSgD4vpd+6LaiAEAICsCISklKwKJgfM9Ggx/e5EGQ2EAACQEYGQDPRhMb2JMgAAkDmBkIz1qEI4v7QzUUYgBACAbAiEpJScLJrsIezRUJlEhdCIUQAAyIZASAb6cGV0zlAZAADImkBISskQWO39UBk9hAAAkDmBkIz1okK4Wa1dvl6JiFIp7ppxZRQAALIhEJKBXvcQXr5RWd+sRsTZY1NHJsYy/3wAACgmgZCUkiEwuYdwvJz9l2p+0UQZAADInkBIBnpdITRRBgAAekEgJAO9njJqogwAAPSCQEhKyRBY6/GUUYEQAAB6QSAkA8kroyqEAACQFwIhKSWrgkm9qBDObQ+VuSAQAgBAdgRCMtD7HsLV+oO7DZUBAIDsCIRkoLqnhzDjQFjZqD51sxIR4+XSuRNT2X44AAAUmUBISrU2jzPfQzi/dKueN++cme5F+REAAApLICRjmVcITZQBAIAeEQjJQE97CE2UAQCAHhEISWnPHsLo4R7C3YkyAiEAAGRKICQDyXA4VurdldHpbD8ZAAAKTiAkS+PlUtZ5MBaubQXCWRVCAADIlEBISrVosZi+F1vpv7/dQ3iPJYQAAJApgZAs9WYrvSmjAADQEwIhKdVaFAiz3zlxfXXj+upGRByZGHvW0clsPxwAAApOICRLmW+ln0tMlMm8OxEAAApOICRLttIDAECOCISk1OrGaA+30guEAACQOYGQLPVgK/1WILxgxCgAAGRNICRLmVcIXRkFAIDeEQhJqdZqzGgPKoSr9QcCIQAAZE4gJEu9rBBOZ/vJAACAQEhKLYfKZDtltFaLBVdGAQCgZwRCspTtHsKnblZWN6oRcerIxImp8Qw/GQAACIGQbGVbIdzZOXFBeRAAAHpAICSlVjNlMu4hNFEGAAB6SiAkS9lOGd2dKHPaRBkAAMieQEiWsq4QmigDAAA9JBCSUssroxn3EC7pIQQAgB4SCMlStlNGVQgBAKCnBEJSqrXaRJhthXB+USAEAIAeEgjJUoZDZTaqtcs3KhFRKsVdM4bKAABA9gRCspThUJlL11Y3q7WIuOP41NS4LyoAAGTP39mk1OuhMrsTZU67LwoAAD0hEJKlDIfKmCgDAAC9JhCSpYnsrowKhAAA0GsCISm1ujEa49ldGZ1fWq0/EAgBAKBHBEKyNJHdldG5RT2EAADQWwIhKdVaTZXJtEK4c2XUzgkAAOgJgZAsZbh2Qg8hAAD0mkBIlrJaTL+ytvn0zbX6B95xfCqTzwQAABoIhKTUeqhMRhXChWtbE2Xumpkey67qCAAAJAmEZCmrxfRziyv1BxfcFwUAgJ4RCMlSVovpEzsnTJQBAIBeEQhJqdWQ0cwqhCbKAABAHwiEZCmrHkKBEAAA+kAgJKVaq7EyWU0ZnVuylR4AAHpOICRLKoQAAJAjAiFZyqpCuLA7VEYgBACAXhEISanlUJlMKoSLt9ZvVDYi4ujk2JmjE91/IAAA0JJASJYymTK6c1/UEkIAAOgpgZAsZbKHcG5RAyEAAPSDQEhKvdtDOG/EKAAA9IVASJYy6SGcN1EGAAD6QiAkS5kEwoXtCuHszHT3nwYAALQjEJJS7xbT20oPAAD9IRCSpYlMh8qYMgoAAD0lEJJS6z2EXQ+VqdZqF69t9RDOCoQAANBLAiFZmui6h/DJG5W1zWpEPOvY5LHJsSwOBQAAtCYQkqXuK4SJEaMmygAAQG8JhKTU6sZoBj2EO0sI7ZwAAIBeEwjJUvcVwt0RowIhAAD0mEBISi2HymRQIVxUIQQAgD4RCMlSFj2EAiEAAPSJQEiWup8ymhgqIxACAEBvCYSkVGs1VmZ8rNtv1G4P4WmBEAAAeksgJEtdVgjXN6tP3qhERLlUuvPkVEaHAgAAWhMIyUypFGPdBcKFa6vVWi0izp+cmui62AgAAOzP39yk1Dxl1BJCAADIF4GQzHQ/YnRhe6LM7Mx018cBAAAOIBCSmXKp20D4/cWV+oN7zhzt+jgAAMABBEJSap4x2vXKieTOCRVCAADoOYGQzHRfIdRDCAAA/SQQklKtaapMFhVCgRAAAPpHICQzpa4rhHOL21vpBUIAAOg9gZDMdFkhvLm2uXhrPSKmxsu3H7eVHgAAek4gJKVWQ2W6SoQ75cHZmSNd1xoBAICDCYRkpssQl2ggNGIUAAD6QSAkM11WCE2UAQCAPhMIyUyX9zwFQgAA6DOBkJSatk50XyHc2UovEAIAQD8IhKSU+R7Cue0K4YXTAiEAAPSDQEhmutxDuLAdCGcNlQEAgL4QCMnMWJdrJ7YD4T0qhAAA0BcCISk17yHsJg8+c3NtZW0zIk5Mjc9MT6T/IAAA4NAEQjLTTQ+hBkIAAOg/gZDMdDNl1M4JAADoP4GQlLJdO5HYOWGiDAAA9IlASGa66SFUIQQAgP4TCEmpeahMNxXCuUWBEAAA+k0gJDPdDJWZN1QGAAD6TiAkM4bKAABAvgiEpFRrmiqTOg9uVmuXrlfqnzA7Y6gMAAD0iUBIZlJXCJ+4UVnfrEbEbccmj0yMZXooAACgLYGQzKTuIXRfFAAABkIgJKXmKaOlSJkId0aMXhAIAQCgjwRCMlNO+21SIQQAgIEQCEmpaaZM+h7C+aXV+gOBEAAA+kkgJDNZ9BAaMQoAAP0jEJKZ9D2EttIDAMAgCISkVGsaK2PKKAAA5ItASGbS9RBWNqpXlisRMVYunT/pyigAAPSPQEhmyqlKhAvXbtXn09x5cno8dZERAADonEBISs1TRtOFOSNGAQBgUARCMpNu64QRowAAMCgCIZlJ10NoogwAAAyKQEhKrRbTp/mcuUU7JwAAYDAEQjKjQggAAPkiEJJSqz2EaQLhboVQIAQAgP4SCMlMuqEyC9e2pozOGioDAAD9JRCSmRQ9hDcqG0u31iNierx89thU9mcCAADaEwhJqdVQmY4T4c590btPHUlXYAQAAFITCMlMikBoogwAAAyQQEhmUpT45pbsnAAAgIERCMlMiiufC0smygAAwMAIhKTU1EIYY51PldmtELoyCgAAfScQklImQ2XmF/UQAgDAwAiEZCbFlVE9hAAAMEACIZkpd3hltFaLiztb6WcEQgAA6DeBkJRqTV2EnbYQPnWzcmt9MyJOHZk4OT2e1cEAAIBDEgjJTKc9hPPbI0Y1EAIAwEAIhGSm0x7CxFZ6OycAAGAABEJS6n7K6NyiiTIAADBIAiGZKXf4bUpUCAVCAAAYAIGQlJoX05c6vDQqEAIAwGAJhGSm0ymjhsoAAMBgCYRkpvMewpX6A0NlAABgIARCUqo1TZXpKBBuVmtP3KhERKlkKz0AAAyGQEhmOioQXrq+ulGtRcTtx6emxn0PAQBgAPwhTmY66iHc3TmhgRAAAAZEICSlLvcQGjEKAAADJxCSmQ4DoRGjAAAwYAIhg7FwbatCOGvEKAAADIhASErNi+nHOmki/P52D+E9p1UIAQBgMARCUmq1dqKDH9dDCAAAAycQkpmO1k4sbPcQzgqEAAAwIAIhKTVfGT38UJnVjepTNysRMTFWPn9iKtNzAQAAhyUQklLz2onDFwjnl27Vf/zOk1MddR4CAAAZEgjJzOErhLtb6U2UAQCAwREISambK6MmygAAwDAQCEmpecro4YfKCIQAADAMBEIyc/hmQIEQAACGgUBISt1cGd3tIRQIAQBgcARCMtPJldGtJYQqhAAAMEACISk1r504fIVw4drOldHpDI8EAAB0RCAkpeahMocMhEu31q+vbkTE0cmxZx2bzP5kAADA4QiEZOaQQ2VMlAEAgCEhEJJS81CZQ94YnVsyUQYAAIaCQEhmDnlldH7RRBkAABgKAiEppR4qk7gyaqIMAAAMkkBISrWmS6N6CAEAIF8EQjJTikMlwt0ewtMCIQAADJJASEotrowe7tukQggAAENCICSl5imjh+khrNXi4rWtoTKzM3oIAQBgkARCMnOYC6NPLlcqG9WIOHN04vjUeK+PBAAA7EMgJKVa053Rw1QI3RcFAIDhIRCSmcNMGZ1bNFEGAACGhUBISi16CA+RCFUIAQBgeAiEpNQ8ZfQwPYQCIQAADA+BkMwcrodwa8SoQAgAAAMnEJJSiz2EHfUQCoQAADBoAiGZ6XDKqCWEAAAwYAIhKdWaxsocmAfXN6tPLlciolwq3WkrPQAADJpASEqtrowekAgvXlvdrNYi4tyJqckx3z0AABgwf5STmQMDoYkyAAAwVARCUmreQ3jglVENhAAAMFQEQlKqNd0ZPXDK6Nx2ILxwWoUQAAAGTyAkMwdeGV3YDoSzrowCAMAQEAhJqfnK6IGBcLdCKBACAMAQEAjJTCc9hAIhAAAMnkBISinWTswt6iEEAIAhIhCSmf3j4Mra5tWV9YiYHCvffnyyP0cCAAD2IRCSUq2pi3D/KaNzuxNlpg+sJQIAAH0gEJJSiyuj+yZCDYQAADBsBEIys3/dTyAEAIBhIxCSUqu1E/u9f3eijEAIAADDQSAkpeYro6V9x8rML63WH6gQAgDAkBAIycz+FcLdK6Onp/txGgAA4CACISnVmkqEeggBACBfBEJSatFDuO+3aeHa1pVRPYQAADAkBEIys08P4dWV9eXKRkQcnxo/dWSij4cCAADaEghJqcUewvY3Ro0YBQCAISQQkpl9eggTDYQmygAAwLAQCEmp1tRFuM9MGRNlAABgCAmEpNTqyuhhKoQCIQAADAuBkMzs10O4HQgvnBYIAQBgWAiEpNRi7YQKIQAA5IpASGb27SHcWkIoEAIAwPAQCEmp1tRE2K5CWK3VLm1vpZ+dMWUUAACGhUBISoe/MvrEjcraZjUibjs2eXRyrMfnAgAADksgJDPthsrsbqU3UQYAAIaJQEhKzWsn2vUQmigDAADDSSAkpcPvITRRBgAAhpNASGbaB8KdCqGJMgAAMEQEQlKqNY2Vabd1YreHUIUQAACGiUBIZsptpsroIQQAgOEkEJJSqx7C1u8UCAEAYDgJhKR0yD2Ea5vVK8trETFWLt1pKz0AAAwTgZDMtCwQLiytVmu1iDh/Ymq8XQ0RAAAYBIGQlGpNd0ZbVgjndu6L2koPAABDRiAkMy3rfzsNhEaMAgDAsBEISalFD2GrRGiiDAAADC2BkMy0bBAUCAEAYGgJhKTUau1Eqwrh4mr9gUAIAADDRiAkpVrTpdGWPYQ7Q2UuGCoDAABDRiAkM6WWFcLdK6OWEAIAwHARCEmp1ZXRxmeWKxtLt9YjYmq8fPbYVF/OBQAAHJZASGaaewjnEhNlWpUPAQCAQRIISekwFcL5JRNlAABgeAmEpNS8h7C5h3BucaX+wEQZAAAYQgIhmdm3QmiiDAAADB2BkJRqTXdGm3sIbaUHAIBhJhCSjZYzYwRCAAAYZgIhKTXUB5vLgxExt7i9lV4gBACA4SMQklLDjdHmQFirxcI1U0YBAGB4CYRko7k++PTNtVvrmxFxcnr85PR4/48EAADsTyAkpdreS6OtRoy6LwoAAENNICSlxiujTYnQRBkAABhyAiHZaO4hnNupENpKDwAAQ0kgJKWGKaPNPYQqhAAAMOQEQrLRaiu9EaMAADDUBEJSqtUOO1Tm7lPT/TkSAADQEYGQlBqGyjTvpd/dSq+HEAAAhpJASDYaroxuVmuXr69GRKkUd80IhAAAMIwEQlJqGCrTEAgvXV/dqNYi4vbjU9PjvmYAADCM/KVONhp6CI0YBQCA4ScQklJTD+GeRJgYMWqiDAAADCmBkJRqsd+U0d2JMqeO9u1IAABARwRCslFurBDaOQEAAMNOICSlhiujeggBACB3BEJSapgy2tRDKBACAMCwEwjJRmMP4ZKt9AAAMOwEQlKq1RqGyuwmwtWN6tM31yJivFw6d2Kq3ycDAAAORyAkG8kC4fzSrXpavGtmeqyhdAgAAAwNgZCUGnoIy4ngp4EQAAByQSAkpX2mjM4vCoQAAJADAiHZSPYQzqkQAgBAHgiEpFTbe2m0oYew/sBWegAAGGYCIdlIVgjnl1brD+ycAACAYSYQklJjD2Hiq2SoDAAA5IJASEoNgbAUpowCAEDOCIRkY2fK6LXV9eurGxFxdHLstmOTgzwTAACwL4GQlBqGyuz0EO40EM7OmCgDAABDTSAkpaY9hFuBcG57CeGF00f7fCQAAKAjAiHZ2BkyaucEAADkhUBISnsLhMkroybKAABAPgiEZKPcokIoEAIAwFATCEnp4B5CgRAAAIabQEhKDVNGEz2EW1NGVQgBAGDICYRko14hrNXi4rWtCuGsoTIAADDcBEJSaroyGhFxZbmyulGNiNNHJk5MjQ/iXAAAwGEJhGSjVCqFiTIAAJArAiEpNa2diIiYW9rZSi8QAgDAsBMISam2985oWYUQAADyRiAkG/UKYWLEqIkyAAAw7ARCUmoYKlMKFUIAAMgZgZCUGnsIyxHJrfR6CAEAYOgJhGRDDyEAAOSOQEhKTUNlYn2z+sSNSkSUS6W7ZvQQAgDAsBMIyUYpSpeuVzartYi448TU5JivFgAADDt/tZNS8x7CxH1R5UEAAMgBgZCUGqaMlsul3YkyGggBACAPBEKyUYpYuLYVCGcFQgAAyAOBkJSaroyW7JwAAIB8EQjJRrkU80ur9cd2TgAAQC4IhKTUtHaiNLe0Un+shxAAAHJBICSlhiujpT0VQlNGAQAgBwRCsrG6Ub26shYRE2PlO05MDfo4AADAwQRCUmpYO7GwtFp/ZnZmulwqDeRIAABARwRCUmroIbx4bWcrvQZCAADIB4GQbFy+Xqk/0EAIAAB5IRCSUsNQmbXNav3BhdNH+38YAAAgBYGQjKkQAgBAXgiEpNQwVGaHHkIAAMgLgZCUao2XRrcIhAAAkBcCIRm7cFogBACAfBAISanaqkB4bHLs9JGJvp8FAABIQyAkpY3NFolQeRAAAHJEICSl9Wq1+UkNhAAAkCMCISm1rBAKhAAAkCMCISmpEAIAQO9E7XIAACAASURBVN6N9+fXPPbYY5/5zGcuXbp08uTJl770pQ888MDk5OThf/yZZ565fPlyu1ePHDny3Oc+N4tj0oH1lj2EAiEAAORHzwPh0tLSL/7iL37iE59IPjk7O/vxj3/8da973SE/5IMf/ODv/u7vtnv1JS95yX/+5392dUo6t9FqzOjdp6b7fxIAACCd3l4ZXV9ff/DBB+tp8OzZs29961tf/OIXR8TCwsKb3/zmRx999JCf853vfKeHpySV9U1XRgEAIN96WyH8yEc+8rnPfS4i3vnOd374wx8ulUoR8bnPfe4nfuInbt269Uu/9Etf+cpXDvM59UD4jne84xd+4ReaXz1x4kSmp+ZQ2lQIBUIAAMiNHgbCWq32B3/wBxHx6le/+kMf+lA9DUbE61//+g9+8IO/+qu/+tWvfvWRRx65//77D/yo7373uxFx//33H+bN9EdzhfBZxyaPTo4N5DAAAEAKPbwy+tWvfnVubi4i3v3ud4+P70me73jHOyYmJiLi4YcfPvBznnzyyRs3bkTE85///N6clDSaK4QmygAAQL70MBB+/vOfrz944xvf2PDSyZMnX//61yffs4/HH3+8/uDee+/N9IB0pXnKqPuiAACQLz28Mvqtb30rIu64446zZ882v/rKV77ykUceefzxx2u12s5t0pbqDYRnz54tl8u/93u/9+ijjz7xxBPPe97z7rvvvre97W2zs7M9Oj/7a64QGjEKAAD50sNAOD8/HxHtAlv9+ZWVlaeffrplYtxRD4Rra2vPec5zrl69Wn/yi1/8YkS8//3v/8AHPvDQQw/tHynphY2mxfSzKoQAAJArPQyEy8vLEXH8+PGWr+48f+PGjf0DYf3K6LVr16ampt761re+4hWvGB8f/6//+q+//Mu/vH79+rve9a7Nzc1f+ZVf2f8wh0mM9Y5HDmltfbPhmWObKwX8d/jMM89UKpVKpTI1NTXoswBDZGlpaWVl5ebNm8eOHRv0WYAhsry8fH3boM8CET0NhLdu3YqIdn8l7zy/srKy/+fUK4Tnzp37h3/4h/oaw7rf+I3feMtb3vK9733vve9978/8zM/cfffd2Zybw1lvujJ654mJgZwEAABIp4eBcHp6OiLW1tZavlqpVOoPJicn9/+cj370o5VK5Z577jl//nzy+Re+8IV//Md//FM/9VM3btz4i7/4i/e+9737fEit1mJp3o56/fDChQv7n4SkzdpjDc/88L3/68Lpwt0anZ6eXl1dvf322+tfeIC648ePLy8vnzlzpt1NGaCYrl+/vrS0dPLkyVOnTg36LBDR00BYvyRz8+bNlq/uFAYP/H/Kl770pe1eeuCBB+68885Lly499lhjOKHXGobKlEulO0+6MwkAAHnSw7UTd911V0RcunSp5asXL16MiPHx8f0bCA/0ghe8ICK++c1vdvMhdKpaq23uDYTnT05NjPXw6wQAAGSuh3/B19cGXr58ub5WvsG3v/3tiPiBH/iB+ob61MrlckQ03Cal11pspS/eZVEAAMi7HgbC17zmNRFRrVbrKyKSarVa/cn6e/bxiU984gUveMEP/dAPPfnkky3fUK8NvuhFL8rgxByarfQAADACehgIf+RHfuTcuXMR8bGPfazhpUceeWRhYSEifvZnf3b/D3nd61733e9+95vf/Oaf/MmfNL/68MMP16+evvrVr87m0BxO8xJCgRAAAHKnh4GwXC6/5z3viYi/+qu/+tSnPrXz/OLi4rvf/e6IeOELX/iTP/mTyR/59V//9be//e1vf/vbr127Vn/m7Nmz9ff8zu/8zt/8zd8k3/yFL3zhl3/5lyPiDW94w4HBkmxtNFUI75oxYxMAAHKmtP8+hi6trq6+9rWvffTRRycmJh544IE3vOEN3/rWt/72b//24sWLk5OTn/3sZxuujL7oRS/6xje+ERGXL1+uVxfrj3/4h3+4PpzmNa95zctf/vLNzc2vf/3rn//852u12szMzH/8x38873nP6+ac9bUTPf1XMWKeuFE5//5/SD7z4be++F0/+r8GdJxBunLlirUTQLOrV69aOwE0s3aCjvQhp/Rw7URETE9Pf/KTn3z729/+uc997uGHH3744Yfrz992221//ud/fmADYd358+c/9alPPfTQQ//+7//+xS9+MdmR+MADD3zkIx+ZnZ3tyelpb32z8cpouVQayEkAAIDUehsII+LcuXP//M///NnPfvbv//7vL126dPLkyZe//OU///M/PzMz0/zmj33sY/W9hWfOnEk+/5KXvOTf/u3fHnnkkS996Uvf+973xsbG7rvvvpe+9KWvetWren1+WmqeMlqWBwEAIG96HggjolQqvelNb3rTm9504Dtf8YpX7PPq/ffff//992d3LtJrnjKqQggAALljkzhpNE8ZlQcBACB3BELSUCEEAIARIBCSRqseQoEQAAByRiAkjVZTRgdyEAAAID2BkDSaK4QlFUIAAMgbgZA0VAgBAGAECISkoYcQAABGgEBIGs1TRsVBAADIHYGQNJr3EJbdGQUAgLwRCEmj1R7CgRwEAABITyAkDT2EAAAwAgRC0mieMioOAgBA7giEpKFCCAAAI0AgJI1Wi+kHchAAACA9gZA0Wi2mlwgBACBnBELSMGUUAABGgEBIGnoIAQBgBAiEpNHqyuhADgIAAKQnEJJG85XRkgohAADkjUBIGhtVFUIAAMg9gZA09BACAMAIEAhJY7my2fCMPAgAALkjEJLG3NJKwzMqhAAAkDsCIWksLK02PKOHEAAAckcgJI3vL95qeEaFEAAAckcgpGOVjepTNysNT8qDAACQOwIhHZtfulVrHDKqQggAAPkjENKx+aXG+6IhEAIAQA4JhHRsvmmiTBgqAwAAOSQQ0rG5pokyEVEKiRAAAHJGIKRjra+M+ioBAEDe+CuejukhBACA0SAQ0rE2gbD/BwEAALoiENKxuVaBUA8hAADkjkBIZ25UNq6vbjQ/r0IIAAC5IxDSme+3GjEaEWWJEAAA8kYgpDMtGwgjXBgFAID8EQjpTLtAaMooAADkjkBIZ9oHwj4fBAAA6JZASGcWllZbPl9SIQQAgLwRCOnMXLuhMvIgAADkjUBIZ/QQAgDAyBAI6UCtFgvX2l0Z7fNZAACAbgmEdOCpm5Vb65stXxqTCAEAIG8EQjow32aiTKgQAgBADgmEdKDdRJnQQwgAADkkENKBdhNlQiAEAIAcEgjpwD6BUB4EAIDcEQjpwL4Vwn4eBAAAyIBASAfmXBkFAIARIhDSgXlDZQAAYIQIhBzWRrX2xI1Ku1fFQQAAyB2BkMO6fH11o1qLiPFW/YIKhAAAkDsCIYe1s4Tw3Imp5lfHTJUBAIC8EQg5rJ2JMudPTje/qocQAAByRyDksOb3DYTiIAAA5I5AyGHNL63WH7S8MqpCCAAAuSMQcliJCmGLQCgPAgBA7giEHFZiqEzjlVHlQQAAyCOBkMPap0JowigAAOSRQMih3FrffGZlLSImxsrPOjbZ8KoKIQAA5JFAyKHML63WahERd81MV+uPEuRBAADII4GQQ9m5L3r3qemNamMgVCEEAIA8Egg5lJ2JMhdOHVnfbA6EfT8QAADQNYGQQ0lUCI9sVKsNr5ZUCAEAIIcEQg4lGQhVCAEAYDQIhBzK3gqhHkIAABgFAiGHMrcdCC+cPrK+2XhlVIUQAADySCDkUBaWVusPWlYI9RACAEAeCYQcbPHW+o3KRkQcnRw7c3RChRAAAEaDQMjBdhoIL5w6EhF6CAEAYDQIhBwsOVEmIlpNGRUIAQAgfwRCDra7lf50vULYtIew3ycCAAAyIBBysPnERJloXSHs95EAAIDuCYQcLHFldDpa9hBKhAAAkEMCIQdr6iF0ZRQAAEaBQMjBdnsITRkFAIARIhBygFotLl3f6iG8a2Y6IjZMGQUAgJEgEHKAJ26sVjaqEXHm6MTxqfGIWG+aMqqFEAAA8kgg5AA7I0brOyeiVYVQgRAAAPJIIOQADRNlImJdDyEAAIwEgZADNAfC5sX0AiEAAOSRQMgBWlQILaYHAICRIBBygIadE9Fq7URJhRAAAHJIIOQAO0NlEhVCU0YBAGAUCIQcIHFldLr+wGJ6AAAYDQIh+1nfrD5xoxIR5VLpzpnpnScb3iYPAgBAHgmE7OfitdVqrRYR505MTY5tfVtUCAEAYDQIhOxnbvu+6M5W+jBlFAAARoVAyH6aJ8qECiEAAIwKgZD9NE+UCT2EAAAwKgRC9tO8lT5UCAEAYFQIhOxndyv9nh5CewgBAGAUCITs55AVwlJIhAAAkD8CIftpGQhNGQUAgNEgENLWzbXNqyvrETE5Vr79+OTO862ujEqEAACQPwIhbe2UB2dPTScjX4uhMkqEAACQQwIhbe1OlEncF42Wayf6dCIAACBLAiFttWwgjNZrJ/p0JAAAIEMCIW21C4SthspIhAAAkD8CIW3NL63WHzRVCA2VAQCAUSAQ0tbcUout9NGqQigPAgBAHgmEtJW4MjqdfL5VD6FECAAA+SMQ0tZC2x7C5iujfToSAACQIYGQ1p65uXZzbTMiTkyNnzoykXxps+bKKAAAjAKBkNbaT5SpNeVBV0YBACCXBEJam1taqT9omijTeF80BEIAAMgngZDWEhXCAybKhB5CAADIJ4GQ1g6/lT4iSiqEAACQQwIhrbULhM1b6UOFEAAA8kkgpLW5xcNupQ89hAAAkE8CIa21rxDqIQQAgBEhENLCZrV26XolIkqlmJ3ZM1Sm5ZRRPYQAAJBHAiEtPHGjUg9+tx2bPDIxlnxJhRAAAEaGQEgL7e6Lhj2EAAAwQgRCWtiZKNMcCFtWCMVBAADII4GQFnYqhBdaVAhNGQUAgBEhENLC/NJq/UGrCmGrK6O+RwAAkEP+kKeFRA/hdMNLKoQAADAyBEJa2GeojB5CAAAYGQIhLczt9BCeNmUUAABGlkBIo8pG9cpyJSLGyqXzJxuvjLbZQygQAgBA/giENFq4dqtWi4i48+T0eNPK+ZY9hPIgAADkkUBIo31GjEa7KaMCIQAA5JBASKN9RoyGKaMAADBCBEIazS22nSgTeggBAGCECIQ02mfnRLSZMioPAgBAHgmENNo/EKoQAgDAyBAIabT/UJk2ewh7eyQAAKAXBEIa7fYQqhACAMBIEwjZ40Zl49rqekRMj5dvOzbZ/AZ7CAEAYGQIhOyxUx68+9SRljGv5R5CeRAAAPJIIGSP/SfKhD2EAAAwQgRC9tgNhK2WEIYeQgAAGCECIXvsjBhtOVEm7CEEAIARIhCyx9zuldHplm9oUyHs4ZEAAIAeEQjZY35RDyEAABSFQMgeBw6VaTllVCAEAIA8EgjZVavFwrWtHsKOKoTyIAAA5JFAyK6nb67dWt+MiJnpiZPT4y3fY8ooAACMDIGQXTsTZS602TkRbaaMGioDAAB5JBCya/6gEaOhQggAACNEIGTXgRNlwh5CAAAYIQIhuw4TCFUIAQBgZAiE7JpbPEwPocX0AAAwIgRCds0vHbBzItrsISyFRAgAAPkjELLrMENlWlcIfY8AACCH/CHPls1q7fL11YgolWJ2Rg8hAACMPoGQLZeur9bD3u3Hp6bG234x1ltdGdVDCAAAeSQQsmV3okz7BsKI2Gh1ZVQPIQAA5JFAyJaFa1sTZWbbNxBG2yujPTkSAADQUwIhWxIVwqP7vK3lYvqyRAgAADkkELLlMCNGI2K9VYVQHAQAgDwSCNkytxsIO+4hNGUUAADySCBky06F8MLp/QKhKaMAADAyBEK2zKsQAgBAwQiERESsblSfvrkWEePl0rkTU/u8s+WUUXkQAADySCAkImJ+6VatFhFx18z02L4XQFtPGZUIAQAghwRCIg59XzTaTBkVCAEAII8EQiKSSwj3nSgTERutK4TZHwkAAOg1gZCIriuECoQAAJBHAiERhw6EtVpsujIKAACjQiAkImJ+abX+4O5T0/u8baPVEsIQCAEAIJ8EQiKSPYSnju7ztvVWSwjDlVEAAMgngZCIiIVrO1dG968Qtg6EKoQAAJBHAiGxdGv9+upGRBydHHvWscl93tlyCWGYMgoAAPkkEBIL17YaCGdn9isPRvsKoTwIAAB5JBCSXEK4XwNhtNk5ERFlJUIAAMghgZDkRJk0W+lDDyEAAOSTQEhyCeEBV0bbVgjlQQAAyCGBkN0Ro7MHVwi3AmFDRbCkixAAAHJIIKSDK6Pr24vpx/YmQhVCAADII4GQmFvaGSpz2ArheLkhEEqEAACQPwJh0dVqcfHQayd2KoTjY3u+OWXfIwAAyCF/yBfdk8uVykY1Is4cnTg+Nb7/m9fbVAj1EAIAQB4JhEWXGDF6wH3RSCymb7oymvm5AACAnhMIi66jQLi+vYdQDyEAAIwAgbDodkeMHjRRJvarEAqEAACQPwJh0aWsEO4dKiMPAgBAHgmERTe/tDViVA8hAAAUjUBYdIkK4QE7J6L9lFFXRgEAII8EwqLb7SHsqkIoEAIAQP4IhIW2vll9crkSEeVS6c6DttLHnh7CvXsI5UEAAMghgbDQLl5b3azWIuLcianJsYO/DIkK4Z43qxACAEAeCYSF1tFEmUhUCMdKhsoAAEDuCYSF1tFEmUhWCF0ZBQCA/BMIC21uqYOt9GHKKAAAjBaBsNA62kofERvV7aEyAiEAAOSfQFhonQbC9hXCbM8FAAD0g0BYaJ1XCFtPGS2pEAIAQA4JhIW2s5X+0ENlWu8hVCEEAIA8EgiLa2Vt8+rKekRMjpXvODF1mB8xVAYAAEaJQFhcO/dF75qZPmSi27kyOrY3EIqDAACQRwJhcXW6cyISi+lVCAEAYAQIhMXV6USZ2DNURg8hAADknkBYXPNLq/UHhw+EiQrhnm9OWSIEAIAcEgiLK1EhPNSI0WhfIRQHAQAgjwTC4trZOdFJD+F2IGxcOyESAgBA/giExaWHEAAACk4gLK6Fa930EKoQAgBA7gmEBXV1ZX25shERx6fGTx+ZOORPtd1DKA8CAEAOCYQFlWKiTOwzZVQiBACAHBIIC2p3osyh74uGHkIAABgtAmFBpZgoE8kpo41XRiVCAADIH4GwoNIFwo3q9pXRxrUTWZ0LAADoH4GwoLqsEI6VTBkFAIDcEwgLam6p46300aaHUBgEAICcEggLan6p4yWEkZwymrgyqjwIAAA5JRAWUbVWu7S9lX52poO1E4kK4e43RyAEAICcEgiL6IkblbXNakTcdmzy6OTY4X8wsYcwWSHM9nQAAECfCIRFlG6iTLTrIczqWAAAQH8JhEW0u5W+k4ky0WYPYVmJEAAA8kkgLKJ0E2Viz1AZPYQAAJB7AmERJa6MdjBRJlwZBQCA0SIQFlHqHsLWV0ZVCAEAIJ8EwiLa7SHseKiMKaMAADA6BMIiyqBCOGaoDAAA5J5AWDhrm9Ury2sRMVYunT851dHPtlxMLw4CAEBOCYSFs7C0Wq3VIuL8iamJsQ6+ANVarf6D5dKerkE9hAAAkFMCYeHs3hdNu4RwYqxUSzzvxigAAOSUQFg4c0upJ8q0GDEaESUVQgAAyCeBsHC6mCizNWJ0Yqxcq+3WCFUIAQAgpwTCwkkdCJMVwr1XRiVCAADIJYGwcOYXV+sPuqkQJp9XIQQAgJwSCAtnt4eww6EyeyqEiRKhHkIAAMgpgbBwEldGpzv6weSU0eTzKoQAAJBTAmGxLFc2lm6tR8TUePnssdRb6Uu1SA6VkQgBACCXBMJimUtMlOk0x+2dMrr7vAohAADklEBYLPNLKSfKhD2EAAAwcgTCYkndQBgqhAAAMHIEwmKZTztiNNpXCPUQAgBATgmExTK3mHIrfeydMpocKiMOAgBATgmExZK4MpqiQrh1ZXS83HBlVCQEAIBcEgiLpZtA2HYPoS8RAADkk7/li2Xh2taU0QvdTRlNFAhVCAEAIK8EwgJ5+ubaytpmRJyYGj85Pd7pj7ebMioOAgBATgmEBbIzUeaezkeMhimjAAAwcgTCAummgTAaKoSJKaMCIQAA5JRAWCBdBsK2FUJfIgAAyCd/yxfI/NLWRJm0FcLEHsI9PYQqhAAAkEsCYYHMbVcIL6TsIdzZQ9gwZbTbgwEAAAMhEBZI4srodIofT1QI93xt9BACAEBOCYQFkmEPYS1xZ1QeBACAnBIIi2KzWrt0bTUiSqWY7XrKaPJ5FUIAAMgpgbAoLt+o1Et8Z49NTY+n+e++t0K4+7weQgAAyCmBsCjmFlfqD9JNlImGKaOJ51UIAQAgpwTCokjsnEgzUSb2TBnd87WRBwEAIKcEwqLocqJMtB8qo0IIAAA5JRAWRfeBsP2V0a4OBgAADIpAWBQ7gXB2JusroyERAgBALgmERTG3uBUI7zl9NN0n7KkQJqeM+hIBAEA++Vu+KHaHyqSeMrpdIZwol00ZBQCAESAQFkJlo/rUzUpEjJdL509MpfuQje0K4fhYw1CZ7g8IAAAMgEBYCPNLt+oJ7s6Z6bG0AW59e8roxN5P0EMIAAA5JRAWwtz2RJkLaUeMRsTG5vZQmbGyKaMAADACBMJCmF/sdudE7K0Q7h0qIxECAEAuCYSFsDtRpqsKYbseQoEQAABySSAshMRW+pRLCKP9lFFxEAAAckogLITdHsK0OyeisUK4+7wbowAAkFMCYSEkKoTZ9BAmn3dlFAAAckogLIRMAuHeKaO7JUJ5EAAAckogHH3XVtevr25ExJGJsWcdnUz9OW2njEqEAACQTwLh6EuMGJ3uJrvt6SFMPC8QAgBATgmEoy+T+6LRMGV0z9qJbj4VAAAYGIFw9M0tZjBiNPZWCJPPKxACAEBOCYSjrycVwsTzrowCAEBOCYSjL6tA2H4PoUAIAAC5JBCOvsRQmS4rhO2mjHbzqQAAwMAIhKNvt4ew2wphuz2EEiEAAOSSQDjiarW4eG0rEM6emu7mo5IVwuTzKoQAAJBTAuGIu7JcWd2oRsTpIxMnpsa7+aiN7UA4bjE9AACMBIFwxGU1USYi1revjE6M7ZkyKg4CAEBOCYQjLquJMtFYIUwspndnFAAA8kkgHHFzSyv1B11upY+I9e21ExNjpb17CLv8YAAAYDAEwhGXqBB2NVEmIja2F9OPl/d8bfQQAgBATgmEIy6rHsLN6tYt0bFyqVSK5FAZcRAAAHJKIBxxWQXChp0TyT2EKoQAAJBTAuGI291K310PYXIrfcSeCmHZlwgAAPLJ3/KjbKNae+JGJSLKpdJdM1lupd+7dkKFEAAAckkgHGUXr61uVmsRcceJqcmxrv5bb2yPGB0fa4x/powCAEBOCYSjLNFA2O2I0fXtEaMT5cYroyU9hAAAkE8C4SjLaqJMNFUI9yymlwcBACCfBMJRtjtRputA2FghTLxkyigAAOSUQDjKdiuE3Y0YjRYVwt2X5EEAAMgpgXCUzS+t1h90f2W0YcpokgohAADklEA4yjIcKtNYIQw9hAAAkHsC4SibW+pZD2FyMb0KIQAA5JNAOLJW1jafubkWERNj5TtOTHX5aTsVwomxxqEy4iAAAOSUQDiydu6Lzs5Md1/E26kQjpeb1k64MwoAAPkkEI6sDJcQRsTGzlCZseahMt1/PAAAMAAC4chKjBjtdqJMRKzvDJWpVwgTL5VcGgUAgHwSCEfW7kSZ00e7/7T1ze2hMmPNQ2W6//j/v727DY6quuM4/t88EQou4SHBMckqlUdBAaNQkYGmfQGNPAiFASd1aEsZwNIyDFJa7PRhqjNMwXYsIiAwKA6lIHaMbRUsMNoikioNUWkEAmrCBhJiCFmyWZLs3r44cnOzu9k8cDebvff7edHZnns4916HPdzfnnPPAQAAABADBELLMnHPCTFMGb35DmHLIVYZBQAAAOIUgdCyzH2HMHiEsNU+hARCAAAAIC4RCC0rSovKhI4QkgcBAACAOEUgtCx9URlXf1NGCFllFAAAALAaAqE1XW1oun6jWUT6pCT275186w02t+xDGLwxPVNGAQAAgDhFILSmsqtmzheVkBHCVhvTEwgBAACA+EQgtKbylj0nzAmEwe8QGg6RBwEAAIA4RSC0JnNXlJGQVUaNGCEEAAAA4hSB0Jr0FWXMCoQR9yE05QwAAAAAuhuB0JrM3ZVeIu5D6GCEEAAAAIhPBEJr0heVcTFCCAAAAKANBEJrMv0dwoiBkEQIAAAAxCUCoQUFNM197at3CLOis+2EESOEAAAAQJwiEFpQpedGoz8gIgP7pPRJSTSlzQgb0/MOIQAAABCnCIQWZFhi1JwVZaSdjenNOgkAAACAbkUgtKAyfVf6tK+Z1WaEjel5hxAAAACIUwRCCzJ9zwkJ3XaCVUYBAACA+EcgtKDyqyYvMSohI4RGDiERAgAAAHGJQGhBpu85IRE3pk/gLxEAAAAQn3iWt6CWdwj7R2uEkH0IAQAAAAsgEFqQYZVRE0cIW68yajhEHAQAAADiFIHQahr9gUrPDRFJTHDc4exlVrPB+xC22naCSAgAAADEJQKh1biv+QKaJiK339ZLve9niqARQiNWGQUAAADiFIHQaqKxooxEfoeQRAgAAADEJwKh1ZRdNX9FGQmzymgL4iAAAAAQpwiEVhODEULeIQQAAADiE4HQagxLjKaa2GzIKqMsKgMAAADEPQKh1URthLDVKqNG5EEAAAAgThEIrablHUJTA2HwCGGrKaMmngcAAABA9yEQWk03vUNoOMSUUQAAACBOEQgt5fqN5qsNTSLSKykho69pu9JL6CqjbEwPAAAAxD8CoaXoK8pk9ettbkzTRwhvLirTgjwIAAAAxCkCoaUY5ouaucSoGEYIQxeVYYQQAAAAiFMEQkspq43KrvQSOkLIojIAAABA/CMQWkqUVpQRwyqjNxeV4R1CAAAAIO4RCC0leoFQ34fw5qIyLYfIgwAAAECcIhBair6oTNRHCFtNGSURAgAAAHGJHzyPrgAAFf5JREFUQGgpZVe96oPp7xAGbzvRasqouacCAAAA0E0IhJZy8Zo+QmjyKqNBG9MbOYRECAAAAMQlAqF1VNc3ehv9InJbr6R+qckmtqxp4tc0EXE4JNHBKqMAAACARRAIraM8intOBFQCTEr46oVB48b0CSRCAAAAID4RCK0jmkuMBs8XZYQQAAAAsAACoXWUXdUDockvEOpLjKpd6aX1ojK8QwgAAADEKQKhdURvz4kIK8oII4QAAABA3CIQWkfLO4Tmb0LYas8JYR9CAAAAwBKSuuc0H3/88cGDBysqKpxO5/jx4/Py8lJSUjrbiNfrLSgoOH36tNfrdblcM2bMGDp0aDSuNk61vENo/qIyIe8QGo6yqAwAAAAQp6IeCGtra3/0ox+99tprxsKsrKw9e/ZMmTKl4+28/vrrixcvrqmp0UtWrVq1ZMmSP/3pT6mpJr8yF6eit6hMuBFC4zuEAAAAAOJSdKeMNjU1PfrooyoNpqenf/e737333ntF5OLFi9OnTz958mQH2zl06NC8efNqamoSEhImTJgwa9Ysp9MpItu3b1+0aFH0rj+O+ANaRd0NEXE4JKtf1HelZ5VRAAAAwAKiGwi3bdv27rvvisiyZcsqKysPHDjw0UcfvfPOOykpKQ0NDUuWLOlIIzdu3Fi8eLHf709LS/vkk08KCwsLCgqqq6tnzJghIvv37y8oKIjqXcSFy54bahxvUJ+U3smJ5jYeusqoEe8QAgAAAHEqioFQ07QNGzaIyEMPPbRp0ybHzdgwderUP/zhDyJSVFR0+PDhdtvZs2eP2+1WH0aNGqUKk5OT9+7dO2TIEBFRZ7E5fc8J01eUEZHmwFdTRpMSbk4ZNRwlDwIAAABxKoqBsKioqKysTERWrlyZlNTqZcXHH388OTlZRDoyuPf666+LyMiRI/Py8ozlffv2nT9/voi8//77V65cMfHK41H0XiCUsPsQGuaMMkIIAAAAxKkoBsJ//etf6sO3vvWtoENOp3Pq1KnGOhH8+9//FpFvf/vboYdmzZolIoFA4NixY7d4tfEuqoGwnVVGCYQAAABAfIpiIDxz5oyIDB48OD09PfTohAkTRKS0tNQ41hSqsrKytrZWRMaMGRN69MEHH1QzUc+ePWvKNcev6O1KL+3vQ2j6CQEAAAB0hyhuO1FeXi4iWVlZYY+qcq/XW11dHTYxGhtpq52UlJT09PSqqio1N9ViXjl5saHJ38HKxz//akOOkirPiye+MPdKzl2pVx/UCOHnNd7zX9brRxkgBAAAAOJUFAPh9evXRaRv375hj+rlHo8nQiBUjURup6qqyuPxRL6YwYMHt3vBaumanmN1wSdX6ps6+6d2/ad813/Ko3E9IuJvanS73UdKr/2nrFYvvHzp0vUUk9c1jSPV1dU3btxobm7u1atXrK8FQA9SW1tbX1/v8/n69OkT62sB0IN4PJ66urr6+vr6+vr2awPRF8VA2NDQICJtPSXr5V6vt91G2m0nciMiUlVVFbmCiPj9HR2O6x6RJ9PGRFKCw+/3B24uOqoE/D3tv1y3CgQCgUDA77f3fwUAIVRvSecAIAhPDuhpohgIU1NTRaSxsTHs0Rs3bqgPKSkp7TbSbjuRGxGRy5cvRzh6++23i0hmZmbkRrrZogc9db7mWF9FK2Nu75uZmZnjcC6Z2NKF3eXKSkmM7oaWPVlycrLP58vIyND/rgKAiPTu3fv69esDBgxoa4YLAHuqq6vr3bu30+lMS0uL9bUAIlENhGqSTFuj4fqYXuR/KfWZNpHbafef245MGU1M7FnzHjfOGh3rSwjv/uy0F7Ppwr6SaBDrawHQg9A5AAiLzgE9TRQHdtSAW0VFRdij6oW9pKSkCC8QimHULmw7zc3Nai7oHXfccYtXCwAAAAB2E8VAOGLECBG5dOlS2BVf1EYRQ4cOVTvUtyUzM1ON/qlNLIKUlpaq99lGjRplyjUDAAAAgH1EMRA+/PDDIhIIBN57772gQ5qmqUJVJ7JJkybJze3pg+iFqg4AAAAAoOOiGAgnTpyoFmvZtWtX0KHDhw9fvHhRRObMmdNuO7NnzxaRwsLCkpKSoEMvv/yyiDzwwAPZ2dmmXDMAAAAA2EcUA2FCQsKqVatE5NVXX33zzTf18qtXr65cuVJERo8e/Z3vfMf4R9asWbNw4cKFCxdeu3ZNL1y0aJF6z3DZsmU+n08v37p1qxpmXLNmTfTuAgAAAACsyhHVze58Pt/kyZNPnjyZnJycl5eXm5t75syZN954w+12p6SkHD16NGjK6JgxY06fPi0ily5dUqOLyv79+xcsWCAiQ4cOffTRR9PT0w8fPnz48GFN02bOnFlQUOBwOG7lOtUf74H7/qHnq6qqYtsJAKFqamrYdgJAqLq6utraWradQAd1Q06JbiAUkcuXLy9cuPDdd981Fg4aNGj37t1Bw4PSdiAUkZ07d/70pz8N2oB+wYIFO3bsuPV/awmE6DICIYCwCIQAwiIQolOsEAhFRNO0o0ePHjp0qKKiwul05uTkzJs3r1+/fqE1P/jgA7Xf4KRJk0L3mq+srNy3b9/p06cbGhpcLtfs2bMffPBBU66QQIguIxACCItACCAsAiE6xSKBsOcjEKLLCIQAwiIQAgiLQIhO6YacEsVFZQAAAAAAPRmBEAAAAABsikAIAAAAADZFIAQAAAAAmyIQAgAAAIBNEQgBAAAAwKYIhAAAAABgUwRCAAAAALApAiEAAAAA2BSBEAAAAABsikAIAAAAADZFIAQAAAAAmyIQAgAAAIBNEQgBAAAAwKYIhAAAAABgUwRCAAAAALApAiEAAAAA2BSBEAAAAABsikAIAAAAADZFIAQAAAAAmyIQAgAAAIBNEQgBAAAAwKYIhAAAAABgU0mxvoAexOFwxPoSAAAAAKD7MEIIAAAAADbl0DQt1tcAxLHc3Nx33nnn6NGjubm5sb4WAD3I0qVLX3zxxa1bty5dujTW1wKgB9m4ceOaNWtWr169cePGWF8LIMIIIQAAAADYFoEQAAAAAGyKQAgAAAAANkUgBAAAAACbIhACAAAAgE0RCAEAAADApgiEAAAAAGBTBEIAAAAAsCkCIQAAAADYlEPTtFhfAwAAAAAgBhghBAAAAACbIhACAAAAgE0RCAEAAADApgiEAAAAAGBTBEIAAAAAsCkCIQAAAADYFIEQAAAAAGyKQAgAAAAANkUgBAAAAACbIhACAAAAgE0lxfoCgJ6rpKTkwoULiYmJw4cP//rXv961Rtxud0lJidfrdblcY8eOdTgcESoHAoEvvvji7NmzqampY8aMGThwYNdOCsAU3d8JNDc3FxUVVVRUOJ3OMWPGpKend+2kAKLKlM6hrq6uuLj4yy+/zMjIGD9+fO/evSPXr6ysPHv2bH19/T333ONyubp2UiAMDUCII0eO3HPPPcZvyoQJE06ePNmpRj777LNp06YZH/5cLteePXvCVvb5fL/5zW++9rWvGU86bNiwgoICM24IQOd0fyegadqmTZsyMjL0yklJSfPnz6+qqrrluwFgGlM6h/r6+ieeeMKYAJ1O57p16xobG8PW37t3b2ZmpvGk/fv3//3vf99WfaBTCIRAsNdeey0h4avZ1Lfddltqaqr63KtXr2PHjnWwkdLSUn18LykpqX///nonvmHDhqDK6tc+ddThcNx5550DBgzQ6y9evNjsWwQQSfd3ApqmrVy5Uq8waNAg/QLuuusuMiHQQ5jSOfh8vokTJ+rfd+NEgJkzZ/r9/qD6ixYtMlbOzs7W/+/YsWM9Ho/ZdwnbIRACrVRWVvbt21c9kB05cqSxsdHr9R44cED9jHfHHXc0NDR0pJ0JEyaISEJCwtatW69du+b3+wsLC4cNG6YKi4qKjJV//vOfq5596dKltbW1qrCoqOgb3/iGKt+9e7f5twognJh0Av/4xz/Ul33SpEkfffSRpmlXrlz57W9/qwrnzJkTlVsF0BlmdQ4/+9nP1Fd72bJlFy9e1DTt3Llzc+bMUYXPPfecsfLBgwdV+eTJk8+dO6cKL1269P3vf1+V//CHPzT9TmE3BEKglbVr16qf84N+6tu/f7/qeZ9//vl2G3nrrbdU5fXr1xvLz549269fPxGZN2+eXuh2u1NSUkQkLy8vqB2Px3P33XeLSGZm5i3cE4BO6P5OQNM0NVzgcrmCBgOfeOIJEXE4HB9//PEt3BMAE5jSOVRXV6vXQ/Ly8oyDgV6vNycnRwVL40TQ0aNHi0hGRkboSOCCBQvUefWgCHQNgRBo5a677mrr93iVzaZMmdJuI+p3u4yMjNDJ/YsXLxaR1NRUr9erSl555RXVoYedbfLcc8+poxUVFZ2/GwCd1v2dwOeffx52ZEDTtPLycnXoV7/6VZfuBoBpTOkcXnrpJfWlLi4uDjqkPw8cPXpUleg9wNNPPx3aVHFxsTr65z//ufN3A7Rg2wmgRWlpqXoymzFjRujRmTNnisjx48cbGhoit/PPf/5TRKZNm5acnBy2EZ/Pd+zYMVXy6aefiojD4Rg/fnxoU+qnQRE5c+ZMJ+4EQJfEpBNQlcOeNCsra9y4cSJy+PDhzt0JAFOZ2zlkZ2ffd999QYfy8vISExPF8H1XTwgiogYPg4waNUqtWcUTAm4RgRBo8b///U99CJvNcnNzRaS5ubm0tDRCIx6Px+12R25EDL38/fffv3r16tAlRpUvvvhCfcjKyurgXQDosph0Auqk/fr1C7t4vaqvVwYQE6Z0Dno7YRsZMGCASon69z09PX316tWrV68OGwjLy8s1TROeEHDL2IcQaHHhwgX14c477ww9qheeP3/+3nvvbauR8+fPR2jE6XSmpaXV1tbq1ebOnTt37tywTfn9/s2bN4uIy+UaMmRIR28DQFfFpBNQJ21rVzHVSE1NTW1tbVpaWgdvBIC5TOkc9HbCNqLKi4qK9M5h7NixY8eObasp9VJJQkLClClT2r8BoG2MEAIt6urq1IewT1164bVr17rciF4euRERaWpqWrx48X//+18Reeqpp9Q0EgBRFZNOQNWPXLndkwKIKlM6BxHxeDxtNSIdfkIQkW3btm3atElEFixYMHz48HbrAxEQCIEWXq9XRJKTk/Vdhoz0DWTr6+vbbURE9O2JwrYTuZHCwsKJEye+/PLLIvKDH/xgyZIl7V89gFsWk05A1Y9cud2TAogqUzoHn88XCATk1p4QLl68uGDBgmXLlmmaNm7cuC1btnTsDoA2EQiBFklJSSLi9/vDHm1qalIf1DvckRtpt522GikrK8vPz3/ooYeKiooSExPXrl27ffv2yGcEYJaYdAKmnBRAVPWEJ4T6+vpf//rXI0aMUBtdzJgx4+2331Y72QC3gncIYWWffvqpvqNrBPn5+enp6SLSp08fEQkEAk1NTaFrA/p8PvVB7UvbFtWIsX7YdkIbaW5u3rhx4+9+9zv1M+SECRM2bdqk9rYG0D1i0gmo+pErt3tSAFFlSueQlJSUkpLS2NjY2ScEESkoKPjJT36iNqLIyspav359fn5+5+8DCINACCv78MMPV61a1W61b37zmyoQqv8VkcrKytA1uy5fvqw+DBo0KEJrxkZCj2qaVlVVFdpIZWXl3Llzjx8/LiLDhg175pln5s+f3+6VAzBXTDoBVT9sZf2kDodj4MCBHbsJAOYzpXNQ7bjd7sjf96BG/H7/j3/8423btolIWlra2rVrV65cqU9SBW4dgRBWlpOTs2HDhnarZWZmqg8jRoxQHy5cuBDa3X/22Wfqw8iRIyO0NmTIEPX7n74imZHb7W5sbAxqpK6ubvr06adOnUpOTv7FL37x1FNPpaSktHvZAEwXk05AnbS8vDzsyIM6aXZ2dtidaQB0D1M6B9WO2+0O2zno7QQ1snTp0p07d4rIvHnzNm/enJGR0fnLByIhEMLKRo0aNWrUqI7Xv++++5KSkpqbm0+cOBG6iHNhYaGIDBw4sK3VopXExMSxY8d+8MEHJ06cCD2qGhGR+++/Xy987LHHTp065XQ633jjjalTp3b8ggGYKyadgNphrLGxsaioKHSWuKpv7DEAdD9TOgcRycnJOXr06Icffuj3+4PWD6+urlYbThi/7xs2bNi5c6fD4Xj22Wc7MukJ6AIWlQFa9OvXb/LkySKiXtc28vv9f/3rX0XkkUceCbvCmNEjjzwiIkeOHPnyyy+DDqmWXS6XvrNQcXHxm2++KSI7duwgDQKxFZNOIDc3V83+Cj1pSUnJJ598IiKzZs3q0g0BMIe5nYPH43nrrbeCDr366qvqw8yZM9WHxsbGZ599VkSWL19OGkQUaQAM9u3bp74af/nLX4zl+tTT999/P6j+li1btmzZ4vV69cKysjI151OtCq07ceKE+jlw/fr1euHSpUtFxOVyReeGAHRO93cCmqYtX75cRPr06XP+/Hm9MBAIqOfC9PR0j8dj5k0C6DxTOge/3z969GgRGTdunM/n08uvXr2qZqJOnz5dL9y7d69q+cKFC1G7LUAjEAKtBAIB9RNgr1691q1bd/z48bfffnvFihXqN7/8/Pyg+qpbF5FLly4Zy9etW6fKv/e97/39738vLCx85pln1Iazw4cPr6+v12s+8MADIpKcnDwwonPnznXH/QO21/2dgKZpbrdbLVmRnZ39xz/+8dSpU/v27cvLy1MtbN++Peq3DaA9ZnUOBw8eVH9k0qRJu3fvLi4u3rJli6rcu3fv4uJiveaTTz6pWoj8hPDSSy91x/3DugiEQLDKysrx48eHDqdPmzbN+COf0lZ37/f7H3/88dBG7r777rNnzxprDhgwILRaqJKSkqjfOQBN07q9E1Dee+89fRlDncPh+OUvfxnFWwXQGaZ0Dpqmbd68OXQFqb59+xYUFBirzZ07tyNPCFu2bInubcPqHJqmdeSvGmArjY2NO3bsOHDgwIULFxITE0eOHJmfn//YY4+F7hX7wgsvqBXkn3zyydCNg/72t7/t2rXr9OnTDQ0NLpdr9uzZy5cvN1bz+/1PP/10R76GK1asaHcxawBm6bZOwKiysvL5558/dOhQRUWF0+nMyclZtmzZww8/HI0bBNA1ZnUOxcXFL7zwwvHjx2tqagYPHpybm7tixYohQ4YY6+zcuVNtPBjZjBkz1GwjoGsIhAAAAABgU6wyCgAAAAA2RSAEAAAAAJsiEAIAAACATREIAQAAAMCmCIQAAAAAYFMEQgAAAACwKQIhAAAAANgUgRAAAAAAbIpACAAAAAA2RSAEAAAAAJsiEAIAAACATREIAQAAAMCmCIQAAAAAYFMEQgAAAACwKQIhAAAAANgUgRAAAAAAbIpACAAAAAA2RSAEAAAAAJsiEAIAAACATREIAQAAAMCmCIQAAAAAYFMEQgAAAACwKQIhAAAAANgUgRAAAAAAbIpACAAAAAA2RSAEAAAAAJsiEAIAAACATREIAQAAAMCmCIQAAAAAYFMEQgAAAACwKQIhAAAAANgUgRAAAAAAbIpACAAAAAA2RSAEAAAAAJv6Pyuz/55luasrAAAAAElFTkSuQmCC\"/>"
      ]
     },
     "execution_count": 18,
     "metadata": {},
     "output_type": "execute_result"
    }
   ],
   "source": [
    "lines(Bₙ[1,:], zₛ[1,:])\n",
    "\n"
   ]
  },
  {
   "cell_type": "code",
   "execution_count": null,
   "id": "2d918f3e-77be-48f0-8e5a-719472cd0be1",
   "metadata": {},
   "outputs": [],
   "source": [
    "#lines(Bₙ[1,:], H[1,:])"
   ]
  }
 ],
 "metadata": {
  "kernelspec": {
   "display_name": "Julia 1.9.3",
   "language": "julia",
   "name": "julia-1.9"
  },
  "language_info": {
   "file_extension": ".jl",
   "mimetype": "application/julia",
   "name": "julia",
   "version": "1.9.3"
  }
 },
 "nbformat": 4,
 "nbformat_minor": 5
}
